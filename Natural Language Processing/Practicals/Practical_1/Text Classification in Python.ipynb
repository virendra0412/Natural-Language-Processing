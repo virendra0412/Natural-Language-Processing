{
 "cells": [
  {
   "cell_type": "markdown",
   "metadata": {},
   "source": [
    "<strong><b><font size=\"6\">Introduction to Text Preprocessing, Analysis and Modelling in Python</font></b></strong>"
   ]
  },
  {
   "cell_type": "markdown",
   "metadata": {
    "toc": true
   },
   "source": [
    "<h1>Table of Contents<span class=\"tocSkip\"></span></h1>\n",
    "<div class=\"toc\"><ul class=\"toc-item\"><li><span><a href=\"#Business-use-cases-of-text-classification\" data-toc-modified-id=\"Business-use-cases-of-text-classification-1\"><span class=\"toc-item-num\">1&nbsp;&nbsp;</span>Business use cases of text classification</a></span></li><li><span><a href=\"#Importing-Libraries\" data-toc-modified-id=\"Importing-Libraries-2\"><span class=\"toc-item-num\">2&nbsp;&nbsp;</span>Importing Libraries</a></span></li><li><span><a href=\"#Natural-Language-Processing-libraries\" data-toc-modified-id=\"Natural-Language-Processing-libraries-3\"><span class=\"toc-item-num\">3&nbsp;&nbsp;</span>Natural Language Processing libraries</a></span></li><li><span><a href=\"#Download-and-Inspect-the-IMDB-Movie-Reviews-Dataset\" data-toc-modified-id=\"Download-and-Inspect-the-IMDB-Movie-Reviews-Dataset-4\"><span class=\"toc-item-num\">4&nbsp;&nbsp;</span>Download and Inspect the IMDB Movie Reviews Dataset</a></span></li><li><span><a href=\"#Text-Preprocessing\" data-toc-modified-id=\"Text-Preprocessing-5\"><span class=\"toc-item-num\">5&nbsp;&nbsp;</span>Text Preprocessing</a></span><ul class=\"toc-item\"><li><span><a href=\"#Lower-casing\" data-toc-modified-id=\"Lower-casing-5.1\"><span class=\"toc-item-num\">5.1&nbsp;&nbsp;</span>Lower casing</a></span></li><li><span><a href=\"#Punctuation-removal\" data-toc-modified-id=\"Punctuation-removal-5.2\"><span class=\"toc-item-num\">5.2&nbsp;&nbsp;</span>Punctuation removal</a></span></li><li><span><a href=\"#Identifying-and-Remove-Stop-Words\" data-toc-modified-id=\"Identifying-and-Remove-Stop-Words-5.3\"><span class=\"toc-item-num\">5.3&nbsp;&nbsp;</span>Identifying and Remove Stop Words</a></span></li><li><span><a href=\"#Tokenize-Text-in-Words\" data-toc-modified-id=\"Tokenize-Text-in-Words-5.4\"><span class=\"toc-item-num\">5.4&nbsp;&nbsp;</span>Tokenize Text in Words</a></span></li><li><span><a href=\"#NLTK-Word-Stemming\" data-toc-modified-id=\"NLTK-Word-Stemming-5.5\"><span class=\"toc-item-num\">5.5&nbsp;&nbsp;</span>NLTK Word Stemming</a></span></li><li><span><a href=\"#Lemmatizing-Words-Using-WordNet\" data-toc-modified-id=\"Lemmatizing-Words-Using-WordNet-5.6\"><span class=\"toc-item-num\">5.6&nbsp;&nbsp;</span>Lemmatizing Words Using <a href=\"https://wordnet.princeton.edu/\" target=\"_blank\">WordNet</a></a></span></li><li><span><a href=\"#Stemming-and-Lemmatization-Difference\" data-toc-modified-id=\"Stemming-and-Lemmatization-Difference-5.7\"><span class=\"toc-item-num\">5.7&nbsp;&nbsp;</span>Stemming and Lemmatization Difference</a></span></li><li><span><a href=\"#Plotting-Frequencies-of-Words\" data-toc-modified-id=\"Plotting-Frequencies-of-Words-5.8\"><span class=\"toc-item-num\">5.8&nbsp;&nbsp;</span>Plotting Frequencies of Words</a></span></li><li><span><a href=\"#Removing-frequent-unimportant-words\" data-toc-modified-id=\"Removing-frequent-unimportant-words-5.9\"><span class=\"toc-item-num\">5.9&nbsp;&nbsp;</span>Removing frequent unimportant words</a></span></li></ul></li><li><span><a href=\"#Advanced-processing-and-Modelling:\" data-toc-modified-id=\"Advanced-processing-and-Modelling:-6\"><span class=\"toc-item-num\">6&nbsp;&nbsp;</span>Advanced processing and Modelling:</a></span><ul class=\"toc-item\"><li><span><a href=\"#Build-a-bag-of-words-Naive-Bayes-model\" data-toc-modified-id=\"Build-a-bag-of-words-Naive-Bayes-model-6.1\"><span class=\"toc-item-num\">6.1&nbsp;&nbsp;</span>Build a bag-of-words Naive Bayes model</a></span></li><li><span><a href=\"#n-grams\" data-toc-modified-id=\"n-grams-6.2\"><span class=\"toc-item-num\">6.2&nbsp;&nbsp;</span>n-grams</a></span></li><li><span><a href=\"#Term-Frequency-and-Inverse-Document-Frequency\" data-toc-modified-id=\"Term-Frequency-and-Inverse-Document-Frequency-6.3\"><span class=\"toc-item-num\">6.3&nbsp;&nbsp;</span>Term Frequency and Inverse Document Frequency</a></span></li><li><span><a href=\"#Term-Frequency-Inverse-Document-Frequency-(TF-IDF)---Random-Forest\" data-toc-modified-id=\"Term-Frequency-Inverse-Document-Frequency-(TF-IDF)---Random-Forest-6.4\"><span class=\"toc-item-num\">6.4&nbsp;&nbsp;</span>Term Frequency-Inverse Document Frequency (TF-IDF) - Random Forest</a></span></li><li><span><a href=\"#NLTK-VADER-Sentiment-Intensity-Analyzer:\" data-toc-modified-id=\"NLTK-VADER-Sentiment-Intensity-Analyzer:-6.5\"><span class=\"toc-item-num\">6.5&nbsp;&nbsp;</span>NLTK VADER Sentiment Intensity Analyzer:</a></span></li><li><span><a href=\"#Topic-Modelling-using-Latent-Dirichlet-Allocation-(gensim)\" data-toc-modified-id=\"Topic-Modelling-using-Latent-Dirichlet-Allocation-(gensim)-6.6\"><span class=\"toc-item-num\">6.6&nbsp;&nbsp;</span>Topic Modelling using Latent Dirichlet Allocation (gensim)</a></span></li><li><span><a href=\"#Word-Embedding---word-vectors\" data-toc-modified-id=\"Word-Embedding---word-vectors-6.7\"><span class=\"toc-item-num\">6.7&nbsp;&nbsp;</span>Word Embedding - word vectors</a></span></li></ul></li><li><span><a href=\"#Improving-Text-Classification-Models\" data-toc-modified-id=\"Improving-Text-Classification-Models-7\"><span class=\"toc-item-num\">7&nbsp;&nbsp;</span>Improving Text Classification Models</a></span></li><li><span><a href=\"#Solve-a-problem!\" data-toc-modified-id=\"Solve-a-problem!-8\"><span class=\"toc-item-num\">8&nbsp;&nbsp;</span>Solve a problem!</a></span></li></ul></div>"
   ]
  },
  {
   "cell_type": "markdown",
   "metadata": {},
   "source": [
    "## Business use cases of text classification\n",
    "- __Customer profiling__\n",
    "- __Sentiment classification__\n",
    "- __Category assignment - medical & technical papers, reviews, comments, website content (SEO)__\n",
    "- __Social media emergency/trend response__\n",
    "- __Spam filtering__\n",
    "- __Toxic comment identification__"
   ]
  },
  {
   "cell_type": "markdown",
   "metadata": {},
   "source": [
    "## Importing Libraries"
   ]
  },
  {
   "cell_type": "code",
   "execution_count": 1,
   "metadata": {
    "scrolled": true
   },
   "outputs": [],
   "source": [
    "import warnings\n",
    "warnings.filterwarnings(\"ignore\")\n",
    "\n",
    "import pandas as pd\n",
    "import string\n",
    "\n",
    "#nltk\n",
    "import nltk\n",
    "from nltk.corpus import stopwords\n",
    "from nltk.tokenize import word_tokenize, sent_tokenize\n",
    "from nltk.stem import PorterStemmer, WordNetLemmatizer\n",
    "from nltk import tokenize\n",
    "from nltk.corpus import subjectivity\n",
    "from nltk.sentiment import SentimentAnalyzer, SentimentIntensityAnalyzer\n",
    "from nltk.sentiment.util import *\n",
    "\n",
    "#sci-kit learn\n",
    "from sklearn.feature_extraction.text import CountVectorizer, TfidfVectorizer\n",
    "import numpy as np\n",
    "from sklearn.metrics import (accuracy_score, roc_auc_score, confusion_matrix, roc_curve, auc, \n",
    "                             mean_squared_error, log_loss, precision_recall_curve, classification_report, \n",
    "                             precision_recall_fscore_support)\n",
    "from sklearn import preprocessing\n",
    "from sklearn.model_selection import train_test_split, GridSearchCV, validation_curve\n",
    "from sklearn.ensemble import RandomForestClassifier\n",
    "from sklearn.naive_bayes import MultinomialNB\n",
    "import scikitplot as skplt\n",
    "\n",
    "# Gensim\n",
    "import gensim\n",
    "import gensim.corpora as corpora\n",
    "from gensim.utils import simple_preprocess\n",
    "from gensim.models import CoherenceModel\n",
    "from gensim.models import word2vec\n",
    "\n",
    "from collections import Counter\n",
    "%matplotlib inline\n",
    "import matplotlib.pyplot as plt\n",
    "import seaborn as sns\n",
    "from pprint import pprint"
   ]
  },
  {
   "cell_type": "markdown",
   "metadata": {},
   "source": [
    "## Natural Language Processing libraries\n",
    "\n",
    "- __[nltk](https://www.nltk.org/api/nltk.html)__ is the most popular Python package for Natural Language processing, it provides algorithms for __importing, cleaning, pre-processing text data__ in human language and then __apply computational linguistics algorithms like sentiment analysis__.\n",
    "- __[gensim](https://radimrehurek.com/gensim/)__ is a robust open-source vector space modeling and topic modeling toolkit implemented in Python. It uses NumPy, SciPy and optionally Cython for performance.\n",
    "- __[spaCy](https://spacy.io/)__ is an extremely optimized NLP library that is meant to be operated together with deep learning frameworks such as TensorFlow or PyTorch."
   ]
  },
  {
   "cell_type": "markdown",
   "metadata": {},
   "source": [
    "## Download and Inspect the IMDB Movie Reviews Dataset\n",
    "- Labeled movie reviews data as either positive or negative reviews\n",
    "- We can download the __movie_reviews__ package using the nltk.download function:"
   ]
  },
  {
   "cell_type": "code",
   "execution_count": 2,
   "metadata": {},
   "outputs": [
    {
     "name": "stdout",
     "output_type": "stream",
     "text": [
      "[nltk_data] Downloading package movie_reviews to C:\\Users\\save\n",
      "[nltk_data]     advait\\AppData\\Roaming\\nltk_data...\n",
      "[nltk_data]   Package movie_reviews is already up-to-date!\n"
     ]
    },
    {
     "data": {
      "text/plain": [
       "True"
      ]
     },
     "execution_count": 2,
     "metadata": {},
     "output_type": "execute_result"
    }
   ],
   "source": [
    "nltk.download(\"movie_reviews\")"
   ]
  },
  {
   "cell_type": "code",
   "execution_count": 3,
   "metadata": {},
   "outputs": [],
   "source": [
    "from nltk.corpus import movie_reviews"
   ]
  },
  {
   "cell_type": "code",
   "execution_count": 4,
   "metadata": {},
   "outputs": [
    {
     "data": {
      "text/plain": [
       "2000"
      ]
     },
     "execution_count": 4,
     "metadata": {},
     "output_type": "execute_result"
    }
   ],
   "source": [
    "len(movie_reviews.fileids())"
   ]
  },
  {
   "cell_type": "code",
   "execution_count": 5,
   "metadata": {},
   "outputs": [
    {
     "data": {
      "text/plain": [
       "['neg/cv000_29416.txt',\n",
       " 'neg/cv001_19502.txt',\n",
       " 'neg/cv002_17424.txt',\n",
       " 'neg/cv003_12683.txt',\n",
       " 'neg/cv004_12641.txt']"
      ]
     },
     "execution_count": 5,
     "metadata": {},
     "output_type": "execute_result"
    }
   ],
   "source": [
    "movie_reviews.fileids()[:5]"
   ]
  },
  {
   "cell_type": "code",
   "execution_count": 6,
   "metadata": {},
   "outputs": [
    {
     "data": {
      "text/plain": [
       "['pos/cv995_21821.txt',\n",
       " 'pos/cv996_11592.txt',\n",
       " 'pos/cv997_5046.txt',\n",
       " 'pos/cv998_14111.txt',\n",
       " 'pos/cv999_13106.txt']"
      ]
     },
     "execution_count": 6,
     "metadata": {},
     "output_type": "execute_result"
    }
   ],
   "source": [
    "movie_reviews.fileids()[-5:]"
   ]
  },
  {
   "cell_type": "markdown",
   "metadata": {},
   "source": [
    "- __fileids__ can also filter the available files based on their category, which is the name of the subfolders they are located in. Therefore we can have lists of positive and negative reviews separately."
   ]
  },
  {
   "cell_type": "code",
   "execution_count": 7,
   "metadata": {},
   "outputs": [],
   "source": [
    "negative_fileids = movie_reviews.fileids('neg')\n",
    "positive_fileids = movie_reviews.fileids('pos')"
   ]
  },
  {
   "cell_type": "code",
   "execution_count": 8,
   "metadata": {},
   "outputs": [
    {
     "data": {
      "text/plain": [
       "(1000, 1000)"
      ]
     },
     "execution_count": 8,
     "metadata": {},
     "output_type": "execute_result"
    }
   ],
   "source": [
    "len(negative_fileids), len(positive_fileids)"
   ]
  },
  {
   "cell_type": "markdown",
   "metadata": {},
   "source": [
    "- We can inspect one of the reviews using the raw method of movie_reviews, each file is split into sentences, the curators of this dataset also removed from each review from any direct mention of the rating of the movie."
   ]
  },
  {
   "cell_type": "code",
   "execution_count": 9,
   "metadata": {
    "scrolled": true
   },
   "outputs": [
    {
     "name": "stdout",
     "output_type": "stream",
     "text": [
      "by phil curtolo mel gibson ( braveheart ) gave a gripping performance as the father of a young kidnapped boy in ron howard's ransom . \n",
      "gibson plays tom mullen , a wealthy business tycoon whose past actions are coming back to haunt him as a deranged psychopath , played by gary sinise ( forrest gump ) , and his band of low-life thugs kidnap his only son for $2 million . \n",
      "tom and his wife , kate , played by rene russo ( tin cup ) were instructed not to inform the police , but they contacted the fbi . \n",
      "minutes later , an elite team of agents led by delroy lindo ( broken arrow ) are in tom's house and wiring every phone . \n",
      "the plot sounds average , just like most other kidnap movies that you've already seen , and it was nothing more than that . \n",
      "that is until about half-way through the movie . \n",
      "suddenly , tom goes to the fox 5 news room and makes a live broadcast saying , \" this is your ransom . \n",
      "but this is as close as you will ever get to it . \n",
      "instead , i am offering this money as a reward on your head , dead or alive . \" \n",
      "at this point , the plot thickened , and the unusually slow start of the film turned into a suspense-filled action film with great stunts . \n",
      "the last half of the film is very well done . \n",
      "another thing that carries this film are the superb performances by gibson and sinise , as they collide in a game of wits over their cellular phones for most of the movie . \n",
      "owen gleiberman of entertainment weekly commented on the subject : \" it makes you wonder what kidnappers did before cell phones . \" \n",
      "before this movie , sinise played mostly \" good guys , \" first in of mice & men , then in forrest gump , and most recently , in apollo 13 . \n",
      "but he was surprisingly devilish and cold in his portrayal of a cop-gone-bad . \n",
      "gibson , of course , was just being gibson , in an oscar-worthy performance . \n",
      "although most of the scenes were quite predictable , ransom is a very entertaining and suspenseful film . \n",
      " , \n",
      "\n"
     ]
    }
   ],
   "source": [
    "print(movie_reviews.raw(fileids=positive_fileids[20]))"
   ]
  },
  {
   "cell_type": "markdown",
   "metadata": {},
   "source": [
    "## Text Preprocessing\n",
    "\n",
    "- Natural Language Processing (NLP) is all about leveraging tools, techniques and algorithms to process and understand natural language-based data, which is usually unstructured like text, speech and so on. \n",
    "\n",
    "<div style=\"text-align: center;\">\n",
    "        \n",
    "        <img src=\"https://cdn-images-1.medium.com/max/1250/1*BiVCmiQtCBIdBNcaOKjurg.png\"  height=\"600\" width=\"800\">\n",
    "</div>\n",
    "\n",
    "- Pre-processing of text data is done in order to extract better features from the cleaned data\n",
    "- Text cleaning is task specific\n",
    " - Case, punctuations, markup, languages, hyphens, section markers, spellings etc. all need to be handled based on context\n",
    " \n",
    "Image source: [A practitioner's guide to natural language processing - Part 1](https://towardsdatascience.com/a-practitioners-guide-to-natural-language-processing-part-i-processing-understanding-text-9f4abfd13e72)"
   ]
  },
  {
   "cell_type": "code",
   "execution_count": 10,
   "metadata": {},
   "outputs": [
    {
     "data": {
      "text/plain": [
       "'neg/cv002_17424.txt'"
      ]
     },
     "execution_count": 10,
     "metadata": {},
     "output_type": "execute_result"
    }
   ],
   "source": [
    "negative_fileids[2]"
   ]
  },
  {
   "cell_type": "code",
   "execution_count": 11,
   "metadata": {},
   "outputs": [],
   "source": [
    "negative_features = pd.DataFrame(\n",
    "    {'review':movie_reviews.raw(fileids=[f]),'label': 'neg'} for f in negative_fileids\n",
    ")"
   ]
  },
  {
   "cell_type": "code",
   "execution_count": 12,
   "metadata": {},
   "outputs": [],
   "source": [
    "positive_features = pd.DataFrame(\n",
    "    {'review':movie_reviews.raw(fileids=[f]),'label': 'pos'} for f in positive_fileids\n",
    ")"
   ]
  },
  {
   "cell_type": "code",
   "execution_count": 13,
   "metadata": {
    "scrolled": false
   },
   "outputs": [
    {
     "data": {
      "text/html": [
       "<div>\n",
       "<style scoped>\n",
       "    .dataframe tbody tr th:only-of-type {\n",
       "        vertical-align: middle;\n",
       "    }\n",
       "\n",
       "    .dataframe tbody tr th {\n",
       "        vertical-align: top;\n",
       "    }\n",
       "\n",
       "    .dataframe thead th {\n",
       "        text-align: right;\n",
       "    }\n",
       "</style>\n",
       "<table border=\"1\" class=\"dataframe\">\n",
       "  <thead>\n",
       "    <tr style=\"text-align: right;\">\n",
       "      <th></th>\n",
       "      <th>label</th>\n",
       "      <th>review</th>\n",
       "    </tr>\n",
       "  </thead>\n",
       "  <tbody>\n",
       "    <tr>\n",
       "      <th>0</th>\n",
       "      <td>pos</td>\n",
       "      <td>films adapted from comic books have had plenty...</td>\n",
       "    </tr>\n",
       "    <tr>\n",
       "      <th>1</th>\n",
       "      <td>pos</td>\n",
       "      <td>every now and then a movie comes along from a ...</td>\n",
       "    </tr>\n",
       "    <tr>\n",
       "      <th>2</th>\n",
       "      <td>pos</td>\n",
       "      <td>you've got mail works alot better than it dese...</td>\n",
       "    </tr>\n",
       "    <tr>\n",
       "      <th>3</th>\n",
       "      <td>pos</td>\n",
       "      <td>\" jaws \" is a rare film that grabs your atten...</td>\n",
       "    </tr>\n",
       "    <tr>\n",
       "      <th>4</th>\n",
       "      <td>pos</td>\n",
       "      <td>moviemaking is a lot like being the general ma...</td>\n",
       "    </tr>\n",
       "  </tbody>\n",
       "</table>\n",
       "</div>"
      ],
      "text/plain": [
       "  label                                             review\n",
       "0   pos  films adapted from comic books have had plenty...\n",
       "1   pos  every now and then a movie comes along from a ...\n",
       "2   pos  you've got mail works alot better than it dese...\n",
       "3   pos   \" jaws \" is a rare film that grabs your atten...\n",
       "4   pos  moviemaking is a lot like being the general ma..."
      ]
     },
     "execution_count": 13,
     "metadata": {},
     "output_type": "execute_result"
    }
   ],
   "source": [
    "positive_features.head()"
   ]
  },
  {
   "cell_type": "markdown",
   "metadata": {},
   "source": [
    "### Lower casing"
   ]
  },
  {
   "cell_type": "code",
   "execution_count": 14,
   "metadata": {},
   "outputs": [],
   "source": [
    "positive_features.review = positive_features.review.apply(lambda x:x.lower())"
   ]
  },
  {
   "cell_type": "code",
   "execution_count": 15,
   "metadata": {},
   "outputs": [],
   "source": [
    "negative_features.review = negative_features.review.apply(lambda x:x.lower())"
   ]
  },
  {
   "cell_type": "markdown",
   "metadata": {},
   "source": [
    "### Punctuation removal"
   ]
  },
  {
   "cell_type": "code",
   "execution_count": 16,
   "metadata": {},
   "outputs": [
    {
     "data": {
      "text/plain": [
       "\"you've got mail works alot better than it deserves to . \\nin order to make the film a success , all they had to do was cast two extremely popular and attractive stars , have them share the screen for about two hours and then collect the profits . \\nno real acting was involved and there is not an original or inventive bone in it's body ( it's basically a complete re-shoot of the shop around the corner , only adding a few modern twists ) . \\nessentially , it goes against and defies all concepts of good contemporary filmmaking . \\nit's overly sentimental and at times terribly mushy , not to mention very manipulative . \\nbut oh , how enjoyable that manipulation is . \\nbut there must be something other than the casting and manipulation that makes the movie work as well as it does , because i absolutely hated the previous ryan/hanks teaming , sleepless in seattle . \\nit couldn't have been the directing , because both films were helmed by the same woman . \\ni haven't quite yet figured out what i liked so much about you've got mail , but then again , is that really important ? \\nif you like something so much , why even question it ? \\nagain , the storyline is as cliched as they come . \\ntom hanks plays joe fox , the insanely likeable owner of a discount book chain and meg ryan plays kathleen kelley , the even more insanely likeable proprietor of a family-run children's book shop called , in a nice homage , the shop around the corner . \\nfox and kelley soon become bitter rivals because the new fox books store is opening up right across the block from the small business . \\nlittle do they know , they are already in love with each other over the internet , only neither party knows the other person's true identity . \\nthe rest of the story isn't important because all it does is serve as a mere backdrop for the two stars to share the screen . \\nsure , there are some mildly interesting subplots , but they all fail in comparison to the utter cuteness of the main relationship . \\nall of this , of course , leads up to the predictable climax . \\nbut as foreseeable as the ending is , it's so damn cute and well-done that i doubt any movie in the entire year contains a scene the evokes as much pure joy as this part does . \\nwhen ryan discovers the true identity of her online love , i was filled with such , for lack of a better word , happiness that for the first time all year , i actually left the theater smiling . \\n\""
      ]
     },
     "execution_count": 16,
     "metadata": {},
     "output_type": "execute_result"
    }
   ],
   "source": [
    "positive_features.review[2]"
   ]
  },
  {
   "cell_type": "code",
   "execution_count": 17,
   "metadata": {},
   "outputs": [
    {
     "data": {
      "text/plain": [
       "[\"you've\", 'got', 'mail', 'works', 'alot']"
      ]
     },
     "execution_count": 17,
     "metadata": {},
     "output_type": "execute_result"
    }
   ],
   "source": [
    "positive_features.review[2].split()[0:5]"
   ]
  },
  {
   "cell_type": "code",
   "execution_count": 18,
   "metadata": {},
   "outputs": [
    {
     "data": {
      "text/plain": [
       "['\"', '#', '$', '%', '&', \"'\", '(', ')', '*']"
      ]
     },
     "execution_count": 18,
     "metadata": {},
     "output_type": "execute_result"
    }
   ],
   "source": [
    "punctuations = list(string.punctuation)\n",
    "punctuations[1:10]"
   ]
  },
  {
   "cell_type": "code",
   "execution_count": 19,
   "metadata": {},
   "outputs": [],
   "source": [
    "positive_features.review = positive_features.review.apply(lambda x: \" \".join(x for x in x.split() if x not in punctuations))\n",
    "negative_features.review = negative_features.review.apply(lambda x: \" \".join(x for x in x.split() if x not in punctuations))"
   ]
  },
  {
   "cell_type": "code",
   "execution_count": 20,
   "metadata": {
    "scrolled": true
   },
   "outputs": [
    {
     "data": {
      "text/plain": [
       "\"you've got mail works alot better than it deserves to in order to make the film a success all they had to do was cast two extremely popular and attractive stars have them share the screen for about two hours and then collect the profits no real acting was involved and there is not an original or inventive bone in it's body it's basically a complete re-shoot of the shop around the corner only adding a few modern twists essentially it goes against and defies all concepts of good contemporary filmmaking it's overly sentimental and at times terribly mushy not to mention very manipulative but oh how enjoyable that manipulation is but there must be something other than the casting and manipulation that makes the movie work as well as it does because i absolutely hated the previous ryan/hanks teaming sleepless in seattle it couldn't have been the directing because both films were helmed by the same woman i haven't quite yet figured out what i liked so much about you've got mail but then again is that really important if you like something so much why even question it again the storyline is as cliched as they come tom hanks plays joe fox the insanely likeable owner of a discount book chain and meg ryan plays kathleen kelley the even more insanely likeable proprietor of a family-run children's book shop called in a nice homage the shop around the corner fox and kelley soon become bitter rivals because the new fox books store is opening up right across the block from the small business little do they know they are already in love with each other over the internet only neither party knows the other person's true identity the rest of the story isn't important because all it does is serve as a mere backdrop for the two stars to share the screen sure there are some mildly interesting subplots but they all fail in comparison to the utter cuteness of the main relationship all of this of course leads up to the predictable climax but as foreseeable as the ending is it's so damn cute and well-done that i doubt any movie in the entire year contains a scene the evokes as much pure joy as this part does when ryan discovers the true identity of her online love i was filled with such for lack of a better word happiness that for the first time all year i actually left the theater smiling\""
      ]
     },
     "execution_count": 20,
     "metadata": {},
     "output_type": "execute_result"
    }
   ],
   "source": [
    "positive_features.review[2]"
   ]
  },
  {
   "cell_type": "markdown",
   "metadata": {},
   "source": [
    "### Identifying and Remove Stop Words\n",
    "- A stop word is a commonly used word (such as “the”, “a”, “an”, “in”). \n",
    "- Removal of stopwords is necessary since they add noise without having any informational value in modeling."
   ]
  },
  {
   "cell_type": "markdown",
   "metadata": {},
   "source": [
    "__Download and check stopwords from nltk:__"
   ]
  },
  {
   "cell_type": "code",
   "execution_count": 21,
   "metadata": {},
   "outputs": [
    {
     "name": "stdout",
     "output_type": "stream",
     "text": [
      "[nltk_data] Downloading package stopwords to C:\\Users\\save\n",
      "[nltk_data]     advait\\AppData\\Roaming\\nltk_data...\n",
      "[nltk_data]   Package stopwords is already up-to-date!\n"
     ]
    },
    {
     "data": {
      "text/plain": [
       "True"
      ]
     },
     "execution_count": 21,
     "metadata": {},
     "output_type": "execute_result"
    }
   ],
   "source": [
    "nltk.download('stopwords')"
   ]
  },
  {
   "cell_type": "code",
   "execution_count": 22,
   "metadata": {},
   "outputs": [],
   "source": [
    "stop = stopwords.words('english')"
   ]
  },
  {
   "cell_type": "code",
   "execution_count": 23,
   "metadata": {},
   "outputs": [
    {
     "data": {
      "text/plain": [
       "['i', 'me', 'my', 'myself', 'we', 'our', 'ours', 'ourselves', 'you', \"you're\"]"
      ]
     },
     "execution_count": 23,
     "metadata": {},
     "output_type": "execute_result"
    }
   ],
   "source": [
    "stop[0:10]"
   ]
  },
  {
   "cell_type": "code",
   "execution_count": 24,
   "metadata": {},
   "outputs": [
    {
     "name": "stdout",
     "output_type": "stream",
     "text": [
      "Total stop words: 179\n"
     ]
    }
   ],
   "source": [
    "print('Total stop words:',len(stop))"
   ]
  },
  {
   "cell_type": "markdown",
   "metadata": {},
   "source": [
    "__Removing stopwords from reviews:__"
   ]
  },
  {
   "cell_type": "code",
   "execution_count": 25,
   "metadata": {},
   "outputs": [],
   "source": [
    "positive_features.review = positive_features.review.apply(lambda x: \" \".join(x for x in x.split() if x not in stop))\n",
    "negative_features.review = negative_features.review.apply(lambda x: \" \".join(x for x in x.split() if x not in stop))"
   ]
  },
  {
   "cell_type": "code",
   "execution_count": 26,
   "metadata": {},
   "outputs": [
    {
     "data": {
      "text/plain": [
       "\"got mail works alot better deserves order make film success cast two extremely popular attractive stars share screen two hours collect profits real acting involved original inventive bone body basically complete re-shoot shop around corner adding modern twists essentially goes defies concepts good contemporary filmmaking overly sentimental times terribly mushy mention manipulative oh enjoyable manipulation must something casting manipulation makes movie work well absolutely hated previous ryan/hanks teaming sleepless seattle directing films helmed woman quite yet figured liked much got mail really important like something much even question storyline cliched come tom hanks plays joe fox insanely likeable owner discount book chain meg ryan plays kathleen kelley even insanely likeable proprietor family-run children's book shop called nice homage shop around corner fox kelley soon become bitter rivals new fox books store opening right across block small business little know already love internet neither party knows person's true identity rest story important serve mere backdrop two stars share screen sure mildly interesting subplots fail comparison utter cuteness main relationship course leads predictable climax foreseeable ending damn cute well-done doubt movie entire year contains scene evokes much pure joy part ryan discovers true identity online love filled lack better word happiness first time year actually left theater smiling\""
      ]
     },
     "execution_count": 26,
     "metadata": {},
     "output_type": "execute_result"
    }
   ],
   "source": [
    "positive_features.review[2]"
   ]
  },
  {
   "cell_type": "markdown",
   "metadata": {},
   "source": [
    "### Tokenize Text in Words\n",
    "- Tokenizing text is important since text can’t be processed without tokenization. Tokenization process means splitting bigger parts to small parts.\n",
    "- You can tokenize paragraphs to sentences and tokenize sentences to words according to your needs. \n",
    "- NLTK is shipped with sentence tokenizer and word tokenizer.\n",
    "- Non english text can also be tokenized by specifying the language"
   ]
  },
  {
   "cell_type": "code",
   "execution_count": 27,
   "metadata": {
    "scrolled": true
   },
   "outputs": [
    {
     "name": "stdout",
     "output_type": "stream",
     "text": [
      "[nltk_data] Downloading package punkt to C:\\Users\\save\n",
      "[nltk_data]     advait\\AppData\\Roaming\\nltk_data...\n",
      "[nltk_data]   Package punkt is already up-to-date!\n"
     ]
    },
    {
     "data": {
      "text/plain": [
       "True"
      ]
     },
     "execution_count": 27,
     "metadata": {},
     "output_type": "execute_result"
    }
   ],
   "source": [
    "nltk.download('punkt')"
   ]
  },
  {
   "cell_type": "markdown",
   "metadata": {},
   "source": [
    "__Sentence Tokenizing:__"
   ]
  },
  {
   "cell_type": "code",
   "execution_count": 28,
   "metadata": {},
   "outputs": [
    {
     "data": {
      "text/plain": [
       "[\"got mail works alot better deserves order make film success cast two extremely popular attractive stars share screen two hours collect profits real acting involved original inventive bone body basically complete re-shoot shop around corner adding modern twists essentially goes defies concepts good contemporary filmmaking overly sentimental times terribly mushy mention manipulative oh enjoyable manipulation must something casting manipulation makes movie work well absolutely hated previous ryan/hanks teaming sleepless seattle directing films helmed woman quite yet figured liked much got mail really important like something much even question storyline cliched come tom hanks plays joe fox insanely likeable owner discount book chain meg ryan plays kathleen kelley even insanely likeable proprietor family-run children's book shop called nice homage shop around corner fox kelley soon become bitter rivals new fox books store opening right across block small business little know already love internet neither party knows person's true identity rest story important serve mere backdrop two stars share screen sure mildly interesting subplots fail comparison utter cuteness main relationship course leads predictable climax foreseeable ending damn cute well-done doubt movie entire year contains scene evokes much pure joy part ryan discovers true identity online love filled lack better word happiness first time year actually left theater smiling\"]"
      ]
     },
     "execution_count": 28,
     "metadata": {},
     "output_type": "execute_result"
    }
   ],
   "source": [
    "sent_tokenize(positive_features.review[2])"
   ]
  },
  {
   "cell_type": "markdown",
   "metadata": {},
   "source": [
    "__Word Tokenizing:__"
   ]
  },
  {
   "cell_type": "code",
   "execution_count": 29,
   "metadata": {},
   "outputs": [],
   "source": [
    "positive_features['review_tokenized'] = positive_features.review.apply(lambda x: word_tokenize(x))\n",
    "negative_features['review_tokenized'] = negative_features.review.apply(lambda x: word_tokenize(x))"
   ]
  },
  {
   "cell_type": "code",
   "execution_count": 30,
   "metadata": {},
   "outputs": [
    {
     "data": {
      "text/plain": [
       "0    [films, adapted, comic, books, plenty, success...\n",
       "1    [every, movie, comes, along, suspect, studio, ...\n",
       "2    [got, mail, works, alot, better, deserves, ord...\n",
       "3    [jaws, rare, film, grabs, attention, shows, si...\n",
       "4    [moviemaking, lot, like, general, manager, nfl...\n",
       "Name: review_tokenized, dtype: object"
      ]
     },
     "execution_count": 30,
     "metadata": {},
     "output_type": "execute_result"
    }
   ],
   "source": [
    "positive_features['review_tokenized'].head()"
   ]
  },
  {
   "cell_type": "markdown",
   "metadata": {},
   "source": [
    "### NLTK Word Stemming\n",
    "- Word stemming means removing affixes from words and return the root word. Ex: The stem of the word working => work.\n",
    "- Search engines use this technique when indexing pages, so many people write different versions for the same word and all of them are stemmed to the root word.\n",
    "- There are many algorithms for stemming, but the most used algorithm is Porter stemming algorithm.\n",
    "- NLTK has a class called PorterStemmer which uses Porter stemming algorithm."
   ]
  },
  {
   "cell_type": "code",
   "execution_count": 31,
   "metadata": {},
   "outputs": [
    {
     "name": "stdout",
     "output_type": "stream",
     "text": [
      "work\n"
     ]
    }
   ],
   "source": [
    "stemmer = PorterStemmer()\n",
    "print(stemmer.stem('working'))"
   ]
  },
  {
   "cell_type": "code",
   "execution_count": 32,
   "metadata": {},
   "outputs": [],
   "source": [
    "positive_features['review_stemmed'] = positive_features.review_tokenized.apply(lambda x: [stemmer.stem(word) for word in x])\n",
    "negative_features['review_stemmed'] = negative_features.review_tokenized.apply(lambda x: [stemmer.stem(word) for word in x])"
   ]
  },
  {
   "cell_type": "code",
   "execution_count": 33,
   "metadata": {},
   "outputs": [
    {
     "data": {
      "text/plain": [
       "0    [films, adapted, comic, books, plenty, success...\n",
       "1    [every, movie, comes, along, suspect, studio, ...\n",
       "2    [got, mail, works, alot, better, deserves, ord...\n",
       "3    [jaws, rare, film, grabs, attention, shows, si...\n",
       "4    [moviemaking, lot, like, general, manager, nfl...\n",
       "Name: review_tokenized, dtype: object"
      ]
     },
     "execution_count": 33,
     "metadata": {},
     "output_type": "execute_result"
    }
   ],
   "source": [
    "positive_features.review_tokenized.head()"
   ]
  },
  {
   "cell_type": "code",
   "execution_count": 34,
   "metadata": {},
   "outputs": [
    {
     "data": {
      "text/plain": [
       "0    [film, adapt, comic, book, plenti, success, wh...\n",
       "1    [everi, movi, come, along, suspect, studio, ev...\n",
       "2    [got, mail, work, alot, better, deserv, order,...\n",
       "3    [jaw, rare, film, grab, attent, show, singl, i...\n",
       "4    [moviemak, lot, like, gener, manag, nfl, team,...\n",
       "Name: review_stemmed, dtype: object"
      ]
     },
     "execution_count": 34,
     "metadata": {},
     "output_type": "execute_result"
    }
   ],
   "source": [
    "positive_features.review_stemmed.head()"
   ]
  },
  {
   "cell_type": "markdown",
   "metadata": {},
   "source": [
    "### Lemmatizing Words Using [WordNet](https://wordnet.princeton.edu/)\n",
    "\n",
    "__Wordnet:__\n",
    "- WordNet is a lexical database for the English language.\n",
    "- It groups English words into sets of synonyms called synsets, provides short definitions and usage examples, and records a number of relations among these synonym sets or their members. \n",
    "- WordNet can thus be seen as a combination of dictionary and thesaurus. While it is accessible to human users via a web browser, its primary use is in automatic text analysis and artificial intelligence applications.\n",
    "\n",
    "__Lemmatization:__\n",
    "- Lemmatization is a more effective option than stemming because it converts the word into its root word, rather than just stripping the suffices. \n",
    "- It makes use of the vocabulary and does a morphological analysis to obtain the root word. Therefore, we usually prefer using lemmatization over stemming.\n",
    "- Example: reduce words such as “am”, “are”, and “is” to a common form such as “be”"
   ]
  },
  {
   "cell_type": "code",
   "execution_count": 35,
   "metadata": {},
   "outputs": [
    {
     "name": "stdout",
     "output_type": "stream",
     "text": [
      "[nltk_data] Downloading package wordnet to C:\\Users\\save\n",
      "[nltk_data]     advait\\AppData\\Roaming\\nltk_data...\n",
      "[nltk_data]   Package wordnet is already up-to-date!\n"
     ]
    },
    {
     "data": {
      "text/plain": [
       "True"
      ]
     },
     "execution_count": 35,
     "metadata": {},
     "output_type": "execute_result"
    }
   ],
   "source": [
    "nltk.download('wordnet')"
   ]
  },
  {
   "cell_type": "code",
   "execution_count": 36,
   "metadata": {
    "scrolled": true
   },
   "outputs": [
    {
     "name": "stdout",
     "output_type": "stream",
     "text": [
      "increase\n"
     ]
    }
   ],
   "source": [
    "lemmatizer = WordNetLemmatizer()\n",
    " \n",
    "print(lemmatizer.lemmatize('increases'))"
   ]
  },
  {
   "cell_type": "markdown",
   "metadata": {},
   "source": [
    "- Sometimes, if you try to lemmatize a word like the word playing, it will end up with the same word.\n",
    "- This is because the default part of speech is nouns. To get verbs, you should specify it like this:"
   ]
  },
  {
   "cell_type": "code",
   "execution_count": 37,
   "metadata": {},
   "outputs": [
    {
     "name": "stdout",
     "output_type": "stream",
     "text": [
      "playing\n",
      "play\n"
     ]
    }
   ],
   "source": [
    "print(lemmatizer.lemmatize('playing'))\n",
    "print(lemmatizer.lemmatize('playing', pos=\"v\"))"
   ]
  },
  {
   "cell_type": "markdown",
   "metadata": {},
   "source": [
    "- This is a very good level of text compression, you end up with about 50% to 60% compression.\n",
    "- The result could be a verb, noun, adjective, or adverb"
   ]
  },
  {
   "cell_type": "code",
   "execution_count": 38,
   "metadata": {},
   "outputs": [
    {
     "name": "stdout",
     "output_type": "stream",
     "text": [
      "play\n",
      "playing\n",
      "playing\n",
      "playing\n"
     ]
    }
   ],
   "source": [
    "print(lemmatizer.lemmatize('playing', pos=\"v\"))\n",
    " \n",
    "print(lemmatizer.lemmatize('playing', pos=\"n\"))\n",
    " \n",
    "print(lemmatizer.lemmatize('playing', pos=\"a\"))\n",
    " \n",
    "print(lemmatizer.lemmatize('playing', pos=\"r\"))"
   ]
  },
  {
   "cell_type": "code",
   "execution_count": 39,
   "metadata": {},
   "outputs": [],
   "source": [
    "positive_features['review_lemmatized'] = positive_features.review_tokenized.apply(lambda x: [lemmatizer.lemmatize(word) for word in x])\n",
    "negative_features['review_lemmatized'] = negative_features.review_tokenized.apply(lambda x: [lemmatizer.lemmatize(word) for word in x])"
   ]
  },
  {
   "cell_type": "code",
   "execution_count": 40,
   "metadata": {},
   "outputs": [
    {
     "data": {
      "text/plain": [
       "0    [films, adapted, comic, books, plenty, success...\n",
       "1    [every, movie, comes, along, suspect, studio, ...\n",
       "2    [got, mail, works, alot, better, deserves, ord...\n",
       "3    [jaws, rare, film, grabs, attention, shows, si...\n",
       "4    [moviemaking, lot, like, general, manager, nfl...\n",
       "Name: review_tokenized, dtype: object"
      ]
     },
     "execution_count": 40,
     "metadata": {},
     "output_type": "execute_result"
    }
   ],
   "source": [
    "positive_features.review_tokenized.head()"
   ]
  },
  {
   "cell_type": "code",
   "execution_count": 41,
   "metadata": {},
   "outputs": [
    {
     "data": {
      "text/plain": [
       "0    [film, adapted, comic, book, plenty, success, ...\n",
       "1    [every, movie, come, along, suspect, studio, e...\n",
       "2    [got, mail, work, alot, better, deserves, orde...\n",
       "3    [jaw, rare, film, grab, attention, show, singl...\n",
       "4    [moviemaking, lot, like, general, manager, nfl...\n",
       "Name: review_lemmatized, dtype: object"
      ]
     },
     "execution_count": 41,
     "metadata": {},
     "output_type": "execute_result"
    }
   ],
   "source": [
    "positive_features.review_lemmatized.head()"
   ]
  },
  {
   "cell_type": "markdown",
   "metadata": {},
   "source": [
    "### Stemming and Lemmatization Difference\n",
    "The goal of both stemming and lemmatization is to reduce inflectional forms and sometimes derivationally related forms of a word to a common base form"
   ]
  },
  {
   "cell_type": "code",
   "execution_count": 113,
   "metadata": {},
   "outputs": [
    {
     "name": "stdout",
     "output_type": "stream",
     "text": [
      "stones: stone\n",
      "speaking: speak\n",
      "bedroom: bedroom\n",
      "jokes: joke\n",
      "lisa: lisa\n",
      "purple: purpl\n",
      "----------------------\n",
      "stones: stone\n",
      "speaking: speak\n",
      "bedroom: bedroom\n",
      "jokes: joke\n",
      "lisa: lisa\n",
      "purple: purple\n"
     ]
    }
   ],
   "source": [
    "print('stones:',stemmer.stem('stones'))\n",
    " \n",
    "print('speaking:',stemmer.stem('speaking'))\n",
    " \n",
    "print('bedroom:',stemmer.stem('bedroom'))\n",
    " \n",
    "print('jokes:',stemmer.stem('jokes'))\n",
    " \n",
    "print('lisa:',stemmer.stem('lisa'))\n",
    " \n",
    "print('purple:',stemmer.stem('purple'))\n",
    " \n",
    "print('----------------------')\n",
    " \n",
    "print('stones:',lemmatizer.lemmatize('stones'))\n",
    " \n",
    "print('speaking:',lemmatizer.lemmatize('speaking', pos = 'v'))\n",
    " \n",
    "print('bedroom:',lemmatizer.lemmatize('bedroom'))\n",
    " \n",
    "print('jokes:',lemmatizer.lemmatize('jokes'))\n",
    " \n",
    "print('lisa:',lemmatizer.lemmatize('lisa'))\n",
    " \n",
    "print('purple:',lemmatizer.lemmatize('purple'))"
   ]
  },
  {
   "cell_type": "markdown",
   "metadata": {},
   "source": [
    "- Stemming works on words without knowing its context and that’s why stemming has lower accuracy and faster than lemmatization.\n",
    "- Word lemmatizing returns a real word even if it’s not the same word, it could be a synonym, but at least it’s a real word.\n",
    "- When accuracy is not as important as speed, stemming might be better."
   ]
  },
  {
   "cell_type": "markdown",
   "metadata": {},
   "source": [
    "### Plotting Frequencies of Words"
   ]
  },
  {
   "cell_type": "markdown",
   "metadata": {},
   "source": [
    "__Extract all words in a list:__"
   ]
  },
  {
   "cell_type": "code",
   "execution_count": 43,
   "metadata": {},
   "outputs": [],
   "source": [
    "positive_review_list = positive_features['review_lemmatized'].tolist()\n",
    "negative_review_list = negative_features['review_lemmatized'].tolist()"
   ]
  },
  {
   "cell_type": "code",
   "execution_count": 44,
   "metadata": {},
   "outputs": [],
   "source": [
    "positive_review_list = [item for sublist in positive_review_list for item in sublist]\n",
    "negative_review_list = [item for sublist in negative_review_list for item in sublist]"
   ]
  },
  {
   "cell_type": "code",
   "execution_count": 45,
   "metadata": {},
   "outputs": [
    {
     "name": "stdout",
     "output_type": "stream",
     "text": [
      "Number of positive words 383999\n"
     ]
    }
   ],
   "source": [
    "print('Number of positive words',len(positive_review_list))"
   ]
  },
  {
   "cell_type": "code",
   "execution_count": 46,
   "metadata": {},
   "outputs": [
    {
     "name": "stdout",
     "output_type": "stream",
     "text": [
      "Number of negative words 342813\n"
     ]
    }
   ],
   "source": [
    "print('Number of negative words',len(negative_review_list))"
   ]
  },
  {
   "cell_type": "code",
   "execution_count": 47,
   "metadata": {},
   "outputs": [],
   "source": [
    "all_words = (positive_review_list + negative_review_list)"
   ]
  },
  {
   "cell_type": "code",
   "execution_count": 48,
   "metadata": {},
   "outputs": [
    {
     "name": "stdout",
     "output_type": "stream",
     "text": [
      "Number of total words in corpus 726812\n"
     ]
    }
   ],
   "source": [
    "print('Number of total words in corpus',len(all_words))"
   ]
  },
  {
   "cell_type": "markdown",
   "metadata": {},
   "source": [
    "__Initialize word frequency counter:__"
   ]
  },
  {
   "cell_type": "code",
   "execution_count": 49,
   "metadata": {},
   "outputs": [],
   "source": [
    "word_counter = Counter(all_words)"
   ]
  },
  {
   "cell_type": "markdown",
   "metadata": {},
   "source": [
    "__Pick top 10 most common words:__"
   ]
  },
  {
   "cell_type": "code",
   "execution_count": 50,
   "metadata": {},
   "outputs": [
    {
     "data": {
      "text/html": [
       "<div>\n",
       "<style scoped>\n",
       "    .dataframe tbody tr th:only-of-type {\n",
       "        vertical-align: middle;\n",
       "    }\n",
       "\n",
       "    .dataframe tbody tr th {\n",
       "        vertical-align: top;\n",
       "    }\n",
       "\n",
       "    .dataframe thead th {\n",
       "        text-align: right;\n",
       "    }\n",
       "</style>\n",
       "<table border=\"1\" class=\"dataframe\">\n",
       "  <thead>\n",
       "    <tr style=\"text-align: right;\">\n",
       "      <th></th>\n",
       "      <th>word</th>\n",
       "      <th>freq</th>\n",
       "    </tr>\n",
       "  </thead>\n",
       "  <tbody>\n",
       "    <tr>\n",
       "      <th>0</th>\n",
       "      <td>'s</td>\n",
       "      <td>14031</td>\n",
       "    </tr>\n",
       "    <tr>\n",
       "      <th>1</th>\n",
       "      <td>film</td>\n",
       "      <td>10963</td>\n",
       "    </tr>\n",
       "    <tr>\n",
       "      <th>2</th>\n",
       "      <td>movie</td>\n",
       "      <td>6861</td>\n",
       "    </tr>\n",
       "    <tr>\n",
       "      <th>3</th>\n",
       "      <td>one</td>\n",
       "      <td>5756</td>\n",
       "    </tr>\n",
       "    <tr>\n",
       "      <th>4</th>\n",
       "      <td>character</td>\n",
       "      <td>3854</td>\n",
       "    </tr>\n",
       "    <tr>\n",
       "      <th>5</th>\n",
       "      <td>like</td>\n",
       "      <td>3643</td>\n",
       "    </tr>\n",
       "    <tr>\n",
       "      <th>6</th>\n",
       "      <td>time</td>\n",
       "      <td>2847</td>\n",
       "    </tr>\n",
       "    <tr>\n",
       "      <th>7</th>\n",
       "      <td>get</td>\n",
       "      <td>2787</td>\n",
       "    </tr>\n",
       "    <tr>\n",
       "      <th>8</th>\n",
       "      <td>scene</td>\n",
       "      <td>2642</td>\n",
       "    </tr>\n",
       "    <tr>\n",
       "      <th>9</th>\n",
       "      <td>make</td>\n",
       "      <td>2585</td>\n",
       "    </tr>\n",
       "  </tbody>\n",
       "</table>\n",
       "</div>"
      ],
      "text/plain": [
       "        word   freq\n",
       "0         's  14031\n",
       "1       film  10963\n",
       "2      movie   6861\n",
       "3        one   5756\n",
       "4  character   3854\n",
       "5       like   3643\n",
       "6       time   2847\n",
       "7        get   2787\n",
       "8      scene   2642\n",
       "9       make   2585"
      ]
     },
     "execution_count": 50,
     "metadata": {},
     "output_type": "execute_result"
    }
   ],
   "source": [
    "most_common_words = word_counter.most_common()[:10]\n",
    "most_common_words = pd.DataFrame(most_common_words)\n",
    "most_common_words.columns = ['word', 'freq']\n",
    "most_common_words"
   ]
  },
  {
   "cell_type": "code",
   "execution_count": 51,
   "metadata": {},
   "outputs": [
    {
     "data": {
      "text/plain": [
       "<matplotlib.axes._subplots.AxesSubplot at 0x1e106a8e860>"
      ]
     },
     "execution_count": 51,
     "metadata": {},
     "output_type": "execute_result"
    },
    {
     "data": {
      "image/png": "[encoded data removed]",
      "text/plain": [
       "<matplotlib.figure.Figure at 0x1e17c093278>"
      ]
     },
     "metadata": {},
     "output_type": "display_data"
    }
   ],
   "source": [
    "most_common_words.sort_values(by='freq',ascending=True).plot(x='word', kind='barh')"
   ]
  },
  {
   "cell_type": "markdown",
   "metadata": {},
   "source": [
    "__Sort the word counts and plot their values on Logarithmic axes to check the shape of the distribution:__\n",
    "- This visualization is particularly useful if comparing 2 or more datasets\n",
    "- A flatter distribution indicates a large vocabulary while a peaked distribution a restricted vocabulary often due to a focused topic or specialized language."
   ]
  },
  {
   "cell_type": "code",
   "execution_count": 52,
   "metadata": {},
   "outputs": [
    {
     "data": {
      "image/png": "[encoded data removed]",
      "text/plain": [
       "<matplotlib.figure.Figure at 0x1e1071da630>"
      ]
     },
     "metadata": {},
     "output_type": "display_data"
    }
   ],
   "source": [
    "sorted_word_counts = sorted(list(word_counter.values()), reverse=True)\n",
    "\n",
    "plt.loglog(sorted_word_counts)\n",
    "plt.ylabel(\"Freq\")\n",
    "plt.xlabel(\"Word Rank\");"
   ]
  },
  {
   "cell_type": "markdown",
   "metadata": {},
   "source": [
    "__Histogram of sorted_word_counts:__\n",
    "- Displays how many words have a count in a specific range.\n",
    "- The distribution is highly peaked at low counts, i.e. most of the words appear which a low count, so we better display it on semilogarithmic axes to inspect the tail of the distribution."
   ]
  },
  {
   "cell_type": "code",
   "execution_count": 53,
   "metadata": {},
   "outputs": [
    {
     "data": {
      "image/png": "[encoded data removed]",
      "text/plain": [
       "<matplotlib.figure.Figure at 0x1e10725cac8>"
      ]
     },
     "metadata": {},
     "output_type": "display_data"
    }
   ],
   "source": [
    "plt.hist(sorted_word_counts, bins=50);"
   ]
  },
  {
   "cell_type": "code",
   "execution_count": 54,
   "metadata": {},
   "outputs": [
    {
     "data": {
      "image/png": "[encoded data removed]",
      "text/plain": [
       "<matplotlib.figure.Figure at 0x1e1072320f0>"
      ]
     },
     "metadata": {},
     "output_type": "display_data"
    }
   ],
   "source": [
    "plt.hist(sorted_word_counts, bins=50, log=True);"
   ]
  },
  {
   "cell_type": "markdown",
   "metadata": {},
   "source": [
    "__Word length comparison of positive and negative reviews:__"
   ]
  },
  {
   "cell_type": "code",
   "execution_count": 115,
   "metadata": {
    "scrolled": true
   },
   "outputs": [
    {
     "data": {
      "image/png": "[encoded data removed]",
      "text/plain": [
       "<matplotlib.figure.Figure at 0x1e14d9ac710>"
      ]
     },
     "metadata": {},
     "output_type": "display_data"
    }
   ],
   "source": [
    "sns.distplot(positive_features['review'].apply(lambda y: len(y)), label='positive reviews',hist=False)\n",
    "sns.distplot(negative_features['review'].apply(lambda y: len(y)), label='negative reviews',hist=False)\n",
    "plt.legend()\n",
    "plt.show()"
   ]
  },
  {
   "cell_type": "markdown",
   "metadata": {},
   "source": [
    "### Removing frequent unimportant words"
   ]
  },
  {
   "cell_type": "code",
   "execution_count": 56,
   "metadata": {},
   "outputs": [
    {
     "data": {
      "text/plain": [
       "[\"'s\", 'film', 'movie']"
      ]
     },
     "execution_count": 56,
     "metadata": {},
     "output_type": "execute_result"
    }
   ],
   "source": [
    "most_common_words.word.tolist()[:3]"
   ]
  },
  {
   "cell_type": "code",
   "execution_count": 57,
   "metadata": {},
   "outputs": [
    {
     "data": {
      "text/plain": [
       "[\"'s\", 'film', 'movie']"
      ]
     },
     "execution_count": 57,
     "metadata": {},
     "output_type": "execute_result"
    }
   ],
   "source": [
    "remove = most_common_words.word.tolist()[:3]\n",
    "remove"
   ]
  },
  {
   "cell_type": "code",
   "execution_count": 58,
   "metadata": {
    "scrolled": true
   },
   "outputs": [],
   "source": [
    "negative_features['review_lemmatized'] = negative_features['review_lemmatized'].apply(lambda x: [y for y in x if y not in remove])\n",
    "positive_features['review_lemmatized'] = positive_features['review_lemmatized'].apply(lambda x: [y for y in x if y not in remove])"
   ]
  },
  {
   "cell_type": "markdown",
   "metadata": {},
   "source": [
    "## Advanced processing and Modelling:\n",
    "\n",
    "[Natural Language processing with Python](http://www.nltk.org/book/)"
   ]
  },
  {
   "cell_type": "markdown",
   "metadata": {},
   "source": [
    "### Build a bag-of-words Naive Bayes model\n",
    "- The simplest model for analyzing text is just to think about text as an unordered collection of words (bag-of-words). This can generally allow to infer from the text the category, the topic or the sentiment.\n",
    "- From the bag-of-words model we can build features to be used by a classifier, here we assume that each word is a feature that can either be True or False. We implement this in Python as a dictionary where for each word in a sentence we associate True, if a word is missing, that would be the same as assigning False.\n",
    "- Bag of Words (BoW) refers to the representation of text which describes the presence of words within the text data. \n",
    "- The intuition behind this is that two similar text fields will contain similar kind of words, and will therefore have a similar bag of words. Further, that from the text alone we can learn something about the meaning of the document.\n",
    "\n",
    "<div style=\"text-align: center;\">\n",
    "        \n",
    "        <img align=\"left\" src=\"https://qph.fs.quoracdn.net/main-qimg-51cea460a7b29d70c5d8ffa9cd1ea257\" height=\"300\" width=\"500\">\n",
    "</div> "
   ]
  },
  {
   "cell_type": "markdown",
   "metadata": {},
   "source": [
    "__Converting word lists back to string reviews:__\n",
    "- Creating training data i.e. review - label combinations\n",
    "- CountVectorizer tokenizes strings internally"
   ]
  },
  {
   "cell_type": "code",
   "execution_count": 59,
   "metadata": {},
   "outputs": [],
   "source": [
    "positive_features['review_lemmatized_train'] = positive_features.review_lemmatized.apply(lambda x: ' '.join(x))\n",
    "negative_features['review_lemmatized_train'] = negative_features.review_lemmatized.apply(lambda x: ' '.join(x))"
   ]
  },
  {
   "cell_type": "markdown",
   "metadata": {},
   "source": [
    "__Defining Target and Feature variables:__"
   ]
  },
  {
   "cell_type": "code",
   "execution_count": 60,
   "metadata": {},
   "outputs": [],
   "source": [
    "x = (positive_features['review_lemmatized_train'].append(negative_features['review_lemmatized_train']))\n",
    "y = (positive_features['label'].append(negative_features['label']))"
   ]
  },
  {
   "cell_type": "markdown",
   "metadata": {},
   "source": [
    "__Label Encoding Target Variable:__"
   ]
  },
  {
   "cell_type": "code",
   "execution_count": 61,
   "metadata": {
    "scrolled": true
   },
   "outputs": [
    {
     "data": {
      "text/plain": [
       "['neg', 'pos']"
      ]
     },
     "execution_count": 61,
     "metadata": {},
     "output_type": "execute_result"
    }
   ],
   "source": [
    "le = preprocessing.LabelEncoder()\n",
    "le.fit(y)\n",
    "\n",
    "list(le.classes_)"
   ]
  },
  {
   "cell_type": "code",
   "execution_count": 62,
   "metadata": {},
   "outputs": [],
   "source": [
    "y = le.transform(y) "
   ]
  },
  {
   "cell_type": "code",
   "execution_count": 63,
   "metadata": {
    "scrolled": true
   },
   "outputs": [
    {
     "name": "stdout",
     "output_type": "stream",
     "text": [
      "Labels for '['neg' 'pos']' are '[0 1]' respectively.\n"
     ]
    },
    {
     "name": "stderr",
     "output_type": "stream",
     "text": [
      "C:\\Users\\save advait\\Documents\\Anaconda\\lib\\site-packages\\sklearn\\preprocessing\\label.py:151: DeprecationWarning: The truth value of an empty array is ambiguous. Returning False, but in future this will result in an error. Use `array.size > 0` to check that an array is not empty.\n",
      "  if diff:\n"
     ]
    }
   ],
   "source": [
    "print('Labels for \\'{}\\' are \\'{}\\' respectively.'.format(le.inverse_transform(np.unique(y)),np.unique(y)))"
   ]
  },
  {
   "cell_type": "markdown",
   "metadata": {},
   "source": [
    "__Bag of Words using CountVectorizer:__\n"
   ]
  },
  {
   "cell_type": "code",
   "execution_count": 64,
   "metadata": {
    "scrolled": true
   },
   "outputs": [
    {
     "data": {
      "text/plain": [
       "<2000x25000 sparse matrix of type '<class 'numpy.int64'>'\n",
       "\twith 514916 stored elements in Compressed Sparse Row format>"
      ]
     },
     "execution_count": 64,
     "metadata": {},
     "output_type": "execute_result"
    }
   ],
   "source": [
    "bow = CountVectorizer(max_features=25000, lowercase=True,analyzer = \"word\")\n",
    "train_bow_neg = bow.fit_transform(x)\n",
    "train_bow_neg"
   ]
  },
  {
   "cell_type": "code",
   "execution_count": 65,
   "metadata": {},
   "outputs": [
    {
     "data": {
      "text/plain": [
       "(2000, 25000)"
      ]
     },
     "execution_count": 65,
     "metadata": {},
     "output_type": "execute_result"
    }
   ],
   "source": [
    "train_bow_neg.toarray().shape"
   ]
  },
  {
   "cell_type": "code",
   "execution_count": 66,
   "metadata": {
    "scrolled": true
   },
   "outputs": [
    {
     "data": {
      "text/plain": [
       "array([[0, 0, 0, ..., 0, 0, 0],\n",
       "       [0, 0, 0, ..., 0, 0, 0],\n",
       "       [0, 1, 0, ..., 0, 0, 0],\n",
       "       [0, 0, 0, ..., 0, 0, 0]], dtype=int64)"
      ]
     },
     "execution_count": 66,
     "metadata": {},
     "output_type": "execute_result"
    }
   ],
   "source": [
    "train_bow_neg.toarray()[1:5]"
   ]
  },
  {
   "cell_type": "code",
   "execution_count": 67,
   "metadata": {},
   "outputs": [],
   "source": [
    "vocab = bow.get_feature_names()"
   ]
  },
  {
   "cell_type": "code",
   "execution_count": 68,
   "metadata": {},
   "outputs": [],
   "source": [
    "# Sum up the counts of each vocabulary word\n",
    "dist = np.sum(train_bow_neg.toarray(), axis=0)\n",
    "\n",
    "word_freq = pd.DataFrame({'word':vocab,'freq':dist})"
   ]
  },
  {
   "cell_type": "code",
   "execution_count": 69,
   "metadata": {
    "scrolled": false
   },
   "outputs": [
    {
     "data": {
      "text/html": [
       "<div>\n",
       "<style scoped>\n",
       "    .dataframe tbody tr th:only-of-type {\n",
       "        vertical-align: middle;\n",
       "    }\n",
       "\n",
       "    .dataframe tbody tr th {\n",
       "        vertical-align: top;\n",
       "    }\n",
       "\n",
       "    .dataframe thead th {\n",
       "        text-align: right;\n",
       "    }\n",
       "</style>\n",
       "<table border=\"1\" class=\"dataframe\">\n",
       "  <thead>\n",
       "    <tr style=\"text-align: right;\">\n",
       "      <th></th>\n",
       "      <th>freq</th>\n",
       "      <th>word</th>\n",
       "    </tr>\n",
       "  </thead>\n",
       "  <tbody>\n",
       "    <tr>\n",
       "      <th>15475</th>\n",
       "      <td>6028</td>\n",
       "      <td>one</td>\n",
       "    </tr>\n",
       "    <tr>\n",
       "      <th>3534</th>\n",
       "      <td>3878</td>\n",
       "      <td>character</td>\n",
       "    </tr>\n",
       "    <tr>\n",
       "      <th>13113</th>\n",
       "      <td>3788</td>\n",
       "      <td>like</td>\n",
       "    </tr>\n",
       "    <tr>\n",
       "      <th>22698</th>\n",
       "      <td>2976</td>\n",
       "      <td>time</td>\n",
       "    </tr>\n",
       "    <tr>\n",
       "      <th>9660</th>\n",
       "      <td>2811</td>\n",
       "      <td>get</td>\n",
       "    </tr>\n",
       "    <tr>\n",
       "      <th>18974</th>\n",
       "      <td>2662</td>\n",
       "      <td>scene</td>\n",
       "    </tr>\n",
       "    <tr>\n",
       "      <th>13612</th>\n",
       "      <td>2634</td>\n",
       "      <td>make</td>\n",
       "    </tr>\n",
       "    <tr>\n",
       "      <th>8213</th>\n",
       "      <td>2568</td>\n",
       "      <td>even</td>\n",
       "    </tr>\n",
       "    <tr>\n",
       "      <th>9875</th>\n",
       "      <td>2429</td>\n",
       "      <td>good</td>\n",
       "    </tr>\n",
       "    <tr>\n",
       "      <th>21153</th>\n",
       "      <td>2344</td>\n",
       "      <td>story</td>\n",
       "    </tr>\n",
       "  </tbody>\n",
       "</table>\n",
       "</div>"
      ],
      "text/plain": [
       "       freq       word\n",
       "15475  6028        one\n",
       "3534   3878  character\n",
       "13113  3788       like\n",
       "22698  2976       time\n",
       "9660   2811        get\n",
       "18974  2662      scene\n",
       "13612  2634       make\n",
       "8213   2568       even\n",
       "9875   2429       good\n",
       "21153  2344      story"
      ]
     },
     "execution_count": 69,
     "metadata": {},
     "output_type": "execute_result"
    }
   ],
   "source": [
    "word_freq.sort_values(by='freq',ascending=False)[:10]"
   ]
  },
  {
   "cell_type": "markdown",
   "metadata": {},
   "source": [
    "__Splitting into Train and test datasets:__"
   ]
  },
  {
   "cell_type": "code",
   "execution_count": 70,
   "metadata": {},
   "outputs": [],
   "source": [
    "xtrain, xtest, ytrain, ytest = train_test_split \\\n",
    "                (train_bow_neg.toarray(), y,test_size=0.3, \\\n",
    "                random_state=1000)\n"
   ]
  },
  {
   "cell_type": "code",
   "execution_count": 71,
   "metadata": {},
   "outputs": [
    {
     "name": "stdout",
     "output_type": "stream",
     "text": [
      "No. of True Cases in training data set for 708\n",
      "No. of True Cases in testing data set for 292\n",
      "Ratio of True Cases in training data set:  0.51\n",
      "Ratio of True Cases in testing data set:  0.49\n"
     ]
    }
   ],
   "source": [
    "print (\"No. of True Cases in training data set for\" , ytrain.sum())\n",
    "print (\"No. of True Cases in testing data set for\",ytest.sum())\n",
    "\n",
    "print (\"Ratio of True Cases in training data set: \" , round(ytrain.sum()/len(ytrain),2))\n",
    "print (\"Ratio of True Cases in testing data set: \", round(ytest.sum()/len(ytest),2))"
   ]
  },
  {
   "cell_type": "code",
   "execution_count": 72,
   "metadata": {},
   "outputs": [
    {
     "data": {
      "text/plain": [
       "(1400, 25000)"
      ]
     },
     "execution_count": 72,
     "metadata": {},
     "output_type": "execute_result"
    }
   ],
   "source": [
    "xtrain.shape"
   ]
  },
  {
   "cell_type": "code",
   "execution_count": 73,
   "metadata": {},
   "outputs": [
    {
     "data": {
      "text/plain": [
       "<2000x25000 sparse matrix of type '<class 'numpy.int64'>'\n",
       "\twith 514916 stored elements in Compressed Sparse Row format>"
      ]
     },
     "execution_count": 73,
     "metadata": {},
     "output_type": "execute_result"
    }
   ],
   "source": [
    "train_bow_neg"
   ]
  },
  {
   "cell_type": "markdown",
   "metadata": {},
   "source": [
    "__Training a multinomial Naive Bayes Classifier:__\n",
    "\n",
    "- __Naive Bayes__ methods are a set of supervised learning algorithms based on applying __Bayes’ theorem__ with the “naive” assumption of conditional independence between every pair of features given the value of the class variable.\n",
    "- __MultinomialNB__ implements the Naive Bayes algorithm for __multinomially distributed data__, and is extensively used in text classification\n",
    "- The multinomial Naive Bayes classifier is suitable for classification with discrete features (e.g., word counts for text classification). \n",
    "- The multinomial distribution normally requires integer feature counts. However, in practice, fractional counts such as tf-idf may also work."
   ]
  },
  {
   "cell_type": "code",
   "execution_count": 74,
   "metadata": {},
   "outputs": [
    {
     "name": "stdout",
     "output_type": "stream",
     "text": [
      "Training the multinomial Naive Bayes Classifier\n"
     ]
    }
   ],
   "source": [
    "print( \"Training the multinomial Naive Bayes Classifier\")\n",
    "\n",
    "# Initialize a Random Forest classifier with 100 trees\n",
    "NB = MultinomialNB() \n",
    "\n",
    "# This may take a few minutes to run\n",
    "NB_clf = NB.fit( xtrain, ytrain )"
   ]
  },
  {
   "cell_type": "code",
   "execution_count": 75,
   "metadata": {},
   "outputs": [],
   "source": [
    "prob_test  = NB.predict_proba(xtest)\n",
    "prob_train = NB.predict_proba(xtrain)\n",
    "\n",
    "#Probability Threshold = 0.5 (default) \n",
    "pred_test  = NB.predict(xtest)\n",
    "pred_train = NB.predict(xtrain)"
   ]
  },
  {
   "cell_type": "code",
   "execution_count": 76,
   "metadata": {},
   "outputs": [
    {
     "name": "stdout",
     "output_type": "stream",
     "text": [
      "Model ROC-AUC score for training sample: 0.997\n",
      "Model ROC-AUC score for test sample: 0.869\n"
     ]
    }
   ],
   "source": [
    "auc_score = roc_auc_score(ytrain, prob_train[:,1])\n",
    "print (\"Model ROC-AUC score for training sample: %.3f\" \\\n",
    "                                      % auc_score)\n",
    "auc_score = roc_auc_score(ytest, prob_test[:,1])\n",
    "print (\"Model ROC-AUC score for test sample: %.3f\" \\\n",
    "                                      % auc_score)"
   ]
  },
  {
   "cell_type": "code",
   "execution_count": 77,
   "metadata": {},
   "outputs": [
    {
     "name": "stdout",
     "output_type": "stream",
     "text": [
      "Train Accuracy ::  0.9778571428571429\n",
      "Test Accuracy ::  0.7983333333333333\n"
     ]
    }
   ],
   "source": [
    "#Calculate train and test accuracy\n",
    "train_acc = accuracy_score(ytrain, pred_train)\n",
    "test_acc  = accuracy_score(ytest, pred_test)\n",
    "print (\"Train Accuracy :: \", train_acc)\n",
    "print (\"Test Accuracy :: \", test_acc)"
   ]
  },
  {
   "cell_type": "code",
   "execution_count": 78,
   "metadata": {},
   "outputs": [
    {
     "name": "stdout",
     "output_type": "stream",
     "text": [
      "\n",
      " Confusion matrix: \n",
      "\n"
     ]
    },
    {
     "data": {
      "image/png": "[encoded data removed]",
      "text/plain": [
       "<matplotlib.figure.Figure at 0x1e10ad92320>"
      ]
     },
     "metadata": {},
     "output_type": "display_data"
    }
   ],
   "source": [
    "print (\"\\n Confusion matrix: \\n\")\n",
    "skplt.metrics.plot_confusion_matrix(ytest, pred_test, title=\"Confusion Matrix\",\n",
    "                text_fontsize='large')\n",
    "plt.show()\n",
    "# Colors https://matplotlib.org/examples/color/colormaps_reference.html"
   ]
  },
  {
   "cell_type": "code",
   "execution_count": 79,
   "metadata": {},
   "outputs": [
    {
     "name": "stdout",
     "output_type": "stream",
     "text": [
      "\n",
      " Classification report (weighted average across classes) ::\n",
      "              precision    recall  f1-score   support\n",
      "\n",
      "          0       0.81      0.80      0.80       308\n",
      "          1       0.79      0.80      0.79       292\n",
      "\n",
      "avg / total       0.80      0.80      0.80       600\n",
      "\n"
     ]
    }
   ],
   "source": [
    "#Calculate classification model evaluation metrics like precision, recall, f1 score\n",
    "report = classification_report(ytest, pred_test)\n",
    "precision,recall,fscore,support = precision_recall_fscore_support(ytest,pred_test,average='weighted')\n",
    "print(\"\\n Classification report (weighted average across classes) ::\\n\", classification_report(ytest, pred_test))"
   ]
  },
  {
   "cell_type": "markdown",
   "metadata": {},
   "source": [
    "### n-grams\n",
    "\n",
    "N-grams are simply all combinations of adjacent words or letters of length n that you can find in your source text."
   ]
  },
  {
   "cell_type": "code",
   "execution_count": 81,
   "metadata": {},
   "outputs": [],
   "source": [
    "bow = CountVectorizer(max_features=25000, lowercase=True,analyzer = \"word\",ngram_range=(1, 2))\n",
    "train_bow_neg = bow.fit_transform(x)"
   ]
  },
  {
   "cell_type": "code",
   "execution_count": null,
   "metadata": {},
   "outputs": [],
   "source": [
    "[x for x in bow.get_feature_names() if len(x.split())>1]"
   ]
  },
  {
   "cell_type": "markdown",
   "metadata": {},
   "source": [
    "### Term Frequency and Inverse Document Frequency\n",
    "- Term Frequency measures how frequently a term occurs in a document.\n",
    "- Since every document is different in length, it is possible that a term would appear much more times in long documents than shorter ones. Thus, the term frequency is often divided by the document length (aka. the total number of terms in the document) as a way of normalization: \n",
    "\n",
    "        TF(t) = (Number of times term t appears in a document)\n",
    "\n",
    "- Inverse Document Frequency measures how important a term is. While computing TF, all terms are considered equally important. \n",
    "- However it is known that certain terms, such as \"is\", \"of\", and \"that\", may appear a lot of times but have little importance. Thus we need to weigh down the frequent terms while scale up the rare ones, by computing the following: \n",
    "\n",
    "        IDF(t) = log_e(Total number of documents / Number of documents with term t in it)."
   ]
  },
  {
   "cell_type": "markdown",
   "metadata": {},
   "source": [
    "### Term Frequency-Inverse Document Frequency (TF-IDF) - Random Forest\n",
    "- TF-IDF transform can be defined as the product of the term frequency and the inverse document frequency\n",
    "- TfidfTransformer() takes the raw term frequencies from CountVectorizer as input and transforms them into tf-idfs:"
   ]
  },
  {
   "cell_type": "code",
   "execution_count": 83,
   "metadata": {},
   "outputs": [
    {
     "data": {
      "text/plain": [
       "0    adapted comic book plenty success whether they...\n",
       "1    every come along suspect studio every indicati...\n",
       "2    got mail work alot better deserves order make ...\n",
       "3    jaw rare grab attention show single image scre...\n",
       "4    moviemaking lot like general manager nfl team ...\n",
       "Name: review_lemmatized_train, dtype: object"
      ]
     },
     "execution_count": 83,
     "metadata": {},
     "output_type": "execute_result"
    }
   ],
   "source": [
    "x.head()"
   ]
  },
  {
   "cell_type": "code",
   "execution_count": 84,
   "metadata": {},
   "outputs": [],
   "source": [
    "tf = TfidfVectorizer(smooth_idf=False, sublinear_tf=False, norm=None, analyzer='word')\n",
    "txt_fitted = tf.fit(x)\n",
    "txt_transformed = txt_fitted.transform(x)"
   ]
  },
  {
   "cell_type": "code",
   "execution_count": 85,
   "metadata": {},
   "outputs": [
    {
     "data": {
      "text/plain": [
       "(2000, 35581)"
      ]
     },
     "execution_count": 85,
     "metadata": {},
     "output_type": "execute_result"
    }
   ],
   "source": [
    "txt_transformed.shape"
   ]
  },
  {
   "cell_type": "code",
   "execution_count": 86,
   "metadata": {},
   "outputs": [
    {
     "data": {
      "text/plain": [
       "array([[0.        , 0.        , 0.        , ..., 0.        , 0.        ,\n",
       "        0.        ],\n",
       "       [0.        , 0.        , 0.        , ..., 0.        , 0.        ,\n",
       "        0.        ],\n",
       "       [0.        , 4.07911388, 0.        , ..., 0.        , 0.        ,\n",
       "        0.        ],\n",
       "       [0.        , 0.        , 0.        , ..., 0.        , 0.        ,\n",
       "        0.        ]])"
      ]
     },
     "execution_count": 86,
     "metadata": {},
     "output_type": "execute_result"
    }
   ],
   "source": [
    "txt_transformed.toarray()[1:5]"
   ]
  },
  {
   "cell_type": "code",
   "execution_count": 87,
   "metadata": {},
   "outputs": [
    {
     "name": "stdout",
     "output_type": "stream",
     "text": [
      "Features with lowest idf:\n",
      "['one' 'like' 'character' 'time' 'get' 'make' 'even' 'good' 'scene' 'much']\n",
      "\n",
      "Features with highest idf:\n",
      "['pyjama' 'pyle' 'forefather' 'pyre' 'pyroclastic' 'foredoomed'\n",
      " 'pyrotechnical' 'pysche' 'foregrounds' 'zzzzzzz']\n"
     ]
    }
   ],
   "source": [
    "# get feature names\n",
    "feature_names = np.array(tf.get_feature_names())\n",
    "sorted_by_idf = np.argsort(tf.idf_)\n",
    "print(\"Features with lowest idf:\\n{}\".format(\n",
    "       feature_names[sorted_by_idf[:10]]))\n",
    "print(\"\\nFeatures with highest idf:\\n{}\".format(\n",
    "       feature_names[sorted_by_idf[-10:]]))"
   ]
  },
  {
   "cell_type": "markdown",
   "metadata": {},
   "source": [
    "__Splitting into Train and test datasets:__"
   ]
  },
  {
   "cell_type": "code",
   "execution_count": 88,
   "metadata": {},
   "outputs": [],
   "source": [
    "xtrain, xtest, ytrain, ytest = train_test_split \\\n",
    "                (txt_transformed.toarray(), y,test_size=0.3, \\\n",
    "                random_state=1000)\n"
   ]
  },
  {
   "cell_type": "code",
   "execution_count": 89,
   "metadata": {},
   "outputs": [
    {
     "name": "stdout",
     "output_type": "stream",
     "text": [
      "No. of True Cases in training data set for 708\n",
      "No. of True Cases in testing data set for 292\n",
      "Ratio of True Cases in training data set:  0.51\n",
      "Ratio of True Cases in testing data set:  0.49\n"
     ]
    }
   ],
   "source": [
    "print (\"No. of True Cases in training data set for\" , ytrain.sum())\n",
    "print (\"No. of True Cases in testing data set for\",ytest.sum())\n",
    "\n",
    "print (\"Ratio of True Cases in training data set: \" , round(ytrain.sum()/len(ytrain),2))\n",
    "print (\"Ratio of True Cases in testing data set: \", round(ytest.sum()/len(ytest),2))"
   ]
  },
  {
   "cell_type": "markdown",
   "metadata": {},
   "source": [
    "__Training a Random Forest Classifier:__\n",
    "- Random Forest models are a type of ensemble models, particularly bagging models. They are part of the tree based model family."
   ]
  },
  {
   "cell_type": "code",
   "execution_count": 90,
   "metadata": {
    "scrolled": true
   },
   "outputs": [
    {
     "name": "stdout",
     "output_type": "stream",
     "text": [
      "Training the random forest...\n"
     ]
    },
    {
     "name": "stderr",
     "output_type": "stream",
     "text": [
      "[Parallel(n_jobs=1)]: Done 1000 out of 1000 | elapsed:   58.1s finished\n"
     ]
    }
   ],
   "source": [
    "print( \"Training the random forest...\")\n",
    "from sklearn.ensemble import RandomForestClassifier\n",
    "\n",
    "# Initialize a Random Forest classifier\n",
    "forest = RandomForestClassifier(n_estimators = 1000,verbose=True) \n",
    "\n",
    "# Fit the forest to the training set\n",
    "forest = forest.fit( xtrain, ytrain )"
   ]
  },
  {
   "cell_type": "code",
   "execution_count": 91,
   "metadata": {},
   "outputs": [
    {
     "name": "stderr",
     "output_type": "stream",
     "text": [
      "[Parallel(n_jobs=1)]: Done 1000 out of 1000 | elapsed:    0.2s finished\n",
      "[Parallel(n_jobs=1)]: Done 1000 out of 1000 | elapsed:    0.6s finished\n",
      "[Parallel(n_jobs=1)]: Done 1000 out of 1000 | elapsed:    0.2s finished\n",
      "[Parallel(n_jobs=1)]: Done 1000 out of 1000 | elapsed:    0.6s finished\n"
     ]
    }
   ],
   "source": [
    "prob_test  = forest.predict_proba(xtest)\n",
    "prob_train = forest.predict_proba(xtrain)\n",
    "\n",
    "#Probability Threshold = 0.5 (default) \n",
    "pred_test  = forest.predict(xtest)\n",
    "pred_train = forest.predict(xtrain)"
   ]
  },
  {
   "cell_type": "code",
   "execution_count": 92,
   "metadata": {},
   "outputs": [
    {
     "name": "stdout",
     "output_type": "stream",
     "text": [
      "Model ROC-AUC score for training sample: 1.000\n",
      "Model ROC-AUC score for test sample: 0.930\n"
     ]
    }
   ],
   "source": [
    "auc_score = roc_auc_score(ytrain, prob_train[:,1])\n",
    "print (\"Model ROC-AUC score for training sample: %.3f\" \\\n",
    "                                      % auc_score)\n",
    "auc_score = roc_auc_score(ytest, prob_test[:,1])\n",
    "print (\"Model ROC-AUC score for test sample: %.3f\" \\\n",
    "                                      % auc_score)"
   ]
  },
  {
   "cell_type": "code",
   "execution_count": 93,
   "metadata": {},
   "outputs": [
    {
     "name": "stdout",
     "output_type": "stream",
     "text": [
      "Train Accuracy ::  1.0\n",
      "Test Accuracy ::  0.8416666666666667\n"
     ]
    }
   ],
   "source": [
    "#Calculate train and test accuracy\n",
    "train_acc = accuracy_score(ytrain, pred_train)\n",
    "test_acc  = accuracy_score(ytest, pred_test)\n",
    "print (\"Train Accuracy :: \", train_acc)\n",
    "print (\"Test Accuracy :: \", test_acc)"
   ]
  },
  {
   "cell_type": "code",
   "execution_count": 94,
   "metadata": {},
   "outputs": [
    {
     "name": "stdout",
     "output_type": "stream",
     "text": [
      "Top 15 - RF Feature Importance\n"
     ]
    },
    {
     "data": {
      "text/html": [
       "<style  type=\"text/css\" >\n",
       "    #T_6c7b88b0_eefb_11e8_9945_c85b76e35b9erow0_col1 {\n",
       "            background-color:  #48a848;\n",
       "        }    #T_6c7b88b0_eefb_11e8_9945_c85b76e35b9erow1_col1 {\n",
       "            background-color:  #8cce8c;\n",
       "        }    #T_6c7b88b0_eefb_11e8_9945_c85b76e35b9erow2_col1 {\n",
       "            background-color:  #a2daa2;\n",
       "        }    #T_6c7b88b0_eefb_11e8_9945_c85b76e35b9erow3_col1 {\n",
       "            background-color:  #a4dba4;\n",
       "        }    #T_6c7b88b0_eefb_11e8_9945_c85b76e35b9erow4_col1 {\n",
       "            background-color:  #afe1af;\n",
       "        }    #T_6c7b88b0_eefb_11e8_9945_c85b76e35b9erow5_col1 {\n",
       "            background-color:  #b5e4b5;\n",
       "        }    #T_6c7b88b0_eefb_11e8_9945_c85b76e35b9erow6_col1 {\n",
       "            background-color:  #b8e6b8;\n",
       "        }    #T_6c7b88b0_eefb_11e8_9945_c85b76e35b9erow7_col1 {\n",
       "            background-color:  #b8e6b8;\n",
       "        }    #T_6c7b88b0_eefb_11e8_9945_c85b76e35b9erow8_col1 {\n",
       "            background-color:  #b9e7b9;\n",
       "        }    #T_6c7b88b0_eefb_11e8_9945_c85b76e35b9erow9_col1 {\n",
       "            background-color:  #bae7ba;\n",
       "        }    #T_6c7b88b0_eefb_11e8_9945_c85b76e35b9erow10_col1 {\n",
       "            background-color:  #bae7ba;\n",
       "        }    #T_6c7b88b0_eefb_11e8_9945_c85b76e35b9erow11_col1 {\n",
       "            background-color:  #bae7ba;\n",
       "        }    #T_6c7b88b0_eefb_11e8_9945_c85b76e35b9erow12_col1 {\n",
       "            background-color:  #bbe8bb;\n",
       "        }    #T_6c7b88b0_eefb_11e8_9945_c85b76e35b9erow13_col1 {\n",
       "            background-color:  #bce8bc;\n",
       "        }    #T_6c7b88b0_eefb_11e8_9945_c85b76e35b9erow14_col1 {\n",
       "            background-color:  #bee9be;\n",
       "        }    #T_6c7b88b0_eefb_11e8_9945_c85b76e35b9erow15_col1 {\n",
       "            background-color:  #bee9be;\n",
       "        }    #T_6c7b88b0_eefb_11e8_9945_c85b76e35b9erow16_col1 {\n",
       "            background-color:  #c0eac0;\n",
       "        }    #T_6c7b88b0_eefb_11e8_9945_c85b76e35b9erow17_col1 {\n",
       "            background-color:  #c1ebc1;\n",
       "        }    #T_6c7b88b0_eefb_11e8_9945_c85b76e35b9erow18_col1 {\n",
       "            background-color:  #c2ebc2;\n",
       "        }    #T_6c7b88b0_eefb_11e8_9945_c85b76e35b9erow19_col1 {\n",
       "            background-color:  #c2ebc2;\n",
       "        }</style>  \n",
       "<table id=\"T_6c7b88b0_eefb_11e8_9945_c85b76e35b9e\" > \n",
       "<thead>    <tr> \n",
       "        <th class=\"blank level0\" ></th> \n",
       "        <th class=\"col_heading level0 col0\" >Feature</th> \n",
       "        <th class=\"col_heading level0 col1\" >Var Imp</th> \n",
       "    </tr></thead> \n",
       "<tbody>    <tr> \n",
       "        <th id=\"T_6c7b88b0_eefb_11e8_9945_c85b76e35b9elevel0_row0\" class=\"row_heading level0 row0\" >0</th> \n",
       "        <td id=\"T_6c7b88b0_eefb_11e8_9945_c85b76e35b9erow0_col0\" class=\"data row0 col0\" >bad</td> \n",
       "        <td id=\"T_6c7b88b0_eefb_11e8_9945_c85b76e35b9erow0_col1\" class=\"data row0 col1\" >0.00704733</td> \n",
       "    </tr>    <tr> \n",
       "        <th id=\"T_6c7b88b0_eefb_11e8_9945_c85b76e35b9elevel0_row1\" class=\"row_heading level0 row1\" >1</th> \n",
       "        <td id=\"T_6c7b88b0_eefb_11e8_9945_c85b76e35b9erow1_col0\" class=\"data row1 col0\" >worst</td> \n",
       "        <td id=\"T_6c7b88b0_eefb_11e8_9945_c85b76e35b9erow1_col1\" class=\"data row1 col1\" >0.00419815</td> \n",
       "    </tr>    <tr> \n",
       "        <th id=\"T_6c7b88b0_eefb_11e8_9945_c85b76e35b9elevel0_row2\" class=\"row_heading level0 row2\" >2</th> \n",
       "        <td id=\"T_6c7b88b0_eefb_11e8_9945_c85b76e35b9erow2_col0\" class=\"data row2 col0\" >boring</td> \n",
       "        <td id=\"T_6c7b88b0_eefb_11e8_9945_c85b76e35b9erow2_col1\" class=\"data row2 col1\" >0.00325771</td> \n",
       "    </tr>    <tr> \n",
       "        <th id=\"T_6c7b88b0_eefb_11e8_9945_c85b76e35b9elevel0_row3\" class=\"row_heading level0 row3\" >3</th> \n",
       "        <td id=\"T_6c7b88b0_eefb_11e8_9945_c85b76e35b9erow3_col0\" class=\"data row3 col0\" >plot</td> \n",
       "        <td id=\"T_6c7b88b0_eefb_11e8_9945_c85b76e35b9erow3_col1\" class=\"data row3 col1\" >0.00321493</td> \n",
       "    </tr>    <tr> \n",
       "        <th id=\"T_6c7b88b0_eefb_11e8_9945_c85b76e35b9elevel0_row4\" class=\"row_heading level0 row4\" >4</th> \n",
       "        <td id=\"T_6c7b88b0_eefb_11e8_9945_c85b76e35b9erow4_col0\" class=\"data row4 col0\" >stupid</td> \n",
       "        <td id=\"T_6c7b88b0_eefb_11e8_9945_c85b76e35b9erow4_col1\" class=\"data row4 col1\" >0.00273295</td> \n",
       "    </tr>    <tr> \n",
       "        <th id=\"T_6c7b88b0_eefb_11e8_9945_c85b76e35b9elevel0_row5\" class=\"row_heading level0 row5\" >5</th> \n",
       "        <td id=\"T_6c7b88b0_eefb_11e8_9945_c85b76e35b9erow5_col0\" class=\"data row5 col0\" >waste</td> \n",
       "        <td id=\"T_6c7b88b0_eefb_11e8_9945_c85b76e35b9erow5_col1\" class=\"data row5 col1\" >0.00248558</td> \n",
       "    </tr>    <tr> \n",
       "        <th id=\"T_6c7b88b0_eefb_11e8_9945_c85b76e35b9elevel0_row6\" class=\"row_heading level0 row6\" >6</th> \n",
       "        <td id=\"T_6c7b88b0_eefb_11e8_9945_c85b76e35b9erow6_col0\" class=\"data row6 col0\" >life</td> \n",
       "        <td id=\"T_6c7b88b0_eefb_11e8_9945_c85b76e35b9erow6_col1\" class=\"data row6 col1\" >0.00231343</td> \n",
       "    </tr>    <tr> \n",
       "        <th id=\"T_6c7b88b0_eefb_11e8_9945_c85b76e35b9elevel0_row7\" class=\"row_heading level0 row7\" >7</th> \n",
       "        <td id=\"T_6c7b88b0_eefb_11e8_9945_c85b76e35b9erow7_col0\" class=\"data row7 col0\" >also</td> \n",
       "        <td id=\"T_6c7b88b0_eefb_11e8_9945_c85b76e35b9erow7_col1\" class=\"data row7 col1\" >0.00231264</td> \n",
       "    </tr>    <tr> \n",
       "        <th id=\"T_6c7b88b0_eefb_11e8_9945_c85b76e35b9elevel0_row8\" class=\"row_heading level0 row8\" >8</th> \n",
       "        <td id=\"T_6c7b88b0_eefb_11e8_9945_c85b76e35b9erow8_col0\" class=\"data row8 col0\" >mess</td> \n",
       "        <td id=\"T_6c7b88b0_eefb_11e8_9945_c85b76e35b9erow8_col1\" class=\"data row8 col1\" >0.00228781</td> \n",
       "    </tr>    <tr> \n",
       "        <th id=\"T_6c7b88b0_eefb_11e8_9945_c85b76e35b9elevel0_row9\" class=\"row_heading level0 row9\" >9</th> \n",
       "        <td id=\"T_6c7b88b0_eefb_11e8_9945_c85b76e35b9erow9_col0\" class=\"data row9 col0\" >performance</td> \n",
       "        <td id=\"T_6c7b88b0_eefb_11e8_9945_c85b76e35b9erow9_col1\" class=\"data row9 col1\" >0.00226301</td> \n",
       "    </tr>    <tr> \n",
       "        <th id=\"T_6c7b88b0_eefb_11e8_9945_c85b76e35b9elevel0_row10\" class=\"row_heading level0 row10\" >10</th> \n",
       "        <td id=\"T_6c7b88b0_eefb_11e8_9945_c85b76e35b9erow10_col0\" class=\"data row10 col0\" >well</td> \n",
       "        <td id=\"T_6c7b88b0_eefb_11e8_9945_c85b76e35b9erow10_col1\" class=\"data row10 col1\" >0.00224989</td> \n",
       "    </tr>    <tr> \n",
       "        <th id=\"T_6c7b88b0_eefb_11e8_9945_c85b76e35b9elevel0_row11\" class=\"row_heading level0 row11\" >11</th> \n",
       "        <td id=\"T_6c7b88b0_eefb_11e8_9945_c85b76e35b9erow11_col0\" class=\"data row11 col0\" >awful</td> \n",
       "        <td id=\"T_6c7b88b0_eefb_11e8_9945_c85b76e35b9erow11_col1\" class=\"data row11 col1\" >0.00223916</td> \n",
       "    </tr>    <tr> \n",
       "        <th id=\"T_6c7b88b0_eefb_11e8_9945_c85b76e35b9elevel0_row12\" class=\"row_heading level0 row12\" >12</th> \n",
       "        <td id=\"T_6c7b88b0_eefb_11e8_9945_c85b76e35b9erow12_col0\" class=\"data row12 col0\" >script</td> \n",
       "        <td id=\"T_6c7b88b0_eefb_11e8_9945_c85b76e35b9erow12_col1\" class=\"data row12 col1\" >0.00220828</td> \n",
       "    </tr>    <tr> \n",
       "        <th id=\"T_6c7b88b0_eefb_11e8_9945_c85b76e35b9elevel0_row13\" class=\"row_heading level0 row13\" >13</th> \n",
       "        <td id=\"T_6c7b88b0_eefb_11e8_9945_c85b76e35b9erow13_col0\" class=\"data row13 col0\" >lame</td> \n",
       "        <td id=\"T_6c7b88b0_eefb_11e8_9945_c85b76e35b9erow13_col1\" class=\"data row13 col1\" >0.00217351</td> \n",
       "    </tr>    <tr> \n",
       "        <th id=\"T_6c7b88b0_eefb_11e8_9945_c85b76e35b9elevel0_row14\" class=\"row_heading level0 row14\" >14</th> \n",
       "        <td id=\"T_6c7b88b0_eefb_11e8_9945_c85b76e35b9erow14_col0\" class=\"data row14 col0\" >supposed</td> \n",
       "        <td id=\"T_6c7b88b0_eefb_11e8_9945_c85b76e35b9erow14_col1\" class=\"data row14 col1\" >0.00210357</td> \n",
       "    </tr>    <tr> \n",
       "        <th id=\"T_6c7b88b0_eefb_11e8_9945_c85b76e35b9elevel0_row15\" class=\"row_heading level0 row15\" >15</th> \n",
       "        <td id=\"T_6c7b88b0_eefb_11e8_9945_c85b76e35b9erow15_col0\" class=\"data row15 col0\" >wasted</td> \n",
       "        <td id=\"T_6c7b88b0_eefb_11e8_9945_c85b76e35b9erow15_col1\" class=\"data row15 col1\" >0.00209324</td> \n",
       "    </tr>    <tr> \n",
       "        <th id=\"T_6c7b88b0_eefb_11e8_9945_c85b76e35b9elevel0_row16\" class=\"row_heading level0 row16\" >16</th> \n",
       "        <td id=\"T_6c7b88b0_eefb_11e8_9945_c85b76e35b9erow16_col0\" class=\"data row16 col0\" >perfect</td> \n",
       "        <td id=\"T_6c7b88b0_eefb_11e8_9945_c85b76e35b9erow16_col1\" class=\"data row16 col1\" >0.00202941</td> \n",
       "    </tr>    <tr> \n",
       "        <th id=\"T_6c7b88b0_eefb_11e8_9945_c85b76e35b9elevel0_row17\" class=\"row_heading level0 row17\" >17</th> \n",
       "        <td id=\"T_6c7b88b0_eefb_11e8_9945_c85b76e35b9erow17_col0\" class=\"data row17 col0\" >great</td> \n",
       "        <td id=\"T_6c7b88b0_eefb_11e8_9945_c85b76e35b9erow17_col1\" class=\"data row17 col1\" >0.00198502</td> \n",
       "    </tr>    <tr> \n",
       "        <th id=\"T_6c7b88b0_eefb_11e8_9945_c85b76e35b9elevel0_row18\" class=\"row_heading level0 row18\" >18</th> \n",
       "        <td id=\"T_6c7b88b0_eefb_11e8_9945_c85b76e35b9erow18_col0\" class=\"data row18 col0\" >world</td> \n",
       "        <td id=\"T_6c7b88b0_eefb_11e8_9945_c85b76e35b9erow18_col1\" class=\"data row18 col1\" >0.0019586</td> \n",
       "    </tr>    <tr> \n",
       "        <th id=\"T_6c7b88b0_eefb_11e8_9945_c85b76e35b9elevel0_row19\" class=\"row_heading level0 row19\" >19</th> \n",
       "        <td id=\"T_6c7b88b0_eefb_11e8_9945_c85b76e35b9erow19_col0\" class=\"data row19 col0\" >many</td> \n",
       "        <td id=\"T_6c7b88b0_eefb_11e8_9945_c85b76e35b9erow19_col1\" class=\"data row19 col1\" >0.0019458</td> \n",
       "    </tr></tbody> \n",
       "</table> "
      ],
      "text/plain": [
       "<pandas.io.formats.style.Styler at 0x1e125244dd8>"
      ]
     },
     "execution_count": 94,
     "metadata": {},
     "output_type": "execute_result"
    }
   ],
   "source": [
    "#Define colormap\n",
    "cm = sns.light_palette(\"green\", as_cmap=True)\n",
    "var_imp_rf = pd.DataFrame({'Feature':txt_fitted.get_feature_names(),'Var Imp':forest.feature_importances_}).sort_values(by='Var Imp',ascending = False).reset_index(drop=True)\n",
    "print(\"Top 15 - RF Feature Importance\")\n",
    "var_imp_rf.head(20).style.background_gradient(cmap = cm, high = 0.6, low = 0.3, axis = 0)"
   ]
  },
  {
   "cell_type": "markdown",
   "metadata": {},
   "source": [
    "### NLTK VADER Sentiment Intensity Analyzer:\n",
    "- Valence Aware Dictionary and sEntiment Reasoner\n",
    "- It is a lexicon and rule-based sentiment analysis tool specifically created for working with messy social media texts.\n",
    "- VADER belongs to a type of sentiment analysis that is based on lexicons of sentiment-related words. \n",
    "- In this approach, each of the words in the lexicon is rated as to whether it is positive or negative, and in many cases, how positive or negative.\n",
    "- [Full VADER Lexicon](https://github.com/cjhutto/vaderSentiment/blob/master/vaderSentiment/vader_lexicon.txt)\n",
    "\n",
    "__Why is sentiment analysis so important?__\n",
    "- Businesses today are heavily dependent on data. Majority of this data is unstructured text coming from sources like emails, chats, social media, surveys, articles, and documents.\n",
    "- Sentiment Analysis is also useful for practitioners and researchers, especially in fields like sociology, marketing, advertising, psychology, economics, and political science, which rely a lot on human-computer interaction data."
   ]
  },
  {
   "cell_type": "code",
   "execution_count": 95,
   "metadata": {},
   "outputs": [
    {
     "name": "stdout",
     "output_type": "stream",
     "text": [
      "[nltk_data] Downloading package vader_lexicon to C:\\Users\\save\n",
      "[nltk_data]     advait\\AppData\\Roaming\\nltk_data...\n",
      "[nltk_data]   Package vader_lexicon is already up-to-date!\n"
     ]
    },
    {
     "data": {
      "text/plain": [
       "True"
      ]
     },
     "execution_count": 95,
     "metadata": {},
     "output_type": "execute_result"
    }
   ],
   "source": [
    "nltk.download('vader_lexicon')"
   ]
  },
  {
   "cell_type": "code",
   "execution_count": 96,
   "metadata": {},
   "outputs": [],
   "source": [
    "vader = SentimentIntensityAnalyzer()"
   ]
  },
  {
   "cell_type": "code",
   "execution_count": 97,
   "metadata": {},
   "outputs": [
    {
     "data": {
      "text/plain": [
       "'got mail work alot better deserves order make success cast two extremely popular attractive star share screen two hour collect profit real acting involved original inventive bone body basically complete re-shoot shop around corner adding modern twist essentially go defies concept good contemporary filmmaking overly sentimental time terribly mushy mention manipulative oh enjoyable manipulation must something casting manipulation make work well absolutely hated previous ryan/hanks teaming sleepless seattle directing helmed woman quite yet figured liked much got mail really important like something much even question storyline cliched come tom hank play joe fox insanely likeable owner discount book chain meg ryan play kathleen kelley even insanely likeable proprietor family-run child book shop called nice homage shop around corner fox kelley soon become bitter rival new fox book store opening right across block small business little know already love internet neither party know person true identity rest story important serve mere backdrop two star share screen sure mildly interesting subplots fail comparison utter cuteness main relationship course lead predictable climax foreseeable ending damn cute well-done doubt entire year contains scene evokes much pure joy part ryan discovers true identity online love filled lack better word happiness first time year actually left theater smiling'"
      ]
     },
     "execution_count": 97,
     "metadata": {},
     "output_type": "execute_result"
    }
   ],
   "source": [
    "x.tolist()[2]"
   ]
  },
  {
   "cell_type": "markdown",
   "metadata": {},
   "source": [
    "__Interpreting VADER polarity scores:__\n",
    "- The Positive, Negative and Neutral scores represent the proportion of text that falls in these categories.\n",
    "- The Compound score is a metric that calculates the sum of all the lexicon ratings which have been normalized between -1(most extreme negative) and +1 (most extreme positive)."
   ]
  },
  {
   "cell_type": "code",
   "execution_count": 98,
   "metadata": {},
   "outputs": [
    {
     "data": {
      "text/plain": [
       "{'compound': 0.9956, 'neg': 0.111, 'neu': 0.557, 'pos': 0.333}"
      ]
     },
     "execution_count": 98,
     "metadata": {},
     "output_type": "execute_result"
    }
   ],
   "source": [
    "ss = vader.polarity_scores(x.tolist()[2])\n",
    "ss"
   ]
  },
  {
   "cell_type": "markdown",
   "metadata": {},
   "source": [
    "__VADER based classification model:__"
   ]
  },
  {
   "cell_type": "code",
   "execution_count": 99,
   "metadata": {},
   "outputs": [
    {
     "name": "stdout",
     "output_type": "stream",
     "text": [
      "1 1\n"
     ]
    }
   ],
   "source": [
    "def vader_polarity(text):\n",
    "    \"\"\" Transform the output to a binary 0/1 result \"\"\"\n",
    "    score = vader.polarity_scores(text)\n",
    "    return 1 if score['pos'] > score['neg'] else 0\n",
    " \n",
    "print (vader_polarity(x.tolist()[2]), y[2]) # 0 1"
   ]
  },
  {
   "cell_type": "markdown",
   "metadata": {},
   "source": [
    "Predict and score on movie reviews dataset using VADER:"
   ]
  },
  {
   "cell_type": "code",
   "execution_count": 100,
   "metadata": {},
   "outputs": [],
   "source": [
    "pred_y = [vader_polarity(text) for text in x.tolist()]"
   ]
  },
  {
   "cell_type": "code",
   "execution_count": 101,
   "metadata": {
    "scrolled": true
   },
   "outputs": [
    {
     "name": "stdout",
     "output_type": "stream",
     "text": [
      "0.5975\n"
     ]
    }
   ],
   "source": [
    "print (accuracy_score(y, pred_y))"
   ]
  },
  {
   "cell_type": "markdown",
   "metadata": {},
   "source": [
    "__VADER performance demonstration:__\n",
    "\n",
    "References:\n",
    "- http://www.nltk.org/howto/sentiment.html\n",
    "- https://github.com/cjhutto/vaderSentiment"
   ]
  },
  {
   "cell_type": "code",
   "execution_count": 102,
   "metadata": {},
   "outputs": [],
   "source": [
    "sentences = [\"VADER is smart, handsome, and funny.\", # positive sentence example\n",
    "    \"VADER is smart, handsome, and funny!\", # punctuation emphasis handled correctly (sentiment intensity adjusted)\n",
    "    \"VADER is very smart, handsome, and funny.\",  # booster words handled correctly (sentiment intensity adjusted)\n",
    "    \"VADER is VERY SMART, handsome, and FUNNY.\",  # emphasis for ALLCAPS handled\n",
    "    \"VADER is VERY SMART, handsome, and FUNNY!!!\",# combination of signals - VADER appropriately adjusts intensity\n",
    "    \"VADER is VERY SMART, really handsome, and INCREDIBLY FUNNY!!!\",# booster words & punctuation make this close to ceiling for score\n",
    "    \"The book was good.\",         # positive sentence\n",
    "    \"The book was kind of good.\", # qualified positive sentence is handled correctly (intensity adjusted)\n",
    "    \"The plot was good, but the characters are uncompelling and the dialog is not great.\", # mixed negation sentence\n",
    "    \"A really bad, horrible book.\",       # negative sentence with booster words\n",
    "    \"At least it isn't a horrible book.\", # negated negative sentence with contraction\n",
    "    \":) and :D\",     # emoticons handled\n",
    "    \"\",              # an empty string is correctly handled\n",
    "    \"Today sux\",     #  negative slang handled\n",
    "    \"Today sux!\",    #  negative slang with punctuation emphasis handled\n",
    "    \"Today SUX!\",    #  negative slang with capitalization emphasis\n",
    "    \"Today kinda sux! But I'll get by, lol\" # mixed sentiment example with slang and constrastive conjunction \"but\"\n",
    " ]"
   ]
  },
  {
   "cell_type": "code",
   "execution_count": 103,
   "metadata": {},
   "outputs": [
    {
     "name": "stdout",
     "output_type": "stream",
     "text": [
      "VADER is smart, handsome, and funny.\n",
      "compound: 0.8316, neg: 0.0, neu: 0.254, pos: 0.746, \n",
      "VADER is smart, handsome, and funny!\n",
      "compound: 0.8439, neg: 0.0, neu: 0.248, pos: 0.752, \n",
      "VADER is very smart, handsome, and funny.\n",
      "compound: 0.8545, neg: 0.0, neu: 0.299, pos: 0.701, \n",
      "VADER is VERY SMART, handsome, and FUNNY.\n",
      "compound: 0.9227, neg: 0.0, neu: 0.246, pos: 0.754, \n",
      "VADER is VERY SMART, handsome, and FUNNY!!!\n",
      "compound: 0.9342, neg: 0.0, neu: 0.233, pos: 0.767, \n",
      "VADER is VERY SMART, really handsome, and INCREDIBLY FUNNY!!!\n",
      "compound: 0.9469, neg: 0.0, neu: 0.294, pos: 0.706, \n",
      "The book was good.\n",
      "compound: 0.4404, neg: 0.0, neu: 0.508, pos: 0.492, \n",
      "The book was kind of good.\n",
      "compound: 0.3832, neg: 0.0, neu: 0.657, pos: 0.343, \n",
      "The plot was good, but the characters are uncompelling and the dialog is not great.\n",
      "compound: -0.7042, neg: 0.327, neu: 0.579, pos: 0.094, \n",
      "A really bad, horrible book.\n",
      "compound: -0.8211, neg: 0.791, neu: 0.209, pos: 0.0, \n",
      "At least it isn't a horrible book.\n",
      "compound: 0.431, neg: 0.0, neu: 0.637, pos: 0.363, \n",
      ":) and :D\n",
      "compound: 0.7925, neg: 0.0, neu: 0.124, pos: 0.876, \n",
      "\n",
      "compound: 0.0, neg: 0.0, neu: 0.0, pos: 0.0, \n",
      "Today sux\n",
      "compound: -0.3612, neg: 0.714, neu: 0.286, pos: 0.0, \n",
      "Today sux!\n",
      "compound: -0.4199, neg: 0.736, neu: 0.264, pos: 0.0, \n",
      "Today SUX!\n",
      "compound: -0.5461, neg: 0.779, neu: 0.221, pos: 0.0, \n",
      "Today kinda sux! But I'll get by, lol\n",
      "compound: 0.2228, neg: 0.195, neu: 0.531, pos: 0.274, \n"
     ]
    }
   ],
   "source": [
    "for sentence in sentences:\n",
    "    print(sentence)\n",
    "    ss = vader.polarity_scores(sentence)\n",
    "    for k in sorted(ss):\n",
    "        print('{0}: {1}, '.format(k, ss[k]), end='')\n",
    "    print()"
   ]
  },
  {
   "cell_type": "markdown",
   "metadata": {},
   "source": [
    "### Topic Modelling using Latent Dirichlet Allocation (gensim)\n",
    "- Topic modeling is a type of statistical modeling for discovering the abstract “topics” that occur in a collection of documents. \n",
    "- Latent Dirichlet Allocation (LDA) is an example of topic model and is used to classify text in a document to a particular topic. \n",
    "- It builds a topic per document model and words per topic model, modeled as Dirichlet distributions.\n",
    "\n",
    "__Why Topic Modelling?__\n",
    "- Text classification – Topic modeling can improve classification by grouping similar words together in topics rather than using each word as a feature\n",
    "- Recommender Systems – Using a similarity measure we can build recommender systems. If our system would recommend articles for readers, it will recommend articles with a topic structure similar to the articles the user has already read.\n",
    "- Uncovering Themes in Texts – Useful for detecting trends in online publications for example"
   ]
  },
  {
   "cell_type": "markdown",
   "metadata": {},
   "source": [
    "__Create the Dictionary and Corpus needed for Topic Modeling:__\n",
    "- Gensim creates a unique id for each word in the document. The produced corpus shown above is a mapping of (word_id, word_frequency).\n",
    "- For example, (0, 1) above implies, word id 0 occurs once in the first document. Likewise, word id 1 occurs twice and so on.\n",
    "- This is used as the input by the LDA model.\n",
    "\n",
    "Reference: [Topic modelling in python with nltk and gensim](https://towardsdatascience.com/topic-modelling-in-python-with-nltk-and-gensim-4ef03213cd21)"
   ]
  },
  {
   "cell_type": "code",
   "execution_count": null,
   "metadata": {},
   "outputs": [],
   "source": [
    "# Create Dictionary\n",
    "id2word = corpora.Dictionary(x.apply(lambda x: x.split()))\n",
    "\n",
    "# Create Corpus\n",
    "texts = x.apply(lambda x: x.split())\n",
    "\n",
    "# Term Document Frequency\n",
    "corpus = [id2word.doc2bow(text) for text in texts]\n",
    "\n",
    "# View\n",
    "#Readable format of corpus (term-frequency)\n",
    "[[(id2word[id], freq) for id, freq in cp] for cp in corpus[:1]]"
   ]
  },
  {
   "cell_type": "markdown",
   "metadata": {},
   "source": [
    "__Build the LDA Model:__\n",
    "- alpha affects sparsity of the topics. According to the Gensim docs, defaults to 1.0/num_topics prior.\n",
    "- chunksize is the number of documents to be used in each training chunk. update_every determines how often the model parameters should be updated and passes is the total number of training passes."
   ]
  },
  {
   "cell_type": "code",
   "execution_count": 105,
   "metadata": {},
   "outputs": [],
   "source": [
    "# Build LDA model\n",
    "lda_model = gensim.models.ldamodel.LdaModel(corpus=corpus,\n",
    "                                           id2word=id2word,\n",
    "                                           num_topics=6, \n",
    "                                           random_state=100,\n",
    "                                           update_every=1,\n",
    "                                           chunksize=100,\n",
    "                                           passes=10,\n",
    "                                           alpha='auto',\n",
    "                                           per_word_topics=True)"
   ]
  },
  {
   "cell_type": "markdown",
   "metadata": {},
   "source": [
    "__View and Interpreting the topics in LDA model:__\n",
    "\n",
    "- The weights reflect how important a keyword is to that topic"
   ]
  },
  {
   "cell_type": "code",
   "execution_count": 106,
   "metadata": {
    "scrolled": true
   },
   "outputs": [
    {
     "name": "stdout",
     "output_type": "stream",
     "text": [
      "[(0,\n",
      "  '0.007*\"life\" + 0.006*\"love\" + 0.004*\"family\" + 0.004*\"woman\" + 0.004*\"wife\" '\n",
      "  '+ 0.003*\"relationship\" + 0.003*\"father\" + 0.003*\"story\" + 0.003*\"town\" + '\n",
      "  '0.003*\"daughter\"'),\n",
      " (1,\n",
      "  '0.006*\"effect\" + 0.005*\"horror\" + 0.005*\"alien\" + 0.004*\"special\" + '\n",
      "  '0.004*\"original\" + 0.004*\"one\" + 0.003*\"series\" + 0.003*\"batman\" + '\n",
      "  '0.003*\"human\" + 0.003*\"summer\"'),\n",
      " (2,\n",
      "  '0.014*\"--\" + 0.009*\"comedy\" + 0.007*\"funny\" + 0.006*\"joke\" + 0.005*\"gag\" + '\n",
      "  '0.004*\"school\" + 0.004*\"laugh\" + 0.004*\"\\'\" + 0.003*\"high\" + '\n",
      "  '0.003*\"brother\"'),\n",
      " (3,\n",
      "  '0.012*\"one\" + 0.008*\"like\" + 0.008*\"character\" + 0.006*\"get\" + 0.006*\"even\" '\n",
      "  '+ 0.006*\"time\" + 0.006*\"make\" + 0.006*\"scene\" + 0.005*\"good\" + '\n",
      "  '0.005*\"would\"'),\n",
      " (4,\n",
      "  '0.006*\"--\" + 0.005*\"harry\" + 0.004*\"west\" + 0.004*\"wild\" + 0.004*\"king\" + '\n",
      "  '0.004*\"disney\" + 0.003*\"mr\" + 0.003*\"murphy\" + 0.003*\"voice\" + '\n",
      "  '0.003*\"animated\"'),\n",
      " (5,\n",
      "  '0.009*\"war\" + 0.005*\"star\" + 0.005*\"battle\" + 0.004*\"soldier\" + '\n",
      "  '0.004*\"world\" + 0.004*\"nbsp\" + 0.004*\"effect\" + 0.003*\"menace\" + '\n",
      "  '0.003*\"special\" + 0.003*\"warrior\"')]\n"
     ]
    }
   ],
   "source": [
    "# Print the Keyword in the 10 topics\n",
    "pprint(lda_model.print_topics())\n",
    "doc_lda = lda_model[corpus]"
   ]
  },
  {
   "cell_type": "markdown",
   "metadata": {},
   "source": [
    "__Visually interpreting topics from LDA using pyLDAvis:__\n",
    "- pyLDAvis is designed to help users interpret the topics in a topic model that has been fit to a corpus of text data. \n",
    "- The package extracts information from a fitted LDA topic model to inform an interactive web-based visualization.\n",
    "\n",
    "__Features:__\n",
    "- Saliency: a measure of how much the term tells you about the topic.\n",
    "- Relevance: a weighted average of the probability of the word given the topic, and the word given the topic normalized by the probability of the topic.\n",
    "- The size of the bubble measures the importance of the topics, relative to the data."
   ]
  },
  {
   "cell_type": "code",
   "execution_count": 116,
   "metadata": {
    "scrolled": false
   },
   "outputs": [
    {
     "data": {
      "text/html": [
       "\n",
       "<link rel=\"stylesheet\" type=\"text/css\" href=\"https://cdn.rawgit.com/bmabey/pyLDAvis/files/ldavis.v1.0.0.css\">\n",
       "\n",
       "\n",
       "<div id=\"ldavis_el1671620660831768805802585836\"></div>\n",
       "<script type=\"text/javascript\">\n",
       "\n",
       "var ldavis_el1671620660831768805802585836_data = {\"mdsDat\": {\"Freq\": [8.854507446289062, 10.586529731750488, 5.093914031982422, 64.27655029296875, 6.128904819488525, 5.0595855712890625], \"cluster\": [1, 1, 1, 1, 1, 1], \"topics\": [1, 2, 3, 4, 5, 6], \"x\": [-0.005340127173662945, 0.14273122250111453, -0.1691026568872191, 0.2859631895947851, -0.15931583686324086, -0.09493579117177686], \"y\": [-0.19025562489068457, 0.1375053083013366, -0.0476562309713339, -0.058792010413283594, -0.05009171055026889, 0.2092902685242345]}, \"tinfo\": {\"Category\": [\"Default\", \"Default\", \"Default\", \"Default\", \"Default\", \"Default\", \"Default\", \"Default\", \"Default\", \"Default\", \"Default\", \"Default\", \"Default\", \"Default\", \"Default\", \"Default\", \"Default\", \"Default\", \"Default\", \"Default\", \"Default\", \"Default\", \"Default\", \"Default\", \"Default\", \"Default\", \"Default\", \"Default\", \"Default\", \"Default\", \"Topic1\", \"Topic1\", \"Topic1\", \"Topic1\", \"Topic1\", \"Topic1\", \"Topic1\", \"Topic1\", \"Topic1\", \"Topic1\", \"Topic1\", \"Topic1\", \"Topic1\", \"Topic1\", \"Topic1\", \"Topic1\", \"Topic1\", \"Topic1\", \"Topic1\", \"Topic1\", \"Topic1\", \"Topic1\", \"Topic1\", \"Topic1\", \"Topic1\", \"Topic1\", \"Topic1\", \"Topic1\", \"Topic1\", \"Topic1\", \"Topic1\", \"Topic1\", \"Topic1\", \"Topic1\", \"Topic1\", \"Topic1\", \"Topic1\", \"Topic1\", \"Topic1\", \"Topic1\", \"Topic1\", \"Topic1\", \"Topic1\", \"Topic1\", \"Topic1\", \"Topic1\", \"Topic1\", \"Topic1\", \"Topic1\", \"Topic1\", \"Topic1\", \"Topic1\", \"Topic1\", \"Topic1\", \"Topic1\", \"Topic1\", \"Topic1\", \"Topic1\", \"Topic1\", \"Topic1\", \"Topic1\", \"Topic1\", \"Topic1\", \"Topic1\", \"Topic1\", \"Topic1\", \"Topic1\", \"Topic1\", \"Topic1\", \"Topic1\", \"Topic2\", \"Topic2\", \"Topic2\", \"Topic2\", \"Topic2\", \"Topic2\", \"Topic2\", \"Topic2\", \"Topic2\", \"Topic2\", \"Topic2\", \"Topic2\", \"Topic2\", \"Topic2\", \"Topic2\", \"Topic2\", \"Topic2\", \"Topic2\", \"Topic2\", \"Topic2\", \"Topic2\", \"Topic2\", \"Topic2\", \"Topic2\", \"Topic2\", \"Topic2\", \"Topic2\", \"Topic2\", \"Topic2\", \"Topic2\", \"Topic2\", \"Topic2\", \"Topic2\", \"Topic2\", \"Topic2\", \"Topic2\", \"Topic2\", \"Topic2\", \"Topic2\", \"Topic2\", \"Topic2\", \"Topic2\", \"Topic2\", \"Topic2\", \"Topic2\", \"Topic2\", \"Topic2\", \"Topic2\", \"Topic2\", \"Topic2\", \"Topic2\", \"Topic2\", \"Topic2\", \"Topic2\", \"Topic2\", \"Topic2\", \"Topic2\", \"Topic2\", \"Topic3\", \"Topic3\", \"Topic3\", \"Topic3\", \"Topic3\", \"Topic3\", \"Topic3\", \"Topic3\", \"Topic3\", \"Topic3\", \"Topic3\", \"Topic3\", \"Topic3\", \"Topic3\", \"Topic3\", \"Topic3\", \"Topic3\", \"Topic3\", \"Topic3\", \"Topic3\", \"Topic3\", \"Topic3\", \"Topic3\", \"Topic3\", \"Topic3\", \"Topic3\", \"Topic3\", \"Topic3\", \"Topic3\", \"Topic3\", \"Topic3\", \"Topic3\", \"Topic3\", \"Topic3\", \"Topic3\", \"Topic3\", \"Topic3\", \"Topic3\", \"Topic3\", \"Topic3\", \"Topic3\", \"Topic3\", \"Topic3\", \"Topic3\", \"Topic3\", \"Topic3\", \"Topic3\", \"Topic3\", \"Topic3\", \"Topic3\", \"Topic3\", \"Topic3\", \"Topic3\", \"Topic3\", \"Topic3\", \"Topic3\", \"Topic3\", \"Topic3\", \"Topic4\", \"Topic4\", \"Topic4\", \"Topic4\", \"Topic4\", \"Topic4\", \"Topic4\", \"Topic4\", \"Topic4\", \"Topic4\", \"Topic4\", \"Topic4\", \"Topic4\", \"Topic4\", \"Topic4\", \"Topic4\", \"Topic4\", \"Topic4\", \"Topic4\", \"Topic4\", \"Topic4\", \"Topic4\", \"Topic4\", \"Topic4\", \"Topic4\", \"Topic4\", \"Topic4\", \"Topic4\", \"Topic4\", \"Topic4\", \"Topic4\", \"Topic4\", \"Topic4\", \"Topic4\", \"Topic4\", \"Topic4\", \"Topic4\", \"Topic4\", \"Topic4\", \"Topic4\", \"Topic4\", \"Topic4\", \"Topic4\", \"Topic4\", \"Topic4\", \"Topic4\", \"Topic4\", \"Topic4\", \"Topic4\", \"Topic4\", \"Topic4\", \"Topic4\", \"Topic4\", \"Topic4\", \"Topic4\", \"Topic4\", \"Topic4\", \"Topic4\", \"Topic4\", \"Topic4\", \"Topic4\", \"Topic4\", \"Topic4\", \"Topic4\", \"Topic4\", \"Topic4\", \"Topic4\", \"Topic4\", \"Topic4\", \"Topic4\", \"Topic4\", \"Topic4\", \"Topic4\", \"Topic4\", \"Topic4\", \"Topic4\", \"Topic4\", \"Topic5\", \"Topic5\", \"Topic5\", \"Topic5\", \"Topic5\", \"Topic5\", \"Topic5\", \"Topic5\", \"Topic5\", \"Topic5\", \"Topic5\", \"Topic5\", \"Topic5\", \"Topic5\", \"Topic5\", \"Topic5\", \"Topic5\", \"Topic5\", \"Topic5\", \"Topic5\", \"Topic5\", \"Topic5\", \"Topic5\", \"Topic5\", \"Topic5\", \"Topic5\", \"Topic5\", \"Topic5\", \"Topic5\", \"Topic5\", \"Topic5\", \"Topic5\", \"Topic5\", \"Topic5\", \"Topic5\", \"Topic5\", \"Topic5\", \"Topic5\", \"Topic5\", \"Topic5\", \"Topic5\", \"Topic5\", \"Topic5\", \"Topic5\", \"Topic5\", \"Topic5\", \"Topic5\", \"Topic5\", \"Topic5\", \"Topic5\", \"Topic5\", \"Topic5\", \"Topic6\", \"Topic6\", \"Topic6\", \"Topic6\", \"Topic6\", \"Topic6\", \"Topic6\", \"Topic6\", \"Topic6\", \"Topic6\", \"Topic6\", \"Topic6\", \"Topic6\", \"Topic6\", \"Topic6\", \"Topic6\", \"Topic6\", \"Topic6\", \"Topic6\", \"Topic6\", \"Topic6\", \"Topic6\", \"Topic6\", \"Topic6\", \"Topic6\", \"Topic6\", \"Topic6\", \"Topic6\", \"Topic6\", \"Topic6\", \"Topic6\", \"Topic6\", \"Topic6\", \"Topic6\", \"Topic6\", \"Topic6\", \"Topic6\", \"Topic6\", \"Topic6\", \"Topic6\", \"Topic6\", \"Topic6\", \"Topic6\", \"Topic6\", \"Topic6\", \"Topic6\", \"Topic6\", \"Topic6\", \"Topic6\", \"Topic6\", \"Topic6\", \"Topic6\", \"Topic6\", \"Topic6\", \"Topic6\"], \"Freq\": [1892.0, 881.0, 823.0, 1451.0, 961.0, 1048.0, 732.0, 461.0, 822.0, 326.0, 462.0, 806.0, 1572.0, 540.0, 534.0, 388.0, 2872.0, 443.0, 472.0, 3699.0, 577.0, 400.0, 532.0, 5601.0, 1086.0, 345.0, 708.0, 423.0, 496.0, 381.0, 149.79786682128906, 89.05189514160156, 85.0591049194336, 65.46662902832031, 62.02971267700195, 63.11555862426758, 60.29772186279297, 58.787025451660156, 57.6893424987793, 57.71391296386719, 63.25589370727539, 53.315452575683594, 51.28324508666992, 53.056549072265625, 52.639244079589844, 52.06901168823242, 48.78820037841797, 48.47077941894531, 47.84394454956055, 47.83749008178711, 48.32870864868164, 46.075252532958984, 45.23998260498047, 44.54187774658203, 44.30577087402344, 43.466121673583984, 43.45835494995117, 44.081443786621094, 42.361541748046875, 42.65599822998047, 76.59829711914062, 74.1559066772461, 46.84702682495117, 56.05502700805664, 73.83308410644531, 63.26031494140625, 142.6162109375, 70.03546142578125, 85.48246002197266, 145.5803985595703, 159.35360717773438, 86.94110870361328, 249.74716186523438, 197.2265167236328, 71.39859771728516, 364.26171875, 430.1977844238281, 219.17977905273438, 163.4408416748047, 162.1934356689453, 180.98410034179688, 99.02584838867188, 137.3343048095703, 93.67786407470703, 226.1750030517578, 107.61048889160156, 113.50956726074219, 107.24382019042969, 156.7079315185547, 151.21441650390625, 121.66846466064453, 140.29144287109375, 114.84370422363281, 168.55075073242188, 149.50636291503906, 138.39376831054688, 146.1776885986328, 130.43850708007812, 136.95130920410156, 107.01443481445312, 387.92913818359375, 344.9591979980469, 237.04745483398438, 223.15225219726562, 212.70700073242188, 203.07589721679688, 203.48370361328125, 173.50926208496094, 171.2196807861328, 120.05703735351562, 115.77581787109375, 111.98517608642578, 107.4341049194336, 104.5440902709961, 102.79019165039062, 97.22859954833984, 95.8665542602539, 91.26083374023438, 90.7092056274414, 87.58354949951172, 85.6394271850586, 83.04866790771484, 73.15180969238281, 82.46550750732422, 69.94611358642578, 68.76073455810547, 69.19407653808594, 66.41603088378906, 66.62824249267578, 64.52212524414062, 191.49746704101562, 123.69538879394531, 221.08802795410156, 138.31687927246094, 206.97828674316406, 226.38113403320312, 145.9134979248047, 123.94342803955078, 476.33367919921875, 114.39524841308594, 168.6663818359375, 229.04244995117188, 192.906494140625, 226.11448669433594, 287.76519775390625, 154.63124084472656, 236.72976684570312, 125.65597534179688, 161.003662109375, 268.052490234375, 239.0880126953125, 130.8859405517578, 213.67877197265625, 211.73739624023438, 259.6549987792969, 167.8085174560547, 172.53761291503906, 146.21240234375, 81.92704010009766, 81.12244415283203, 78.11882019042969, 74.87024688720703, 72.30131530761719, 69.5792007446289, 67.90316009521484, 64.82872009277344, 62.46455001831055, 60.95454025268555, 60.25424575805664, 57.68548583984375, 55.99468994140625, 54.605655670166016, 52.581607818603516, 49.21907424926758, 46.39836883544922, 46.670562744140625, 44.30155944824219, 43.314029693603516, 43.07714080810547, 63.145660400390625, 42.22014236450195, 39.44129180908203, 37.57122039794922, 37.597572326660156, 36.88648986816406, 35.74897766113281, 35.73576354980469, 35.394344329833984, 164.38417053222656, 87.73660278320312, 62.90354537963867, 54.99525833129883, 56.04874801635742, 61.563812255859375, 79.50411987304688, 224.77239990234375, 312.9051513671875, 73.42009735107422, 71.20669555664062, 491.57470703125, 59.752174377441406, 247.81117248535156, 152.2266845703125, 140.3816375732422, 84.58403778076172, 74.63216400146484, 113.86051940917969, 108.8718490600586, 105.79771423339844, 89.95661163330078, 126.32542419433594, 82.53584289550781, 79.9906234741211, 67.06208038330078, 73.63890075683594, 67.15518188476562, 1215.4364013671875, 376.9331359863281, 407.7277526855469, 334.79840087890625, 631.6870727539062, 278.9551696777344, 439.68109130859375, 243.41781616210938, 361.951904296875, 221.35079956054688, 217.44081115722656, 448.723876953125, 213.1905975341797, 212.98138427734375, 224.42105102539062, 227.0345916748047, 234.06214904785156, 203.33412170410156, 201.91506958007812, 567.087646484375, 195.831787109375, 188.71278381347656, 188.54315185546875, 198.31288146972656, 486.9638671875, 176.4569854736328, 210.91650390625, 175.69227600097656, 171.20339965820312, 382.5665283203125, 2842.405029296875, 1427.4559326171875, 1683.5914306640625, 1238.7802734375, 997.6144409179688, 719.90869140625, 2530.99560546875, 1012.773681640625, 512.5947875976562, 901.4522705078125, 1642.420654296875, 655.9505004882812, 434.77239990234375, 2243.527099609375, 764.305908203125, 763.1474609375, 1329.783203125, 563.569580078125, 3611.857177734375, 1507.3682861328125, 1720.1097412109375, 715.2446899414062, 721.1555786132812, 5275.31787109375, 3518.6748046875, 2641.4267578125, 2522.216064453125, 2085.842041015625, 1686.682861328125, 2627.23095703125, 1014.1456909179688, 1836.58251953125, 1251.323486328125, 1043.404541015625, 1615.33349609375, 1697.2586669921875, 1465.37158203125, 1230.1920166015625, 1839.815185546875, 1390.404541015625, 1391.7989501953125, 1528.8148193359375, 1333.9234619140625, 1674.87744140625, 1355.85546875, 1321.919921875, 1363.15185546875, 159.59324645996094, 123.93282318115234, 114.66656494140625, 98.47684478759766, 97.12654876708984, 91.07435607910156, 88.57292938232422, 82.9041748046875, 82.7540054321289, 83.39029693603516, 80.15196228027344, 78.28428649902344, 71.64171600341797, 67.7562255859375, 66.07147216796875, 64.6806411743164, 60.178382873535156, 57.15474319458008, 51.491172790527344, 50.304141998291016, 50.16672897338867, 49.74831771850586, 48.357086181640625, 44.94232177734375, 44.187705993652344, 48.38740158081055, 41.33448028564453, 41.117462158203125, 40.048492431640625, 39.23075866699219, 184.343017578125, 48.38101577758789, 132.92027282714844, 196.39952087402344, 88.0431137084961, 174.52149963378906, 66.06484985351562, 122.70271301269531, 110.4301528930664, 132.50599670410156, 164.80288696289062, 59.545997619628906, 141.1043701171875, 83.53185272216797, 99.9022216796875, 263.2909851074219, 103.8140869140625, 122.6597900390625, 111.74302673339844, 113.45026397705078, 96.63152313232422, 95.67593383789062, 325.93798828125, 149.8544464111328, 139.37098693847656, 103.54067993164062, 102.91179656982422, 97.06651306152344, 102.06595611572266, 97.61463165283203, 74.14900207519531, 68.29827117919922, 58.637210845947266, 57.79096221923828, 56.578590393066406, 53.62484359741211, 52.00017547607422, 51.66036605834961, 51.65156936645508, 51.69366455078125, 49.866600036621094, 46.84904098510742, 45.62355041503906, 44.14509582519531, 44.09373092651367, 44.04648971557617, 44.1765022277832, 40.266231536865234, 39.11778259277344, 40.38616180419922, 40.06792449951172, 40.3127555847168, 53.989253997802734, 74.71463775634766, 72.26883697509766, 40.920654296875, 46.04673385620117, 102.2635269165039, 69.8577880859375, 101.60619354248047, 176.93508911132812, 53.96062088012695, 64.22772979736328, 49.506046295166016, 73.18838500976562, 79.54613494873047, 184.06068420410156, 147.4115447998047, 131.03713989257812, 79.94529724121094, 78.6958999633789, 83.820068359375, 103.47688293457031, 76.88685607910156, 71.05253601074219, 92.84298706054688, 63.0619010925293], \"Term\": [\"--\", \"funny\", \"comedy\", \"life\", \"star\", \"love\", \"effect\", \"joke\", \"woman\", \"war\", \"laugh\", \"world\", \"'\", \"wife\", \"special\", \"horror\", \"get\", \"brother\", \"high\", \"character\", \"series\", \"school\", \"family\", \"one\", \"performance\", \"alien\", \"original\", \"humor\", \"child\", \"relationship\", \"bat\", \"gay\", \"kate\", \"wealthy\", \"soap\", \"owen\", \"krippendorf\", \"betty\", \"erotic\", \"warren\", \"bye\", \"fred\", \"dicaprio\", \"kline\", \"liz\", \"farley\", \"franklin\", \"shandling\", \"connor\", \"harrelson\", \"skit\", \"philip\", \"lucy\", \"melvin\", \"butcher\", \"kenneth\", \"theron\", \"poet\", \"dreyfus\", \"barbara\", \"tribe\", \"bottle\", \"boogie\", \"potentially\", \"suicide\", \"baseball\", \"husband\", \"joan\", \"taylor\", \"romantic\", \"joe\", \"sweet\", \"family\", \"relationship\", \"elizabeth\", \"love\", \"life\", \"wife\", \"town\", \"daughter\", \"father\", \"sister\", \"mother\", \"club\", \"woman\", \"sexual\", \"dream\", \"parent\", \"child\", \"sex\", \"son\", \"young\", \"meet\", \"story\", \"man\", \"find\", \"'\", \"performance\", \"character\", \"becomes\", \"horror\", \"alien\", \"batman\", \"ship\", \"godzilla\", \"vampire\", \"scary\", \"monster\", \"wood\", \"mar\", \"specie\", \"blade\", \"poorly\", \"virus\", \"carpenter\", \"urban\", \"cheesy\", \"scare\", \"slasher\", \"schumacher\", \"gore\", \"lynch\", \"todd\", \"boat\", \"nightmare\", \"crow\", \"x-files\", \"burton\", \"henstridge\", \"idiotic\", \"crew\", \"snake\", \"sequel\", \"blood\", \"scream\", \"killer\", \"killing\", \"scientist\", \"effect\", \"legend\", \"space\", \"summer\", \"earth\", \"2\", \"special\", \"mission\", \"human\", \"ape\", \"planet\", \"original\", \"series\", \"3\", \"first\", \"'\", \"one\", \"sequence\", \"action\", \"look\", \"fat\", \"cindy\", \"chan\", \"damme\", \"alicia\", \"kong\", \"wrestling\", \"prinze\", \"gadget\", \"hong\", \"broderick\", \"momma\", \"freddie\", \"sandler\", \"5/10\", \"courtney\", \"jawbreaker\", \"magoo\", \"8/10\", \"pie\", \"austin\", \"football\", \"li\", \"bang\", \"farrellys\", \"barrymore\", \"werewolf\", \"wcw\", \"mcgowan\", \"musketeer\", \"gag\", \"jackie\", \"arquette\", \"coach\", \"spoof\", \"silent\", \"jay\", \"joke\", \"comedy\", \"stunt\", \"julia\", \"--\", \"chinese\", \"funny\", \"school\", \"laugh\", \"teen\", \"unfunny\", \"high\", \"brother\", \"humor\", \"fight\", \"'\", \"mr\", \"2\", \"wedding\", \"fan\", \"evil\", \"he\", \"car\", \"mean\", \"'d\", \"trying\", \"cop\", \"someone\", \"annoying\", \"boring\", \"happen\", \"seemed\", \"supposed\", \"crime\", \"writing\", \"complete\", \"predictable\", \"waste\", \"stone\", \"thinking\", \"help\", \"agent\", \"pull\", \"willis\", \"dull\", \"always\", \"seagal\", \"straight\", \"subplot\", \"usual\", \"'ll\", \"get\", \"i\", \"way\", \"actor\", \"give\", \"'re\", \"make\", \"think\", \"money\", \"point\", \"thing\", \"reason\", \"we\", \"good\", \"problem\", \"n't\", \"never\", \"hollywood\", \"like\", \"really\", \"plot\", \"ca\", \"'m\", \"one\", \"character\", \"even\", \"scene\", \"would\", \"go\", \"time\", \"guy\", \"bad\", \"end\", \"want\", \"see\", \"two\", \"could\", \"work\", \"much\", \"take\", \"well\", \"also\", \"people\", \"story\", \"come\", \"know\", \"first\", \"disney\", \"animated\", \"spice\", \"tarzan\", \"anaconda\", \"jungle\", \"babe\", \"toy\", \"kelly\", \"hammer\", \"flubber\", \"animation\", \"phil\", \"meg\", \"anna\", \"prince\", \"singing\", \"denise\", \"crystal\", \"bacon\", \"meyer\", \"porter\", \"theresa\", \"mighty\", \"paltrow\", \"grinch\", \"pig\", \"goldblum\", \"walken\", \"finn\", \"west\", \"heckerling\", \"murphy\", \"harry\", \"cartoon\", \"wild\", \"jane\", \"song\", \"eddie\", \"voice\", \"king\", \"princess\", \"mr\", \"adult\", \"studio\", \"--\", \"joe\", \"child\", \"family\", \"girl\", \"feature\", \"young\", \"war\", \"soldier\", \"nbsp\", \"menace\", \"warrior\", \"trek\", \"webb\", \"phantom\", \"verhoeven\", \"brenner\", \"cromwell\", \"connery\", \"irene\", \"data\", \"universe\", \"neeson\", \"ace\", \"boorman\", \"hiding\", \"viking\", \"liam\", \"jar\", \"commander\", \"luke\", \"geronimo\", \"dutch\", \"jedi\", \"clan\", \"dune\", \"kersey\", \"slave\", \"lucas\", \"spawn\", \"highlander\", \"battlefield\", \"military\", \"trooper\", \"army\", \"battle\", \"starship\", \"terrorist\", \"truman\", \"carrey\", \"leader\", \"star\", \"world\", \"effect\", \"&\", \"force\", \"planet\", \"special\", \"general\", \"science\", \"series\", \"queen\"], \"Total\": [1892.0, 881.0, 823.0, 1451.0, 961.0, 1048.0, 732.0, 461.0, 822.0, 326.0, 462.0, 806.0, 1572.0, 540.0, 534.0, 388.0, 2872.0, 443.0, 472.0, 3699.0, 577.0, 400.0, 532.0, 5601.0, 1086.0, 345.0, 708.0, 423.0, 496.0, 381.0, 150.58665466308594, 89.83004760742188, 85.83641052246094, 66.24761962890625, 62.8117561340332, 63.91425323486328, 61.07388687133789, 59.56794738769531, 58.47298049926758, 58.49873733520508, 64.148193359375, 54.096031188964844, 52.059661865234375, 53.86118698120117, 53.445709228515625, 52.88145446777344, 49.575035095214844, 49.25914001464844, 48.629268646240234, 48.62508010864258, 49.14411163330078, 46.85930633544922, 46.013797760009766, 45.32340621948242, 45.08620071411133, 44.24402618408203, 44.23835372924805, 44.873985290527344, 43.136173248291016, 43.452388763427734, 80.21843719482422, 77.60803985595703, 47.95243835449219, 59.12431716918945, 82.89276885986328, 69.29541778564453, 200.81613159179688, 82.62421417236328, 108.81637573242188, 235.9506072998047, 274.22442626953125, 115.24987030029297, 532.6991577148438, 381.19537353515625, 86.75070190429688, 1048.5291748046875, 1451.6485595703125, 540.041748046875, 334.4358215332031, 340.7253112792969, 409.62896728515625, 154.0331268310547, 293.30096435546875, 145.83856201171875, 822.5682373046875, 203.28785705566406, 230.58692932128906, 206.93020629882812, 496.9875183105469, 476.3118896484375, 315.6278991699219, 652.030029296875, 410.0072326660156, 2033.03173828125, 1306.24853515625, 1071.480224609375, 1572.7742919921875, 1086.1578369140625, 3699.834716796875, 483.95867919921875, 388.7317810058594, 345.7582702636719, 237.8498077392578, 223.95306396484375, 213.50799560546875, 203.875244140625, 204.28697204589844, 174.31130981445312, 172.0248260498047, 120.85484313964844, 116.57875061035156, 112.78948211669922, 108.24565124511719, 105.34786224365234, 103.58836364746094, 98.033935546875, 96.67605590820312, 92.06324768066406, 91.51065826416016, 88.38516998291016, 86.43965148925781, 83.85441589355469, 73.9637680053711, 83.38103485107422, 70.74730682373047, 69.55962371826172, 69.99848937988281, 67.21524810791016, 67.43054962158203, 65.35509490966797, 201.0984649658203, 130.22544860839844, 246.67666625976562, 148.45367431640625, 237.62600708007812, 265.8531799316406, 165.7996368408203, 137.67320251464844, 732.37890625, 125.9950942993164, 219.32196044921875, 342.26171875, 271.8052978515625, 349.2995910644531, 534.1580810546875, 202.94378662109375, 448.22747802734375, 148.45315551757812, 245.46267700195312, 708.6687622070312, 577.373291015625, 173.56875610351562, 1618.0213623046875, 1572.7742919921875, 5601.349609375, 610.7564697265625, 1233.802734375, 1432.10791015625, 82.7445297241211, 81.95514678955078, 78.92594146728516, 75.68003845214844, 73.12635803222656, 70.38890838623047, 68.7122802734375, 65.64246368408203, 63.28178787231445, 61.76216125488281, 61.07613754272461, 58.505977630615234, 56.81298828125, 55.41255187988281, 53.39329528808594, 50.036537170410156, 47.20896530151367, 47.486114501953125, 45.11021041870117, 44.12271499633789, 43.88462829589844, 64.33699798583984, 43.02859115600586, 40.27523422241211, 38.38042449951172, 38.408668518066406, 37.709754943847656, 36.55497360229492, 36.546024322509766, 36.20060729980469, 177.12660217285156, 94.20797729492188, 69.29109954833984, 59.995933532714844, 62.14803695678711, 70.55769348144531, 101.46363830566406, 461.3352355957031, 823.3067016601562, 97.48638153076172, 93.32527923583984, 1892.023193359375, 71.55883026123047, 881.4876098632812, 400.9446716308594, 462.0205078125, 163.07850646972656, 132.705322265625, 472.9750061035156, 443.9439392089844, 423.9490966796875, 347.28680419921875, 1572.7742919921875, 398.4908447265625, 349.2995910644531, 131.37478637695312, 404.71112060546875, 388.5184631347656, 1216.28125, 377.7147521972656, 408.6750793457031, 335.5878601074219, 633.3032836914062, 279.7367858886719, 441.0802307128906, 244.20237731933594, 363.16473388671875, 222.1328582763672, 218.2246856689453, 450.3504943847656, 213.97250366210938, 213.76731872558594, 225.26417541503906, 227.89833068847656, 234.9575653076172, 204.11819458007812, 202.69827270507812, 569.3366088867188, 196.61669921875, 189.4958953857422, 189.32687377929688, 199.13772583007812, 489.120361328125, 177.2428741455078, 211.8588104248047, 176.4794921875, 171.9861297607422, 384.3221435546875, 2872.71240234375, 1435.3822021484375, 1696.677490234375, 1246.9219970703125, 1005.0701904296875, 723.6836547851562, 2577.42919921875, 1023.8838500976562, 515.0140380859375, 911.5604248046875, 1671.9205322265625, 661.8457641601562, 436.8992004394531, 2292.39453125, 772.7721557617188, 771.8670654296875, 1353.25390625, 568.5780639648438, 3742.69580078125, 1544.460693359375, 1770.07958984375, 724.4583740234375, 732.11083984375, 5601.349609375, 3699.834716796875, 2762.46728515625, 2637.683349609375, 2169.5224609375, 1742.892822265625, 2771.636474609375, 1039.3028564453125, 1920.9951171875, 1294.2301025390625, 1072.1141357421875, 1692.5198974609375, 1794.7391357421875, 1537.156982421875, 1280.802001953125, 1979.7666015625, 1471.39111328125, 1476.00244140625, 1646.100830078125, 1422.4154052734375, 2033.03173828125, 1483.5689697265625, 1438.70361328125, 1618.0213623046875, 160.38623046875, 124.72752380371094, 115.4627914428711, 99.26813507080078, 97.94479370117188, 91.8742446899414, 89.37005615234375, 83.69961547851562, 83.54966735839844, 84.2021713256836, 80.9490737915039, 79.07797241210938, 72.44378662109375, 68.55355834960938, 66.86817169189453, 65.48482513427734, 60.97526550292969, 57.96112060546875, 52.28493881225586, 51.10401153564453, 50.97145080566406, 50.548194885253906, 49.16327667236328, 45.73712921142578, 44.98326110839844, 49.288902282714844, 42.1328239440918, 41.91925048828125, 40.848758697509766, 40.02600860595703, 199.0554962158203, 49.910865783691406, 148.74742126464844, 237.9284210205078, 100.84400177001953, 242.86260986328125, 73.4896240234375, 167.5894775390625, 149.27182006835938, 208.53411865234375, 314.0769958496094, 68.24496459960938, 398.4908447265625, 139.6928253173828, 208.17242431640625, 1892.023193359375, 274.22442626953125, 496.9875183105469, 532.6991577148438, 681.2632446289062, 371.9429016113281, 652.030029296875, 326.7259826660156, 150.64505004882812, 140.18545532226562, 104.33150482177734, 103.70037841796875, 97.8528060913086, 102.89387512207031, 98.40650939941406, 74.93663787841797, 69.08777618408203, 59.43506622314453, 58.60895919799805, 57.391929626464844, 54.41126251220703, 52.79068374633789, 52.45339584350586, 52.4512939453125, 52.516395568847656, 50.69619369506836, 47.64035415649414, 46.42256546020508, 44.93532180786133, 44.89224624633789, 44.845123291015625, 45.002071380615234, 41.06167221069336, 39.901588439941406, 41.196773529052734, 40.87665939331055, 41.12697219848633, 55.3541374206543, 77.95088958740234, 76.59721374511719, 41.7928352355957, 47.651771545410156, 115.94969940185547, 76.08406829833984, 116.32206726074219, 231.539306640625, 58.330448150634766, 83.2337875366211, 53.9474983215332, 118.44639587402344, 142.46078491210938, 961.323486328125, 806.9683837890625, 732.37890625, 184.01187133789062, 198.0714569091797, 245.46267700195312, 534.1580810546875, 192.49166870117188, 158.48805236816406, 577.373291015625, 131.3807373046875], \"loglift\": [30.0, 29.0, 28.0, 27.0, 26.0, 25.0, 24.0, 23.0, 22.0, 21.0, 20.0, 19.0, 18.0, 17.0, 16.0, 15.0, 14.0, 13.0, 12.0, 11.0, 10.0, 9.0, 8.0, 7.0, 6.0, 5.0, 4.0, 3.0, 2.0, 1.0, 2.4189999103546143, 2.4154999256134033, 2.41510009765625, 2.412400007247925, 2.4117000102996826, 2.4117000102996826, 2.4114999771118164, 2.4110000133514404, 2.410799980163574, 2.4107000827789307, 2.4102001190185547, 2.4096999168395996, 2.4091999530792236, 2.4091999530792236, 2.4089999198913574, 2.408799886703491, 2.4082000255584717, 2.408099889755249, 2.4079999923706055, 2.407900094985962, 2.4075000286102295, 2.407399892807007, 2.4072999954223633, 2.4068000316619873, 2.4068000316619873, 2.4065001010894775, 2.4065001010894775, 2.406399965286255, 2.406100034713745, 2.4056999683380127, 2.3780999183654785, 2.378700017929077, 2.400899887084961, 2.3708999156951904, 2.308500051498413, 2.3331000804901123, 2.0820000171661377, 2.2588999271392822, 2.1828999519348145, 1.9413000345230103, 1.8813999891281128, 2.142400026321411, 1.666700005531311, 1.7653000354766846, 2.2295000553131104, 1.3669999837875366, 1.2079999446868896, 1.5225000381469727, 1.7081999778747559, 1.6820000410079956, 1.6073999404907227, 1.9824999570846558, 1.6655000448226929, 1.981600046157837, 1.1331000328063965, 1.788100004196167, 1.715499997138977, 1.7669999599456787, 1.2700999975204468, 1.276900053024292, 1.4709999561309814, 0.8878999948501587, 1.1516000032424927, -0.0658000037074089, 0.2567000091075897, 0.3776000142097473, 0.048500001430511475, 0.30469998717308044, -0.8722000122070312, 0.9151999950408936, 2.243499994277954, 2.243299961090088, 2.2421998977661133, 2.242000102996826, 2.24180006980896, 2.2416999340057373, 2.2416000366210938, 2.240999937057495, 2.2409000396728516, 2.239000082015991, 2.2386999130249023, 2.2383999824523926, 2.238100051879883, 2.2379000186920166, 2.2379000186920166, 2.237299919128418, 2.2372000217437744, 2.236799955368042, 2.236799955368042, 2.2365000247955322, 2.236299991607666, 2.2358999252319336, 2.234499931335449, 2.234499931335449, 2.2342000007629395, 2.2339999675750732, 2.2339999675750732, 2.233599901199341, 2.233599901199341, 2.232800006866455, 2.196700096130371, 2.1940999031066895, 2.1361000537872314, 2.1749000549316406, 2.1075000762939453, 2.08489990234375, 2.117799997329712, 2.140500068664551, 1.8154000043869019, 2.1489999294281006, 1.9830000400543213, 1.8438999652862549, 1.9026999473571777, 1.8107000589370728, 1.6269999742507935, 1.9737000465393066, 1.607200026512146, 2.078900098800659, 1.8238999843597412, 1.2733999490737915, 1.3638999462127686, 1.9632999897003174, 0.22110000252723694, 0.2402999997138977, -0.8258000016212463, 0.9537000060081482, 0.2782999873161316, -0.03629999980330467, 2.9672000408172607, 2.966900110244751, 2.9667999744415283, 2.966399908065796, 2.9658000469207764, 2.96560001373291, 2.9653000831604004, 2.964600086212158, 2.964099884033203, 2.9639999866485596, 2.963599920272827, 2.9630000591278076, 2.962599992752075, 2.9625000953674316, 2.9618000984191895, 2.960700035095215, 2.9598000049591064, 2.9598000049591064, 2.9590001106262207, 2.9586000442504883, 2.9586000442504883, 2.958400011062622, 2.958199977874756, 2.956199884414673, 2.9558000564575195, 2.9558000564575195, 2.9549999237060547, 2.9547998905181885, 2.954699993133545, 2.9546000957489014, 2.9024999141693115, 2.9059998989105225, 2.8803999423980713, 2.8901000022888184, 2.873800039291382, 2.8408000469207764, 2.7332000732421875, 2.2581000328063965, 2.009700059890747, 2.6935999393463135, 2.7065999507904053, 1.6292999982833862, 2.796799898147583, 1.7081999778747559, 2.008699893951416, 1.7858999967575073, 2.3206000328063965, 2.401599884033203, 1.5530999898910522, 1.5715999603271484, 1.5889999866485596, 1.6262999773025513, 0.4553999900817871, 1.4026999473571777, 1.503100037574768, 2.3046998977661133, 1.2731000185012817, 1.2217999696731567, 0.44130000472068787, 0.4399000108242035, 0.43970000743865967, 0.43959999084472656, 0.43939998745918274, 0.4392000138759613, 0.43880000710487366, 0.43880000710487366, 0.43860000371932983, 0.438400000333786, 0.438400000333786, 0.438400000333786, 0.4383000135421753, 0.4383000135421753, 0.4381999969482422, 0.4381999969482422, 0.4381999969482422, 0.43810001015663147, 0.43810001015663147, 0.43799999356269836, 0.43799999356269836, 0.43779999017715454, 0.43779999017715454, 0.43779999017715454, 0.4375999867916107, 0.4375, 0.4375, 0.4375, 0.4374000132083893, 0.4374000132083893, 0.43140000104904175, 0.43639999628067017, 0.4341999888420105, 0.43540000915527344, 0.4345000088214874, 0.4366999864578247, 0.423799991607666, 0.4311000108718872, 0.4372999966144562, 0.4307999908924103, 0.42419999837875366, 0.43299999833106995, 0.43709999322891235, 0.4203999936580658, 0.4309999942779541, 0.43059998750686646, 0.4244999885559082, 0.43309998512268066, 0.40639999508857727, 0.41769999265670776, 0.4133000075817108, 0.4291999936103821, 0.4268999993801117, 0.38199999928474426, 0.3917999863624573, 0.39719998836517334, 0.39719998836517334, 0.4025999903678894, 0.4092000126838684, 0.38850000500679016, 0.41749998927116394, 0.3970000147819519, 0.4083000123500824, 0.4147999882698059, 0.3953000009059906, 0.38609999418258667, 0.39410001039505005, 0.4016999900341034, 0.3686999976634979, 0.3853999972343445, 0.3831999897956848, 0.36809998750686646, 0.37770000100135803, 0.24819999933242798, 0.35199999809265137, 0.3573000133037567, 0.27059999108314514, 2.7871999740600586, 2.785799980163574, 2.7852001190185547, 2.7841999530792236, 2.783799886703491, 2.783400058746338, 2.7832000255584717, 2.782599925994873, 2.782599925994873, 2.7825000286102295, 2.7822999954223633, 2.782099962234497, 2.7809998989105225, 2.7804999351501465, 2.7802000045776367, 2.7797999382019043, 2.7790000438690186, 2.77810001373291, 2.776900053024292, 2.776400089263916, 2.77620005607605, 2.77620005607605, 2.775599956512451, 2.774600028991699, 2.7743000984191895, 2.773699998855591, 2.7730000019073486, 2.7727999687194824, 2.77239990234375, 2.7720999717712402, 2.715399980545044, 2.760999917984009, 2.6796998977661133, 2.6003000736236572, 2.656399965286255, 2.461699962615967, 2.6856000423431396, 2.4804000854492188, 2.490799903869629, 2.33870005607605, 2.1473000049591064, 2.6558001041412354, 1.753999948501587, 2.277899980545044, 2.058000087738037, 0.8199999928474426, 1.8207999467849731, 1.3930000066757202, 1.2303999662399292, 0.9995999932289124, 1.4443000555038452, 0.8730000257492065, 2.9814999103546143, 2.978600025177002, 2.978100061416626, 2.976300001144409, 2.976300001144409, 2.975800037384033, 2.975800037384033, 2.975800037384033, 2.973299980163574, 2.972399950027466, 2.970400094985962, 2.9697999954223633, 2.969599962234497, 2.9693000316619873, 2.9688000679016113, 2.9686999320983887, 2.9684998989105225, 2.968100070953369, 2.967400074005127, 2.967099905014038, 2.9665000438690186, 2.966099977493286, 2.96589994430542, 2.96589994430542, 2.965399980545044, 2.9642999172210693, 2.9639999866485596, 2.9639999866485596, 2.963900089263916, 2.963900089263916, 2.958899974822998, 2.941499948501587, 2.9256999492645264, 2.9628000259399414, 2.9495999813079834, 2.858299970626831, 2.8984999656677246, 2.848599910736084, 2.714900016784668, 2.9059998989105225, 2.7246999740600586, 2.8980000019073486, 2.502500057220459, 2.40120005607605, 1.3308000564575195, 1.2838000059127808, 1.263100028038025, 2.1501998901367188, 2.060800075531006, 1.9093999862670898, 1.3424999713897705, 2.066200017929077, 2.1816000938415527, 1.1562999486923218, 2.2499001026153564], \"logprob\": [30.0, 29.0, 28.0, 27.0, 26.0, 25.0, 24.0, 23.0, 22.0, 21.0, 20.0, 19.0, 18.0, 17.0, 16.0, 15.0, 14.0, 13.0, 12.0, 11.0, 10.0, 9.0, 8.0, 7.0, 6.0, 5.0, 4.0, 3.0, 2.0, 1.0, -6.018099784851074, -6.538099765777588, -6.584000110626221, -6.845799922943115, -6.899700164794922, -6.882400035858154, -6.928100109100342, -6.953400135040283, -6.972300052642822, -6.97189998626709, -6.880199909210205, -7.05109977722168, -7.090000152587891, -7.056000232696533, -7.063899993896484, -7.07480001449585, -7.139900207519531, -7.146399974822998, -7.15939998626709, -7.159599781036377, -7.1493000984191895, -7.1971001625061035, -7.215400218963623, -7.230899810791016, -7.236199855804443, -7.25540018081665, -7.2555999755859375, -7.241300106048584, -7.281099796295166, -7.274199962615967, -6.688799858093262, -6.721199989318848, -7.180500030517578, -7.000999927520752, -6.725599765777588, -6.880099773406982, -6.067200183868408, -6.77839994430542, -6.578999996185303, -6.046599864959717, -5.956200122833252, -6.562099933624268, -5.506899833679199, -5.743000030517578, -6.759099960327148, -5.129499912261963, -4.963099956512451, -5.637499809265137, -5.9309000968933105, -5.938600063323975, -5.828999996185303, -6.432000160217285, -6.104899883270264, -6.487500190734863, -5.606100082397461, -6.348800182342529, -6.295499801635742, -6.35230016708374, -5.9730000495910645, -6.008699893951416, -6.226099967956543, -6.083600044250488, -6.28380012512207, -5.900100231170654, -6.019999980926514, -6.097300052642822, -6.042500019073486, -6.156499862670898, -6.107699871063232, -6.354400157928467, -5.245200157165527, -5.362599849700928, -5.737800121307373, -5.7982001304626465, -5.846099853515625, -5.892399787902832, -5.890399932861328, -6.049799919128418, -6.0630998611450195, -6.418099880218506, -6.454400062561035, -6.48769998550415, -6.529099941253662, -6.556399822235107, -6.573299884796143, -6.629000186920166, -6.643099784851074, -6.692299842834473, -6.698400020599365, -6.733399868011475, -6.755899906158447, -6.786600112915039, -6.91349983215332, -6.793600082397461, -6.9583001136779785, -6.975399971008301, -6.969099998474121, -7.0100998878479, -7.006899833679199, -7.039000034332275, -5.951099872589111, -6.388199806213379, -5.807499885559082, -6.276500225067139, -5.8734002113342285, -5.78380012512207, -6.2230000495910645, -6.386199951171875, -5.039899826049805, -6.466400146484375, -6.078100204467773, -5.77209997177124, -5.94379997253418, -5.784999847412109, -5.543900012969971, -6.164999961853027, -5.739099979400635, -6.372499942779541, -6.124599933624268, -5.614799976348877, -5.7291998863220215, -6.331699848175049, -5.8414998054504395, -5.8506999015808105, -5.646699905395508, -6.083199977874756, -6.0553998947143555, -6.2210001945495605, -6.068699836730957, -6.078499794006348, -6.116300106048584, -6.158699989318848, -6.193600177764893, -6.23199987411499, -6.256400108337402, -6.302700042724609, -6.339900016784668, -6.3643999099731445, -6.375899791717529, -6.41949987411499, -6.44920015335083, -6.474299907684326, -6.5121002197265625, -6.578199863433838, -6.637199878692627, -6.631400108337402, -6.683499813079834, -6.705999851226807, -6.71150016784668, -6.328999996185303, -6.731599807739258, -6.799699783325195, -6.848199844360352, -6.847499847412109, -6.866600036621094, -6.8979997634887695, -6.8983001708984375, -6.907899856567383, -5.372300148010254, -6.000100135803223, -6.332900047302246, -6.467199802398682, -6.448299884796143, -6.354400157928467, -6.098700046539307, -5.0594000816345215, -4.728600025177002, -6.178299903869629, -6.208899974822998, -4.276899814605713, -6.384300231933594, -4.9618000984191895, -5.449100017547607, -5.530099868774414, -6.0366997718811035, -6.161900043487549, -5.739500045776367, -5.784299850463867, -5.813000202178955, -5.975200176239014, -5.6356000900268555, -6.061200141906738, -6.092599868774414, -6.268899917602539, -6.175300121307373, -6.267499923706055, -5.906799793243408, -7.077600002288818, -6.999000072479248, -7.196100234985352, -6.561200141906738, -7.378600120544434, -6.923600196838379, -7.514800071716309, -7.118100166320801, -7.609899997711182, -7.627699851989746, -6.903200149536133, -7.64739990234375, -7.648399829864502, -7.596099853515625, -7.584499835968018, -7.553999900817871, -7.694799900054932, -7.7017998695373535, -6.669099807739258, -7.732399940490723, -7.769400119781494, -7.770299911499023, -7.719799995422363, -6.821400165557861, -7.836599826812744, -7.658199787139893, -7.84089994430542, -7.866799831390381, -7.062699794769287, -5.057199954986572, -5.745999813079834, -5.580900192260742, -5.887700080871582, -6.104300022125244, -6.430500030517578, -5.173299789428711, -6.089200019836426, -6.770100116729736, -6.205599784851074, -5.6057000160217285, -6.523499965667725, -6.934800148010254, -5.293799877166748, -6.370699882507324, -6.372200012207031, -5.81689977645874, -6.675300121307373, -4.817699909210205, -5.691500186920166, -5.559500217437744, -6.436999797821045, -6.428800106048584, -4.438799858093262, -4.843800067901611, -5.1305999755859375, -5.176700115203857, -5.366700172424316, -5.579100131988525, -5.135900020599365, -6.087800025939941, -5.49399995803833, -5.877699851989746, -6.0594000816345215, -5.622300148010254, -5.57289981842041, -5.719799995422363, -5.894700050354004, -5.492199897766113, -5.772299766540527, -5.771299839019775, -5.6774001121521, -5.813700199127197, -5.586100101470947, -5.797399997711182, -5.822800159454346, -5.792099952697754, -5.5868000984191895, -5.839700222015381, -5.917399883270264, -6.0696001052856445, -6.083399772644043, -6.147799968719482, -6.175600051879883, -6.241799831390381, -6.243599891662598, -6.235899925231934, -6.2754998207092285, -6.299099922180176, -6.387800216674805, -6.44350004196167, -6.468699932098389, -6.489999771118164, -6.562099933624268, -6.613699913024902, -6.7179999351501465, -6.741399765014648, -6.744100093841553, -6.752500057220459, -6.780799865722656, -6.854100227355957, -6.870999813079834, -6.780200004577637, -6.93779993057251, -6.942999839782715, -6.969399929046631, -6.989999771118164, -5.442699909210205, -6.780300140380859, -5.769700050354004, -5.379300117492676, -6.181600093841553, -5.497399806976318, -6.468800067901611, -5.849699974060059, -5.955100059509277, -5.772799968719482, -5.554699897766113, -6.572700023651123, -5.710000038146973, -6.2342000007629395, -6.055300235748291, -5.08620023727417, -6.0167999267578125, -5.849999904632568, -5.94320011138916, -5.928100109100342, -6.088500022888184, -6.098499774932861, -4.681000232696533, -5.458099842071533, -5.530600070953369, -5.8277997970581055, -5.833799839019775, -5.892300128936768, -5.842100143432617, -5.88670015335083, -6.161600112915039, -6.243800163269043, -6.396399974822998, -6.410900115966797, -6.43209981918335, -6.4857001304626465, -6.516499996185303, -6.5229997634887695, -6.523200035095215, -6.52239990234375, -6.5584001541137695, -6.620800018310547, -6.647299766540527, -6.680200099945068, -6.681399822235107, -6.682499885559082, -6.679500102996826, -6.772200107574463, -6.80109977722168, -6.769199848175049, -6.777100086212158, -6.771100044250488, -6.478899955749512, -6.1539998054504395, -6.187300205230713, -6.756100177764893, -6.6381001472473145, -5.840199947357178, -6.22130012512207, -5.84660005569458, -5.291900157928467, -6.479499816894531, -6.305300235748291, -6.5655999183654785, -6.174699783325195, -6.091400146484375, -5.252500057220459, -5.4745001792907715, -5.592199802398682, -6.086400032043457, -6.102099895477295, -6.039000034332275, -5.828400135040283, -6.125400066375732, -6.2042999267578125, -5.936800003051758, -6.323599815368652]}, \"token.table\": {\"Topic\": [2, 3, 6, 1, 2, 3, 4, 5, 6, 4, 3, 4, 2, 4, 2, 3, 4, 1, 2, 3, 4, 5, 6, 2, 3, 4, 5, 2, 3, 4, 3, 3, 6, 2, 3, 4, 6, 2, 4, 1, 3, 5, 4, 3, 2, 1, 2, 3, 4, 5, 6, 2, 4, 5, 5, 5, 5, 4, 2, 5, 5, 6, 2, 3, 3, 5, 5, 2, 3, 4, 3, 1, 3, 1, 4, 1, 2, 2, 5, 6, 2, 6, 1, 2, 4, 5, 6, 1, 2, 2, 6, 2, 1, 6, 2, 4, 1, 2, 6, 3, 1, 3, 4, 5, 2, 1, 1, 2, 4, 4, 2, 4, 6, 3, 5, 3, 1, 2, 4, 5, 6, 2, 1, 4, 5, 6, 3, 5, 3, 6, 1, 3, 1, 3, 1, 2, 4, 5, 1, 3, 4, 5, 6, 4, 6, 1, 4, 1, 2, 4, 6, 3, 2, 6, 4, 6, 2, 5, 3, 6, 1, 4, 5, 5, 1, 5, 1, 2, 4, 1, 4, 6, 6, 2, 4, 6, 3, 4, 5, 2, 4, 6, 1, 3, 4, 1, 2, 4, 5, 1, 1, 2, 4, 5, 6, 2, 3, 4, 5, 6, 1, 4, 5, 6, 2, 3, 4, 6, 1, 3, 3, 1, 3, 4, 5, 2, 3, 4, 5, 2, 3, 4, 6, 1, 2, 4, 5, 6, 5, 1, 2, 4, 5, 6, 5, 1, 3, 2, 4, 6, 1, 1, 3, 1, 3, 4, 3, 3, 5, 1, 4, 5, 6, 6, 1, 2, 4, 1, 2, 3, 4, 5, 1, 2, 4, 5, 1, 2, 4, 2, 5, 2, 4, 2, 5, 3, 4, 5, 4, 1, 2, 5, 4, 3, 5, 2, 4, 5, 2, 6, 1, 3, 4, 6, 2, 3, 4, 6, 3, 2, 1, 2, 4, 5, 6, 1, 3, 4, 5, 1, 4, 2, 3, 4, 2, 6, 3, 4, 1, 5, 6, 3, 1, 3, 4, 6, 1, 5, 1, 4, 5, 3, 4, 3, 4, 5, 1, 5, 1, 6, 2, 4, 2, 6, 1, 3, 4, 5, 1, 2, 4, 3, 1, 1, 3, 4, 2, 4, 6, 2, 5, 6, 3, 6, 1, 2, 4, 5, 6, 1, 2, 3, 4, 5, 1, 1, 2, 4, 5, 6, 1, 3, 4, 5, 5, 6, 1, 6, 2, 3, 1, 2, 3, 4, 5, 1, 2, 4, 5, 2, 3, 4, 1, 4, 5, 5, 1, 6, 5, 5, 2, 6, 2, 4, 6, 3, 1, 2, 4, 2, 1, 2, 4, 5, 1, 2, 3, 4, 5, 1, 2, 4, 5, 6, 3, 5, 6, 3, 2, 4, 6, 6, 1, 2, 4, 2, 1, 2, 3, 4, 5, 6, 2, 3, 4, 5, 1, 5, 1, 3, 4, 5, 1, 2, 4, 6, 1, 2, 4, 6, 5, 1, 3, 5, 2, 6, 2, 3, 4, 1, 2, 4, 2, 5, 1, 3, 4, 5, 5, 6, 3, 1, 4, 4, 1, 3, 5, 6, 2, 4, 2, 4, 1, 4, 1, 3, 4, 5, 3, 2, 2, 1, 2, 3, 4, 1, 3, 4, 2, 2, 4, 6, 2, 6, 2, 3, 4, 1, 2, 4, 4, 2, 3, 2, 3, 4, 5, 6, 2, 3, 4, 6, 1, 3, 4, 1, 3, 4, 1, 2, 2, 3, 5, 1, 4, 5, 1, 2, 2, 6, 2, 4, 1, 6, 2, 4, 1, 3, 4, 5, 1, 3, 4, 5, 2, 6, 2, 6, 2, 4, 6, 2, 5, 3, 5, 2, 3, 4, 5, 6, 5, 6, 4, 1, 2, 4, 5, 6, 4, 2, 3, 4, 5, 2, 3, 4, 4, 1, 2, 1, 2, 3, 4, 5, 2, 4, 1, 3, 4, 1, 2, 4, 5, 6, 5, 1, 2, 1, 3, 4, 5, 2, 6, 5, 1, 2, 3, 4, 5, 2, 4, 4, 1, 2, 3, 4, 6, 2, 1, 2, 4, 5, 6, 1, 5, 5, 6, 1, 6, 1, 4, 1, 2, 3, 4, 5, 3, 4, 6, 2, 4, 2, 6, 6, 2, 3, 4, 5, 6, 5, 1, 2, 4, 6, 1, 6, 4, 1, 2, 4, 5, 6, 3, 2, 4, 1, 6, 1, 3, 4, 1, 2, 3, 4, 3, 1, 2, 5, 1, 4, 4, 5, 4, 1, 4, 5, 2, 1, 2, 3, 4, 5, 1, 2, 4, 5, 6, 2, 4, 6, 3, 4, 2, 1, 2, 4, 5, 6], \"Freq\": [0.4727955758571625, 0.09238534420728683, 0.43475455045700073, 0.09282959252595901, 0.13479365408420563, 0.08011320978403091, 0.6364549398422241, 0.04069242626428604, 0.015259659849107265, 0.998248279094696, 0.0026019837241619825, 0.9965597987174988, 0.013659133575856686, 0.9848235845565796, 0.0013818192528560758, 0.0027636385057121515, 0.9949098825454712, 0.014270437881350517, 0.028540875762701035, 0.2600390911102295, 0.5412195920944214, 0.1390046328306198, 0.016384577378630638, 0.6470090746879578, 0.22902975976467133, 0.07443466782569885, 0.04866882413625717, 0.7547441124916077, 0.10370530188083649, 0.13827373087406158, 0.9926339983940125, 0.9753889441490173, 0.9913959503173828, 0.1402169018983841, 0.025936074554920197, 0.824280858039856, 0.009726027958095074, 0.006415798328816891, 0.9936467409133911, 0.3292939364910126, 0.06442707031965256, 0.6013193726539612, 0.9968634247779846, 0.9845970869064331, 0.9978069067001343, 0.011542427353560925, 0.0546746589243412, 0.0024299847427755594, 0.928861677646637, 0.0006074961856938899, 0.0012149923713877797, 0.00204448658041656, 0.9956649541854858, 0.9903538227081299, 0.9941670894622803, 0.9863682389259338, 0.9870166778564453, 0.9950762987136841, 0.8487526178359985, 0.14819489419460297, 0.12035549432039261, 0.8768757581710815, 0.0865912064909935, 0.9092077016830444, 0.979841947555542, 0.9958592653274536, 0.9783967733383179, 0.043206773698329926, 0.0005205635097809136, 0.956275224685669, 0.9683369994163513, 0.9895888566970825, 0.989359974861145, 0.909151017665863, 0.07215484231710434, 0.9961041808128357, 0.9964271187782288, 0.10365410894155502, 0.12956763803958893, 0.7644490599632263, 0.02098557911813259, 0.9653366208076477, 0.22109325230121613, 0.02066292054951191, 0.7128707766532898, 0.02479550614953041, 0.018596628680825233, 0.9904655814170837, 0.9930003881454468, 0.9295828938484192, 0.060624971985816956, 0.9834370613098145, 0.980137825012207, 0.990166962146759, 0.0027535713743418455, 0.9967927932739258, 0.9535094499588013, 0.03865578770637512, 0.9842551350593567, 0.9823803901672363, 0.002252536593005061, 0.2455264925956726, 0.7478421926498413, 0.004505073186010122, 0.981920063495636, 0.9759083390235901, 0.9821009039878845, 0.012423073872923851, 0.9869441986083984, 0.9981076717376709, 0.9943201541900635, 0.3799186944961548, 0.616312563419342, 0.11899567395448685, 0.8726349472999573, 0.9882681965827942, 0.037028681486845016, 0.011081576347351074, 0.9511235952377319, 0.0005405647098086774, 0.0002702823549043387, 0.9930070042610168, 0.31590330600738525, 0.42254582047462463, 0.24749112129211426, 0.014084860682487488, 0.8384709358215332, 0.1537196785211563, 0.9883455038070679, 0.9709498286247253, 0.6445482969284058, 0.3565586507320404, 0.06667118519544601, 0.9167287945747375, 0.032354410737752914, 0.04381326586008072, 0.9140121340751648, 0.00943670328706503, 0.09838374704122543, 0.3801742494106293, 0.5162110328674316, 0.004858456552028656, 0.9801247119903564, 0.9943880438804626, 0.9896097779273987, 0.9870598912239075, 0.9973661303520203, 0.0019516549073159695, 0.04423751309514046, 0.9530581831932068, 0.0006505516357719898, 0.979284405708313, 0.9497835040092468, 0.04475419595837593, 0.9954550266265869, 0.9926799535751343, 0.9919547438621521, 0.9754242897033691, 0.991014301776886, 0.9924415946006775, 0.4754562973976135, 0.45784682035446167, 0.06456813961267471, 0.9834178686141968, 0.9796452522277832, 0.9975918531417847, 0.4943905472755432, 0.056377869099378586, 0.4466862082481384, 0.9736607670783997, 0.9942867159843445, 0.9785535335540771, 0.974144458770752, 0.710067093372345, 0.05886566638946533, 0.22810445725917816, 0.1339837610721588, 0.12728457152843475, 0.7369107007980347, 0.6499367952346802, 0.17067667841911316, 0.17886915802955627, 0.8184371590614319, 0.11527284234762192, 0.04610913619399071, 0.004635960794985294, 0.027815764769911766, 0.9665977954864502, 0.0007726601324975491, 0.9919111132621765, 0.0003619952476583421, 0.03981947526335716, 0.9560294151306152, 0.0007239904953166842, 0.002895961981266737, 0.2728313207626343, 0.1724499762058258, 0.4040991961956024, 0.03346044197678566, 0.1158246099948883, 0.4693080484867096, 0.28158482909202576, 0.21025000512599945, 0.03942187502980232, 0.20508454740047455, 0.18284647166728973, 0.5213595032691956, 0.09142323583364487, 0.9833315014839172, 0.9900880455970764, 0.991002082824707, 0.4418632686138153, 0.007323700934648514, 0.3905973732471466, 0.15868018567562103, 0.18013517558574677, 0.01882009208202362, 0.5404055118560791, 0.26079270243644714, 0.0806250050663948, 0.25915178656578064, 0.5413393378257751, 0.11805804073810577, 0.12879379093647003, 0.04573112726211548, 0.8100942969322205, 0.009332883171737194, 0.004666441585868597, 0.9743664264678955, 0.00803450495004654, 0.1322603076696396, 0.8423869013786316, 0.008652543649077415, 0.008652543649077415, 0.9882756471633911, 0.015543156303465366, 0.9792188405990601, 0.04543814808130264, 0.5553551316261292, 0.39884597063064575, 0.9884006977081299, 0.9797391295433044, 0.9856901168823242, 0.0011344458907842636, 0.28134259581565857, 0.7169697880744934, 0.9797447323799133, 0.9258913993835449, 0.06774815171957016, 0.9907597899436951, 0.571453332901001, 0.025975150987505913, 0.40001732110977173, 0.97773277759552, 0.0003481030580587685, 0.009746885858476162, 0.9893088936805725, 0.09247526526451111, 0.0088071683421731, 0.04550370201468468, 0.6869591474533081, 0.16586834192276, 0.0009949554223567247, 0.00497477687895298, 0.9929654598236084, 0.0009949554223567247, 0.00860638078302145, 0.02352410927414894, 0.9679310321807861, 0.997620701789856, 0.9780709147453308, 0.020938804373145103, 0.9788891077041626, 0.9949137568473816, 0.9738500714302063, 0.023092402145266533, 0.9756540060043335, 0.9857227802276611, 0.994900107383728, 0.9871448874473572, 0.17232073843479156, 0.8237771391868591, 0.9989466071128845, 0.020035717636346817, 0.9617144465446472, 0.0017564301379024982, 0.9958959221839905, 0.0017564301379024982, 0.993614912033081, 0.9862673282623291, 0.04651408642530441, 0.24102753400802612, 0.710396945476532, 0.9810293912887573, 0.0017587734619155526, 0.0035175469238311052, 0.9919482469558716, 0.0035175469238311052, 0.987659752368927, 0.9981175065040588, 0.011155050247907639, 0.528749406337738, 0.3168034255504608, 0.022310100495815277, 0.1249365583062172, 0.002358773723244667, 0.2500300109386444, 0.6958382725715637, 0.04953425005078316, 0.7120941877365112, 0.28882142901420593, 0.0048767500557005405, 0.0006966785294935107, 0.9941602945327759, 0.9945666790008545, 0.993170976638794, 0.9341034889221191, 0.06368887424468994, 0.09525154531002045, 0.8980859518051147, 0.979185163974762, 0.9743912220001221, 0.17740345001220703, 0.7884597778320312, 0.03942298889160156, 0.9774047136306763, 0.8472092747688293, 0.14523588120937347, 0.5798170566558838, 0.04011312872171402, 0.3792514204978943, 0.4877147376537323, 0.5115585923194885, 0.7607799172401428, 0.2250194251537323, 0.990484356880188, 0.9902557730674744, 0.9934210777282715, 0.9718826413154602, 0.9725977182388306, 0.8500932455062866, 0.1466975063085556, 0.8805809617042542, 0.11459615081548691, 0.0031839327421039343, 0.17830023169517517, 0.2929218113422394, 0.5253489017486572, 0.9840109944343567, 0.08062814176082611, 0.9188827872276306, 0.9944748878479004, 0.982416570186615, 0.006493218243122101, 0.3030168414115906, 0.6882811188697815, 0.028077902272343636, 0.41414904594421387, 0.5615580677986145, 0.9047971367835999, 0.06349453330039978, 0.03174726665019989, 0.9760951995849609, 0.9908974170684814, 0.2962149381637573, 0.006199847906827927, 0.6702724099159241, 0.004822103772312403, 0.022043902426958084, 0.002671870868653059, 0.0304593276232481, 0.0010687484173104167, 0.9650797843933105, 0.0008015612838789821, 0.9916605353355408, 0.007680985610932112, 0.10194762796163559, 0.8888995051383972, 0.0006982713821344078, 0.0006982713821344078, 0.3471529483795166, 0.0038148676976561546, 0.6323143243789673, 0.0162131879478693, 0.03848576918244362, 0.9621442556381226, 0.9779675006866455, 0.9811546206474304, 0.9898107051849365, 0.9897630214691162, 0.0027158844750374556, 0.014355389401316643, 0.0003879835130646825, 0.9819862246513367, 0.0003879835130646825, 0.11483266204595566, 0.008421062491834164, 0.8520583510398865, 0.024497635662555695, 0.9929267168045044, 0.9850592613220215, 0.9983481168746948, 0.28048285841941833, 0.6658419370651245, 0.053657591342926025, 0.9919251799583435, 0.9928644895553589, 0.9968225955963135, 0.9809412956237793, 0.9838833808898926, 0.11211758106946945, 0.8796917796134949, 0.7637583017349243, 0.16753408312797546, 0.06898462027311325, 0.9913516640663147, 0.0019416946452111006, 0.0019416946452111006, 0.9960893392562866, 0.998214066028595, 0.4670969843864441, 0.0034094671718776226, 0.42277392745018005, 0.10569348186254501, 0.2057763785123825, 0.13300180435180664, 0.2082858383655548, 0.10037871450185776, 0.35383498668670654, 0.011112420819699764, 0.058592766523361206, 0.9294024705886841, 0.000505110074300319, 0.000505110074300319, 0.08739647269248962, 0.8941331505775452, 0.02016841620206833, 0.9668346047401428, 0.010364479385316372, 0.9885121583938599, 0.9915436506271362, 0.9913561940193176, 0.00517271738499403, 0.011823354288935661, 0.9828162789344788, 0.9894369840621948, 0.008390834555029869, 0.04641738533973694, 0.001071170438081026, 0.9417373538017273, 0.001071170438081026, 0.0016067556571215391, 0.3781738579273224, 0.03245522081851959, 0.5319833755493164, 0.05644385889172554, 0.9856956005096436, 0.9781416058540344, 0.5170825719833374, 0.08698584884405136, 0.22229717671871185, 0.16913914680480957, 0.021090885624289513, 0.04007268324494362, 0.9378413558006287, 0.0007030295091681182, 0.11968794465065002, 0.0009206765098497272, 0.8792460560798645, 0.9958691000938416, 0.9938740730285645, 0.9816619753837585, 0.974554717540741, 0.9731130599975586, 0.6559041738510132, 0.34221088886260986, 0.027117425575852394, 0.0005649463273584843, 0.9717077016830444, 0.9805235862731934, 0.009873179718852043, 0.988415002822876, 0.9884923696517944, 0.9891549944877625, 0.9471567869186401, 0.033827029168605804, 0.9960581660270691, 0.9925963878631592, 0.8791857361793518, 0.11722476780414581, 0.9902126789093018, 0.01035233959555626, 0.9886484742164612, 0.9973830580711365, 0.18267518281936646, 0.24356691539287567, 0.09133759140968323, 0.47952234745025635, 0.02330910786986351, 0.9757451415061951, 0.007554630283266306, 0.9911674857139587, 0.5167953372001648, 0.48006877303123474, 0.6187735795974731, 0.15681247413158417, 0.19495606422424316, 0.02966722659766674, 0.9925549030303955, 0.9884508848190308, 0.9937001466751099, 0.007203290704637766, 0.03449997305870056, 0.0018956027925014496, 0.9561420679092407, 0.187058225274086, 0.3791046738624573, 0.4314809739589691, 0.9956421256065369, 0.5426276326179504, 0.006309623830020428, 0.4479832947254181, 0.9006836414337158, 0.09442651271820068, 0.8711167573928833, 0.1262488067150116, 0.9929877519607544, 0.005908349994570017, 0.038995109498500824, 0.9541985392570496, 0.9943879842758179, 0.8959096074104309, 0.10134724527597427, 0.2750687301158905, 0.09332688897848129, 0.5877956748008728, 0.014735824428498745, 0.02947164885699749, 0.41394364833831787, 0.01212387252599001, 0.41221165657043457, 0.16107429563999176, 0.31701916456222534, 0.010497323237359524, 0.6718286871910095, 0.5312663316726685, 0.03935306519269943, 0.42796456813812256, 0.9744384288787842, 0.9957443475723267, 0.11338239163160324, 0.8787135481834412, 0.9840055704116821, 0.6427189111709595, 0.2986370623111725, 0.058428991585969925, 0.9767192602157593, 0.9944196939468384, 0.018065497279167175, 0.9755368232727051, 0.9521948099136353, 0.04607394337654114, 0.9870763421058655, 0.9957180619239807, 0.002267161151394248, 0.9975509643554688, 0.38653111457824707, 0.009504863061010838, 0.567123532295227, 0.03801945224404335, 0.01790088601410389, 0.13127316534519196, 0.11337227374315262, 0.7339363098144531, 0.7705566883087158, 0.22797535359859467, 0.05222121998667717, 0.939981997013092, 0.5391662120819092, 0.2658389210700989, 0.19282680749893188, 0.9950355291366577, 0.9959918856620789, 0.9010742902755737, 0.080453060567379, 0.007281627971678972, 0.031206976622343063, 0.7666513919830322, 0.0031206978019326925, 0.19140279293060303, 0.06857482343912125, 0.9257600903511047, 0.9945218563079834, 0.08312708139419556, 0.04722011834383011, 0.8238927125930786, 0.03541509062051773, 0.01032940112054348, 0.9959462881088257, 0.11528904736042023, 0.06244823336601257, 0.34106341004371643, 0.48037102818489075, 0.05128921568393707, 0.7488225698471069, 0.18464116752147675, 0.9972830414772034, 0.8927196264266968, 0.09651022404432297, 0.017530445009469986, 0.6690786480903625, 0.017530445009469986, 0.2775653600692749, 0.017530445009469986, 0.00222049281001091, 0.9970012307167053, 0.7548815608024597, 0.17353598773479462, 0.06941439211368561, 0.0224277563393116, 0.027864787727594376, 0.9446842670440674, 0.001359257847070694, 0.004077773541212082, 0.9872251749038696, 0.7811324596405029, 0.2113652527332306, 0.01839604787528515, 0.5212213397026062, 0.4108450710773468, 0.04905612766742706, 0.21625833213329315, 0.768918514251709, 0.9763385057449341, 0.9720072150230408, 0.014952863566577435, 0.0005981145659461617, 0.9821041226387024, 0.0017943436978384852, 0.009766733273863792, 0.9893700480461121, 0.9965550899505615, 0.004329571966081858, 0.04690369963645935, 0.00036079768324270844, 0.947815477848053, 0.0007215953664854169, 0.9869697093963623, 0.4873879849910736, 0.04186154529452324, 0.46645721793174744, 0.9916413426399231, 0.9912847876548767, 0.9598791003227234, 0.03739788755774498, 0.07886013388633728, 0.9200349450111389, 0.07414616644382477, 0.9268270134925842, 0.001579022267833352, 0.9979420900344849, 0.03287385776638985, 0.02061580866575241, 0.0005571840447373688, 0.9455413222312927, 0.0005571840447373688, 0.565161943435669, 0.4295230805873871, 0.9850223064422607, 0.9894533157348633, 0.9942662119865417, 0.9957069754600525, 0.9875009059906006, 0.9865585565567017, 0.9966979622840881, 0.023976892232894897, 0.3260857164859772, 0.6377853155136108, 0.009590757079422474, 0.9792219400405884, 0.012125574983656406, 0.013991047628223896, 0.9728441834449768, 0.9977779984474182, 0.9914743900299072, 0.9932461380958557, 0.9959245324134827, 0.002946936059743166, 0.002946936059743166, 0.9925280213356018, 0.000589387200307101, 0.001768161659128964, 0.9848181009292603, 0.002288857474923134, 0.995652973651886, 0.9811673164367676, 0.9913126230239868, 0.479544073343277, 0.5099912881851196, 0.0076118106953799725, 0.0006775056826882064, 0.05555546283721924, 0.0006775056826882064, 0.9430878758430481, 0.9811784625053406, 0.015071174129843712, 0.05526097118854523, 0.9243653416633606, 0.40552419424057007, 0.5925467610359192, 0.2799936830997467, 0.7205719947814941, 0.998273491859436, 0.2747492492198944, 0.7221285104751587, 0.002431409200653434, 0.9940425753593445, 0.01951901987195015, 0.011711412109434605, 0.001561521552503109, 0.9603357911109924, 0.006246086210012436, 0.033458560705184937, 0.10657171159982681, 0.6518223285675049, 0.024784117937088013, 0.182163268327713, 0.028577717021107674, 0.9615018963813782, 0.009679549373686314, 0.9896338582038879, 0.9964104890823364, 0.9857355356216431, 0.21471403539180756, 0.04294280707836151, 0.5275830626487732, 0.14723248779773712, 0.06748155504465103], \"Term\": [\"&\", \"&\", \"&\", \"'\", \"'\", \"'\", \"'\", \"'\", \"'\", \"'d\", \"'ll\", \"'ll\", \"'m\", \"'m\", \"'re\", \"'re\", \"'re\", \"--\", \"--\", \"--\", \"--\", \"--\", \"--\", \"2\", \"2\", \"2\", \"2\", \"3\", \"3\", \"3\", \"5/10\", \"8/10\", \"ace\", \"action\", \"action\", \"action\", \"action\", \"actor\", \"actor\", \"adult\", \"adult\", \"adult\", \"agent\", \"alicia\", \"alien\", \"also\", \"also\", \"also\", \"also\", \"also\", \"also\", \"always\", \"always\", \"anaconda\", \"animated\", \"animation\", \"anna\", \"annoying\", \"ape\", \"ape\", \"army\", \"army\", \"arquette\", \"arquette\", \"austin\", \"babe\", \"bacon\", \"bad\", \"bad\", \"bad\", \"bang\", \"barbara\", \"barrymore\", \"baseball\", \"baseball\", \"bat\", \"batman\", \"battle\", \"battle\", \"battle\", \"battlefield\", \"battlefield\", \"becomes\", \"becomes\", \"becomes\", \"becomes\", \"becomes\", \"betty\", \"blade\", \"blood\", \"blood\", \"boat\", \"boogie\", \"boorman\", \"boring\", \"boring\", \"bottle\", \"bottle\", \"brenner\", \"broderick\", \"brother\", \"brother\", \"brother\", \"brother\", \"burton\", \"butcher\", \"bye\", \"ca\", \"ca\", \"car\", \"carpenter\", \"carrey\", \"carrey\", \"cartoon\", \"cartoon\", \"chan\", \"character\", \"character\", \"character\", \"character\", \"character\", \"cheesy\", \"child\", \"child\", \"child\", \"child\", \"chinese\", \"chinese\", \"cindy\", \"clan\", \"club\", \"club\", \"coach\", \"coach\", \"come\", \"come\", \"come\", \"come\", \"comedy\", \"comedy\", \"comedy\", \"comedy\", \"commander\", \"complete\", \"connery\", \"connor\", \"cop\", \"could\", \"could\", \"could\", \"could\", \"courtney\", \"crew\", \"crew\", \"crime\", \"cromwell\", \"crow\", \"crystal\", \"damme\", \"data\", \"daughter\", \"daughter\", \"daughter\", \"denise\", \"dicaprio\", \"disney\", \"dream\", \"dream\", \"dream\", \"dreyfus\", \"dull\", \"dune\", \"dutch\", \"earth\", \"earth\", \"earth\", \"eddie\", \"eddie\", \"eddie\", \"effect\", \"effect\", \"effect\", \"elizabeth\", \"elizabeth\", \"elizabeth\", \"end\", \"end\", \"end\", \"end\", \"erotic\", \"even\", \"even\", \"even\", \"even\", \"even\", \"evil\", \"evil\", \"evil\", \"evil\", \"evil\", \"family\", \"family\", \"family\", \"family\", \"fan\", \"fan\", \"fan\", \"fan\", \"farley\", \"farrellys\", \"fat\", \"father\", \"father\", \"father\", \"father\", \"feature\", \"feature\", \"feature\", \"feature\", \"fight\", \"fight\", \"fight\", \"fight\", \"find\", \"find\", \"find\", \"find\", \"find\", \"finn\", \"first\", \"first\", \"first\", \"first\", \"first\", \"flubber\", \"football\", \"football\", \"force\", \"force\", \"force\", \"franklin\", \"fred\", \"freddie\", \"funny\", \"funny\", \"funny\", \"gadget\", \"gag\", \"gag\", \"gay\", \"general\", \"general\", \"general\", \"geronimo\", \"get\", \"get\", \"get\", \"girl\", \"girl\", \"girl\", \"girl\", \"girl\", \"give\", \"give\", \"give\", \"give\", \"go\", \"go\", \"go\", \"godzilla\", \"goldblum\", \"good\", \"good\", \"gore\", \"grinch\", \"guy\", \"guy\", \"hammer\", \"happen\", \"harrelson\", \"harry\", \"harry\", \"he\", \"heckerling\", \"heckerling\", \"help\", \"help\", \"help\", \"henstridge\", \"hiding\", \"high\", \"high\", \"high\", \"highlander\", \"hollywood\", \"hollywood\", \"hollywood\", \"hollywood\", \"hong\", \"horror\", \"human\", \"human\", \"human\", \"human\", \"human\", \"humor\", \"humor\", \"humor\", \"humor\", \"husband\", \"husband\", \"i\", \"i\", \"i\", \"idiotic\", \"irene\", \"jackie\", \"jackie\", \"jane\", \"jane\", \"jar\", \"jawbreaker\", \"jay\", \"jay\", \"jay\", \"jedi\", \"joan\", \"joan\", \"joe\", \"joe\", \"joe\", \"joke\", \"joke\", \"julia\", \"julia\", \"jungle\", \"kate\", \"kelly\", \"kenneth\", \"kersey\", \"killer\", \"killer\", \"killing\", \"killing\", \"king\", \"king\", \"king\", \"king\", \"kline\", \"know\", \"know\", \"kong\", \"krippendorf\", \"laugh\", \"laugh\", \"laugh\", \"leader\", \"leader\", \"leader\", \"legend\", \"legend\", \"legend\", \"li\", \"liam\", \"life\", \"life\", \"life\", \"life\", \"life\", \"like\", \"like\", \"like\", \"like\", \"like\", \"liz\", \"look\", \"look\", \"look\", \"look\", \"look\", \"love\", \"love\", \"love\", \"love\", \"lucas\", \"lucas\", \"lucy\", \"luke\", \"lynch\", \"magoo\", \"make\", \"make\", \"make\", \"make\", \"make\", \"man\", \"man\", \"man\", \"man\", \"mar\", \"mcgowan\", \"mean\", \"meet\", \"meet\", \"meet\", \"meg\", \"melvin\", \"menace\", \"meyer\", \"mighty\", \"military\", \"military\", \"mission\", \"mission\", \"mission\", \"momma\", \"money\", \"money\", \"money\", \"monster\", \"mother\", \"mother\", \"mother\", \"mother\", \"mr\", \"mr\", \"mr\", \"mr\", \"mr\", \"much\", \"much\", \"much\", \"much\", \"much\", \"murphy\", \"murphy\", \"murphy\", \"musketeer\", \"n't\", \"n't\", \"nbsp\", \"neeson\", \"never\", \"never\", \"never\", \"nightmare\", \"one\", \"one\", \"one\", \"one\", \"one\", \"one\", \"original\", \"original\", \"original\", \"original\", \"owen\", \"paltrow\", \"parent\", \"parent\", \"parent\", \"parent\", \"people\", \"people\", \"people\", \"people\", \"performance\", \"performance\", \"performance\", \"phantom\", \"phil\", \"philip\", \"pie\", \"pig\", \"planet\", \"planet\", \"plot\", \"plot\", \"plot\", \"poet\", \"point\", \"point\", \"poorly\", \"porter\", \"potentially\", \"potentially\", \"predictable\", \"prince\", \"princess\", \"princess\", \"prinze\", \"problem\", \"problem\", \"pull\", \"queen\", \"queen\", \"queen\", \"queen\", \"really\", \"really\", \"reason\", \"reason\", \"relationship\", \"relationship\", \"romantic\", \"romantic\", \"romantic\", \"romantic\", \"sandler\", \"scare\", \"scary\", \"scene\", \"scene\", \"scene\", \"scene\", \"school\", \"school\", \"school\", \"schumacher\", \"science\", \"science\", \"science\", \"scientist\", \"scientist\", \"scream\", \"scream\", \"seagal\", \"see\", \"see\", \"see\", \"seemed\", \"sequel\", \"sequel\", \"sequence\", \"sequence\", \"sequence\", \"sequence\", \"sequence\", \"series\", \"series\", \"series\", \"series\", \"sex\", \"sex\", \"sex\", \"sexual\", \"sexual\", \"sexual\", \"shandling\", \"ship\", \"silent\", \"silent\", \"singing\", \"sister\", \"sister\", \"sister\", \"skit\", \"slasher\", \"slave\", \"slave\", \"snake\", \"snake\", \"soap\", \"soldier\", \"someone\", \"someone\", \"son\", \"son\", \"son\", \"son\", \"song\", \"song\", \"song\", \"song\", \"space\", \"space\", \"spawn\", \"spawn\", \"special\", \"special\", \"special\", \"specie\", \"spice\", \"spoof\", \"spoof\", \"star\", \"star\", \"star\", \"star\", \"star\", \"starship\", \"starship\", \"stone\", \"story\", \"story\", \"story\", \"story\", \"story\", \"straight\", \"studio\", \"studio\", \"studio\", \"studio\", \"stunt\", \"stunt\", \"stunt\", \"subplot\", \"suicide\", \"suicide\", \"summer\", \"summer\", \"summer\", \"summer\", \"summer\", \"supposed\", \"supposed\", \"sweet\", \"sweet\", \"sweet\", \"take\", \"take\", \"take\", \"take\", \"take\", \"tarzan\", \"taylor\", \"taylor\", \"teen\", \"teen\", \"teen\", \"teen\", \"terrorist\", \"terrorist\", \"theresa\", \"theron\", \"thing\", \"thing\", \"thing\", \"thing\", \"think\", \"think\", \"thinking\", \"time\", \"time\", \"time\", \"time\", \"time\", \"todd\", \"town\", \"town\", \"town\", \"toy\", \"trek\", \"tribe\", \"tribe\", \"trooper\", \"trooper\", \"truman\", \"truman\", \"trying\", \"trying\", \"two\", \"two\", \"two\", \"two\", \"two\", \"unfunny\", \"unfunny\", \"universe\", \"urban\", \"usual\", \"vampire\", \"verhoeven\", \"viking\", \"virus\", \"voice\", \"voice\", \"voice\", \"voice\", \"walken\", \"want\", \"want\", \"want\", \"war\", \"warren\", \"warrior\", \"waste\", \"way\", \"way\", \"way\", \"way\", \"way\", \"wcw\", \"we\", \"we\", \"wealthy\", \"webb\", \"wedding\", \"wedding\", \"wedding\", \"well\", \"well\", \"well\", \"well\", \"werewolf\", \"west\", \"west\", \"west\", \"wife\", \"wife\", \"wild\", \"wild\", \"willis\", \"woman\", \"woman\", \"woman\", \"wood\", \"work\", \"work\", \"work\", \"work\", \"work\", \"world\", \"world\", \"world\", \"world\", \"world\", \"would\", \"would\", \"would\", \"wrestling\", \"writing\", \"x-files\", \"young\", \"young\", \"young\", \"young\", \"young\"]}, \"R\": 30, \"lambda.step\": 0.01, \"plot.opts\": {\"xlab\": \"PC1\", \"ylab\": \"PC2\"}, \"topic.order\": [1, 2, 3, 4, 5, 6]};\n",
       "\n",
       "function LDAvis_load_lib(url, callback){\n",
       "  var s = document.createElement('script');\n",
       "  s.src = url;\n",
       "  s.async = true;\n",
       "  s.onreadystatechange = s.onload = callback;\n",
       "  s.onerror = function(){console.warn(\"failed to load library \" + url);};\n",
       "  document.getElementsByTagName(\"head\")[0].appendChild(s);\n",
       "}\n",
       "\n",
       "if(typeof(LDAvis) !== \"undefined\"){\n",
       "   // already loaded: just create the visualization\n",
       "   !function(LDAvis){\n",
       "       new LDAvis(\"#\" + \"ldavis_el1671620660831768805802585836\", ldavis_el1671620660831768805802585836_data);\n",
       "   }(LDAvis);\n",
       "}else if(typeof define === \"function\" && define.amd){\n",
       "   // require.js is available: use it to load d3/LDAvis\n",
       "   require.config({paths: {d3: \"https://cdnjs.cloudflare.com/ajax/libs/d3/3.5.5/d3.min\"}});\n",
       "   require([\"d3\"], function(d3){\n",
       "      window.d3 = d3;\n",
       "      LDAvis_load_lib(\"https://cdn.rawgit.com/bmabey/pyLDAvis/files/ldavis.v1.0.0.js\", function(){\n",
       "        new LDAvis(\"#\" + \"ldavis_el1671620660831768805802585836\", ldavis_el1671620660831768805802585836_data);\n",
       "      });\n",
       "    });\n",
       "}else{\n",
       "    // require.js not available: dynamically load d3 & LDAvis\n",
       "    LDAvis_load_lib(\"https://cdnjs.cloudflare.com/ajax/libs/d3/3.5.5/d3.min.js\", function(){\n",
       "         LDAvis_load_lib(\"https://cdn.rawgit.com/bmabey/pyLDAvis/files/ldavis.v1.0.0.js\", function(){\n",
       "                 new LDAvis(\"#\" + \"ldavis_el1671620660831768805802585836\", ldavis_el1671620660831768805802585836_data);\n",
       "            })\n",
       "         });\n",
       "}\n",
       "</script>"
      ],
      "text/plain": [
       "<IPython.core.display.HTML object>"
      ]
     },
     "execution_count": 116,
     "metadata": {},
     "output_type": "execute_result"
    }
   ],
   "source": [
    "import pyLDAvis.gensim\n",
    "lda_display = pyLDAvis.gensim.prepare(lda_model, corpus, id2word, sort_topics=False)\n",
    "pyLDAvis.display(lda_display)"
   ]
  },
  {
   "cell_type": "markdown",
   "metadata": {},
   "source": [
    "### Word Embedding - word vectors\n",
    "Word Embeddings is the name of the techniques which are used to represent Natural Language in vector form of real numbers. They are useful because of computers’ inability to process Natural Language. So these Word Embeddings capture the essence and relationship between words in a Natural Language using real numbers. In Word Embeddings, a word or a phrase is represented in a fixed dimension vector of length say 100.\n",
    "\n",
    "- Using large amounts of unannotated plain text, word2vec learns relationships between words automatically. \n",
    "- The output are vectors, one vector per word, with remarkable linear relationships that allow us to do things like vec(“king”) – vec(“man”) + vec(“woman”) =~ vec(“queen”).\n",
    "\n",
    "__Word vectors can be very useful. They open a bunch of new opportunities. Here are some of them:__\n",
    "- Use them as the input of a classifier (e.g. neural network), usually boosting performance\n",
    "- It can be considered as automatic feature extraction\n",
    "- Establish synonyms or lemmatization\n",
    "- Dimensionality reduction\n",
    "- Create Document Vectors: either by averaging the word vectors or by using the Doc2Vec <br>\n",
    "\n",
    "[Word2Vec tutorial - the skip gram model](http://mccormickml.com/2016/04/19/word2vec-tutorial-the-skip-gram-model/)"
   ]
  },
  {
   "cell_type": "code",
   "execution_count": 107,
   "metadata": {},
   "outputs": [
    {
     "data": {
      "text/plain": [
       "0    [adapted, comic, book, plenty, success, whethe...\n",
       "1    [every, come, along, suspect, studio, every, i...\n",
       "2    [got, mail, work, alot, better, deserves, orde...\n",
       "3    [jaw, rare, grab, attention, show, single, ima...\n",
       "4    [moviemaking, lot, like, general, manager, nfl...\n",
       "Name: review_lemmatized_train, dtype: object"
      ]
     },
     "execution_count": 107,
     "metadata": {},
     "output_type": "execute_result"
    }
   ],
   "source": [
    "texts.head()"
   ]
  },
  {
   "cell_type": "code",
   "execution_count": 108,
   "metadata": {},
   "outputs": [],
   "source": [
    "model = word2vec.Word2Vec(texts, min_count=1)"
   ]
  },
  {
   "cell_type": "code",
   "execution_count": null,
   "metadata": {},
   "outputs": [],
   "source": [
    "model.wv.vocab"
   ]
  },
  {
   "cell_type": "markdown",
   "metadata": {},
   "source": [
    "__most_similar() function lets you find words semantically close to a given word:__"
   ]
  },
  {
   "cell_type": "code",
   "execution_count": 110,
   "metadata": {
    "scrolled": false
   },
   "outputs": [
    {
     "data": {
      "text/plain": [
       "[('sequence', 0.9578912854194641),\n",
       " ('moment', 0.9286469221115112),\n",
       " ('well-staged', 0.9237288236618042),\n",
       " ('exciting', 0.9237041473388672),\n",
       " ('scene', 0.9214756488800049),\n",
       " ('eye-popping', 0.914203941822052),\n",
       " ('poorly-staged', 0.9119865894317627),\n",
       " ('duguay', 0.9083425998687744),\n",
       " ('jaw-dropping', 0.9082541465759277),\n",
       " ('untrue', 0.908014178276062)]"
      ]
     },
     "execution_count": 110,
     "metadata": {},
     "output_type": "execute_result"
    }
   ],
   "source": [
    "model.wv.most_similar('action')"
   ]
  },
  {
   "cell_type": "markdown",
   "metadata": {},
   "source": [
    "__similarity() function lets you the semantical closeness between given words:__"
   ]
  },
  {
   "cell_type": "code",
   "execution_count": 111,
   "metadata": {
    "scrolled": false
   },
   "outputs": [
    {
     "data": {
      "text/plain": [
       "0.9317219052450274"
      ]
     },
     "execution_count": 111,
     "metadata": {},
     "output_type": "execute_result"
    }
   ],
   "source": [
    "model.wv.similarity('speilberg', 'visuals')"
   ]
  },
  {
   "cell_type": "markdown",
   "metadata": {},
   "source": [
    "## Improving Text Classification Models\n",
    "While the above framework can be applied to a number of text classification problems, but to achieve a good accuracy some improvements can be done in the overall framework. For example, following are some tips to improve the performance of text classification models and this framework.\n",
    "\n",
    "1. [Further Text Preprocessing](https://www.analyticsvidhya.com/blog/2017/10/essential-nlp-guide-data-scientists-top-10-nlp-tasks/) : Can help to reduce the noise present in text data and increase model's capacity to find patterns (Part-of-Speech Tagging, Named Entity Recognition etc.)\n",
    "\n",
    "2. Hyperparamter Optimization : Finding the optimal parameters of the classifiers will improve the prediction power.\n",
    "\n",
    "3. Word embedding vectors : Word embedding vectors as features can help to improve the accuracy of the classifier.\n",
    "\n",
    "4. Ensemble Models : Stacking different models and blending their outputs can help to further improve the results. Read more about ensemble models here\n",
    "\n",
    "5. [Guide to solve most NLP problems](https://blog.insightdatascience.com/how-to-solve-90-of-nlp-problems-a-step-by-step-guide-fda605278e4e)\n",
    "\n",
    "6. [Gensim NLP Tutorials](https://markroxor.github.io/gensim/tutorials/index.html)"
   ]
  },
  {
   "cell_type": "markdown",
   "metadata": {},
   "source": [
    "## Solve a problem!\n",
    "\n",
    "__Quora Insincere Questions classification: https://www.kaggle.com/c/quora-insincere-questions-classification__\n",
    "- Quora is a platform that empowers people to learn from each other. \n",
    "- On Quora, people can ask questions and connect with others who contribute unique insights and quality answers. \n",
    "- A key challenge is to weed out insincere questions -- those founded upon false premises, or that intend to make a statement rather than look for helpful answers."
   ]
  }
 ],
 "metadata": {
  "kernelspec": {
   "display_name": "Python 3",
   "language": "python",
   "name": "python3"
  },
  "language_info": {
   "codemirror_mode": {
    "name": "ipython",
    "version": 3
   },
   "file_extension": ".py",
   "mimetype": "text/x-python",
   "name": "python",
   "nbconvert_exporter": "python",
   "pygments_lexer": "ipython3",
   "version": "3.6.4"
  },
  "toc": {
   "base_numbering": 1,
   "nav_menu": {
    "height": "532px",
    "width": "198px"
   },
   "number_sections": true,
   "sideBar": false,
   "skip_h1_title": false,
   "title_cell": "Table of Contents",
   "title_sidebar": "Contents",
   "toc_cell": true,
   "toc_position": {},
   "toc_section_display": true,
   "toc_window_display": false
  }
 },
 "nbformat": 4,
 "nbformat_minor": 2
}
