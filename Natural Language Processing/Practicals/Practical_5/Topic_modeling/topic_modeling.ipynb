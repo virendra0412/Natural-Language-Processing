{
 "cells": [
  {
   "cell_type": "markdown",
   "metadata": {},
   "source": [
    "## Import Dependencies"
   ]
  },
  {
   "cell_type": "code",
   "execution_count": 1,
   "metadata": {},
   "outputs": [],
   "source": [
    "from sklearn.feature_extraction.text import TfidfVectorizer\n",
    "from sklearn.decomposition import TruncatedSVD\n",
    "from sklearn.pipeline import Pipeline"
   ]
  },
  {
   "cell_type": "code",
   "execution_count": 2,
   "metadata": {},
   "outputs": [
    {
     "data": {
      "text/plain": [
       "['Mango and starberries are the sweet',\n",
       " 'Science is her favorite subject',\n",
       " 'Mathematics is an important subject',\n",
       " 'Lemons and oranges are sour',\n",
       " 'Algorithms and databases are tough']"
      ]
     },
     "execution_count": 2,
     "metadata": {},
     "output_type": "execute_result"
    }
   ],
   "source": [
    "\n",
    "doc1=\"Mango and starberries are the sweet\"\n",
    "doc2=\"Science is her favorite subject\"\n",
    "doc3=\"Mathematics is an important subject\"\n",
    "doc4=\"Lemons and oranges are sour\"\n",
    "doc5=\"Algorithms and databases are tough\"\n",
    "documents = [doc1,doc2,doc3,doc4,doc5]\n",
    "documents"
   ]
  },
  {
   "cell_type": "code",
   "execution_count": 3,
   "metadata": {},
   "outputs": [
    {
     "name": "stdout",
     "output_type": "stream",
     "text": [
      "[[  1.27029988e-15   1.21185172e-15   3.89141461e-01   3.89141461e-01\n",
      "   -5.04401425e-16   1.17144598e-16   3.89141461e-01  -5.04401425e-16\n",
      "    3.89141461e-01  -5.04401425e-16   1.17144598e-16   6.27913762e-01\n",
      "    1.17144598e-16   1.21185172e-15]\n",
      " [  3.98205712e-01   3.98205712e-01  -7.65624635e-16   1.12464820e-16\n",
      "    4.18049691e-01  -2.32068505e-17   1.15708074e-16   4.18049691e-01\n",
      "   -7.38474649e-16   4.18049691e-01  -2.32068505e-17  -5.18082862e-16\n",
      "   -2.77555754e-17   3.98205712e-01]]\n"
     ]
    }
   ],
   "source": [
    "vectorizer = TfidfVectorizer(stop_words='english', use_idf=True, smooth_idf=True)\n",
    "x = vectorizer.fit_transform(documents)\n",
    "#n_Components  = Number of Topics\n",
    "lsa = TruncatedSVD(n_components=2,n_iter=100)\n",
    "lsa.fit(x)\n",
    "terms = vectorizer.get_feature_names() \n",
    "print(lsa.components_)\n"
   ]
  },
  {
   "cell_type": "code",
   "execution_count": 4,
   "metadata": {},
   "outputs": [
    {
     "name": "stdout",
     "output_type": "stream",
     "text": [
      "Concept 0\n",
      "subject\n",
      "favorite\n",
      "science\n",
      "important\n",
      "mathematics\n",
      "algorithms\n",
      "databases\n",
      " \n",
      "Concept 1\n",
      "lemons\n",
      "oranges\n",
      "sour\n",
      "databases\n",
      "tough\n",
      "algorithms\n",
      "mathematics\n",
      " \n"
     ]
    }
   ],
   "source": [
    "for ind,comp in enumerate(lsa.components_):\n",
    "    termsInComp = zip(terms,comp)\n",
    "    sortedTerms = sorted(termsInComp, key=lambda x: x[1],reverse=True)[:7]\n",
    "    print(\"Concept %d\" % ind)\n",
    "    for term in sortedTerms:\n",
    "        print(term[0])\n",
    "    print(\" \")"
   ]
  },
  {
   "cell_type": "code",
   "execution_count": null,
   "metadata": {},
   "outputs": [],
   "source": []
  },
  {
   "cell_type": "code",
   "execution_count": null,
   "metadata": {},
   "outputs": [],
   "source": []
  },
  {
   "cell_type": "code",
   "execution_count": null,
   "metadata": {},
   "outputs": [],
   "source": []
  },
  {
   "cell_type": "code",
   "execution_count": null,
   "metadata": {},
   "outputs": [],
   "source": []
  },
  {
   "cell_type": "code",
   "execution_count": null,
   "metadata": {},
   "outputs": [],
   "source": []
  },
  {
   "cell_type": "code",
   "execution_count": null,
   "metadata": {},
   "outputs": [],
   "source": []
  },
  {
   "cell_type": "code",
   "execution_count": null,
   "metadata": {},
   "outputs": [],
   "source": []
  }
 ],
 "metadata": {
  "kernelspec": {
   "display_name": "Python 3",
   "language": "python",
   "name": "python3"
  },
  "language_info": {
   "codemirror_mode": {
    "name": "ipython",
    "version": 3
   },
   "file_extension": ".py",
   "mimetype": "text/x-python",
   "name": "python",
   "nbconvert_exporter": "python",
   "pygments_lexer": "ipython3",
   "version": "3.6.5"
  }
 },
 "nbformat": 4,
 "nbformat_minor": 2
}
