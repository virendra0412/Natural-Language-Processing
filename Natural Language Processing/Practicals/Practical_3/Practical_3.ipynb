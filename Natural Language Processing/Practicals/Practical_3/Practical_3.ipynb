{
 "cells": [
  {
   "cell_type": "markdown",
   "id": "b20f90c7",
   "metadata": {},
   "source": [
    "## Let’s create some sample sentences."
   ]
  },
  {
   "cell_type": "code",
   "execution_count": null,
   "id": "c6d2d355",
   "metadata": {},
   "outputs": [],
   "source": [
    "texts = [\n",
    "    \"blue car and blue window\",\n",
    "    \"black crow in the window\",\n",
    "    \"i see my reflection in the window\"\n",
    "]"
   ]
  },
  {
   "cell_type": "markdown",
   "id": "ea1c3416",
   "metadata": {},
   "source": [
    "## First we need to create the vocabulary"
   ]
  },
  {
   "cell_type": "code",
   "execution_count": 9,
   "id": "d8758208",
   "metadata": {},
   "outputs": [
    {
     "name": "stdout",
     "output_type": "stream",
     "text": [
      "12 ['and', 'black', 'blue', 'car', 'crow', 'i', 'in', 'my', 'reflection', 'see', 'the', 'window']\n"
     ]
    }
   ],
   "source": [
    "vocab = sorted(set(word for sentence in texts for word in sentence.split()))\n",
    "print(len(vocab), vocab)"
   ]
  },
  {
   "cell_type": "markdown",
   "id": "b84635b0",
   "metadata": {},
   "source": [
    "## Binary Encoding"
   ]
  },
  {
   "cell_type": "code",
   "execution_count": 10,
   "id": "bd0fcce7",
   "metadata": {},
   "outputs": [
    {
     "name": "stdout",
     "output_type": "stream",
     "text": [
      "[0. 0. 0. 0. 1. 1. 0. 0. 0. 0. 0. 0.]\n"
     ]
    }
   ],
   "source": [
    "import numpy as np\n",
    "def binary_transform(text):\n",
    "    # create a vector with all entries as 0\n",
    "    output = np.zeros(len(vocab))\n",
    "    # tokenize the input\n",
    "    words = set(text.split())\n",
    "    # for every word in vocab check if the doc contains it\n",
    "    for i, v in enumerate(vocab):\n",
    "        output[i] = v in words \n",
    "    return output\n",
    "\n",
    "print(binary_transform(\"i saw crow\"))"
   ]
  },
  {
   "cell_type": "markdown",
   "id": "0072c460",
   "metadata": {},
   "source": [
    "## Transform a collection of documents into the feature matrix."
   ]
  },
  {
   "cell_type": "code",
   "execution_count": 11,
   "id": "36e2429d",
   "metadata": {},
   "outputs": [
    {
     "name": "stdout",
     "output_type": "stream",
     "text": [
      "['and', 'black', 'blue', 'car', 'crow', 'in', 'my', 'reflection', 'see', 'the', 'window']\n"
     ]
    }
   ],
   "source": [
    "from sklearn.feature_extraction.text import CountVectorizer\n",
    "vec = CountVectorizer(binary=True)\n",
    "vec.fit(texts)\n",
    "print([w for w in sorted(vec.vocabulary_.keys())])"
   ]
  },
  {
   "cell_type": "markdown",
   "id": "19411863",
   "metadata": {},
   "source": [
    "## The columns are each word in the vocabulary and the rows represent the documents."
   ]
  },
  {
   "cell_type": "code",
   "execution_count": 12,
   "id": "c00a7e97",
   "metadata": {},
   "outputs": [
    {
     "data": {
      "text/html": [
       "<div>\n",
       "<style scoped>\n",
       "    .dataframe tbody tr th:only-of-type {\n",
       "        vertical-align: middle;\n",
       "    }\n",
       "\n",
       "    .dataframe tbody tr th {\n",
       "        vertical-align: top;\n",
       "    }\n",
       "\n",
       "    .dataframe thead th {\n",
       "        text-align: right;\n",
       "    }\n",
       "</style>\n",
       "<table border=\"1\" class=\"dataframe\">\n",
       "  <thead>\n",
       "    <tr style=\"text-align: right;\">\n",
       "      <th></th>\n",
       "      <th>and</th>\n",
       "      <th>black</th>\n",
       "      <th>blue</th>\n",
       "      <th>car</th>\n",
       "      <th>crow</th>\n",
       "      <th>in</th>\n",
       "      <th>my</th>\n",
       "      <th>reflection</th>\n",
       "      <th>see</th>\n",
       "      <th>the</th>\n",
       "      <th>window</th>\n",
       "    </tr>\n",
       "  </thead>\n",
       "  <tbody>\n",
       "    <tr>\n",
       "      <th>0</th>\n",
       "      <td>1</td>\n",
       "      <td>0</td>\n",
       "      <td>1</td>\n",
       "      <td>1</td>\n",
       "      <td>0</td>\n",
       "      <td>0</td>\n",
       "      <td>0</td>\n",
       "      <td>0</td>\n",
       "      <td>0</td>\n",
       "      <td>0</td>\n",
       "      <td>1</td>\n",
       "    </tr>\n",
       "    <tr>\n",
       "      <th>1</th>\n",
       "      <td>0</td>\n",
       "      <td>1</td>\n",
       "      <td>0</td>\n",
       "      <td>0</td>\n",
       "      <td>1</td>\n",
       "      <td>1</td>\n",
       "      <td>0</td>\n",
       "      <td>0</td>\n",
       "      <td>0</td>\n",
       "      <td>1</td>\n",
       "      <td>1</td>\n",
       "    </tr>\n",
       "    <tr>\n",
       "      <th>2</th>\n",
       "      <td>0</td>\n",
       "      <td>0</td>\n",
       "      <td>0</td>\n",
       "      <td>0</td>\n",
       "      <td>0</td>\n",
       "      <td>1</td>\n",
       "      <td>1</td>\n",
       "      <td>1</td>\n",
       "      <td>1</td>\n",
       "      <td>1</td>\n",
       "      <td>1</td>\n",
       "    </tr>\n",
       "  </tbody>\n",
       "</table>\n",
       "</div>"
      ],
      "text/plain": [
       "   and  black  blue  car  crow  in  my  reflection  see  the  window\n",
       "0    1      0     1    1     0   0   0           0    0    0       1\n",
       "1    0      1     0    0     1   1   0           0    0    1       1\n",
       "2    0      0     0    0     0   1   1           1    1    1       1"
      ]
     },
     "execution_count": 12,
     "metadata": {},
     "output_type": "execute_result"
    }
   ],
   "source": [
    "import pandas as pd\n",
    "pd.DataFrame(vec.transform(texts).toarray(), columns=sorted(vec.vocabulary_.keys()))"
   ]
  },
  {
   "cell_type": "markdown",
   "id": "10b7e4bd",
   "metadata": {},
   "source": [
    "## Checks how many times a word appeared."
   ]
  },
  {
   "cell_type": "code",
   "execution_count": 13,
   "id": "16f85314",
   "metadata": {},
   "outputs": [
    {
     "data": {
      "text/html": [
       "<div>\n",
       "<style scoped>\n",
       "    .dataframe tbody tr th:only-of-type {\n",
       "        vertical-align: middle;\n",
       "    }\n",
       "\n",
       "    .dataframe tbody tr th {\n",
       "        vertical-align: top;\n",
       "    }\n",
       "\n",
       "    .dataframe thead th {\n",
       "        text-align: right;\n",
       "    }\n",
       "</style>\n",
       "<table border=\"1\" class=\"dataframe\">\n",
       "  <thead>\n",
       "    <tr style=\"text-align: right;\">\n",
       "      <th></th>\n",
       "      <th>and</th>\n",
       "      <th>black</th>\n",
       "      <th>blue</th>\n",
       "      <th>car</th>\n",
       "      <th>crow</th>\n",
       "      <th>in</th>\n",
       "      <th>my</th>\n",
       "      <th>reflection</th>\n",
       "      <th>see</th>\n",
       "      <th>the</th>\n",
       "      <th>window</th>\n",
       "    </tr>\n",
       "  </thead>\n",
       "  <tbody>\n",
       "    <tr>\n",
       "      <th>0</th>\n",
       "      <td>1</td>\n",
       "      <td>0</td>\n",
       "      <td>2</td>\n",
       "      <td>1</td>\n",
       "      <td>0</td>\n",
       "      <td>0</td>\n",
       "      <td>0</td>\n",
       "      <td>0</td>\n",
       "      <td>0</td>\n",
       "      <td>0</td>\n",
       "      <td>1</td>\n",
       "    </tr>\n",
       "    <tr>\n",
       "      <th>1</th>\n",
       "      <td>0</td>\n",
       "      <td>1</td>\n",
       "      <td>0</td>\n",
       "      <td>0</td>\n",
       "      <td>1</td>\n",
       "      <td>1</td>\n",
       "      <td>0</td>\n",
       "      <td>0</td>\n",
       "      <td>0</td>\n",
       "      <td>1</td>\n",
       "      <td>1</td>\n",
       "    </tr>\n",
       "    <tr>\n",
       "      <th>2</th>\n",
       "      <td>0</td>\n",
       "      <td>0</td>\n",
       "      <td>0</td>\n",
       "      <td>0</td>\n",
       "      <td>0</td>\n",
       "      <td>1</td>\n",
       "      <td>1</td>\n",
       "      <td>1</td>\n",
       "      <td>1</td>\n",
       "      <td>1</td>\n",
       "      <td>1</td>\n",
       "    </tr>\n",
       "  </tbody>\n",
       "</table>\n",
       "</div>"
      ],
      "text/plain": [
       "   and  black  blue  car  crow  in  my  reflection  see  the  window\n",
       "0    1      0     2    1     0   0   0           0    0    0       1\n",
       "1    0      1     0    0     1   1   0           0    0    1       1\n",
       "2    0      0     0    0     0   1   1           1    1    1       1"
      ]
     },
     "execution_count": 13,
     "metadata": {},
     "output_type": "execute_result"
    }
   ],
   "source": [
    "from sklearn.feature_extraction.text import CountVectorizer\n",
    "vec = CountVectorizer(binary=False) # we cound ignore binary=False argument since it is default\n",
    "vec.fit(texts)\n",
    "\n",
    "import pandas as pd\n",
    "pd.DataFrame(vec.transform(texts).toarray(), columns=sorted(vec.vocabulary_.keys()))"
   ]
  },
  {
   "cell_type": "markdown",
   "id": "82ba17af",
   "metadata": {},
   "source": [
    "## TF-IDF"
   ]
  },
  {
   "cell_type": "code",
   "execution_count": 14,
   "id": "41e561af",
   "metadata": {},
   "outputs": [
    {
     "data": {
      "text/html": [
       "<div>\n",
       "<style scoped>\n",
       "    .dataframe tbody tr th:only-of-type {\n",
       "        vertical-align: middle;\n",
       "    }\n",
       "\n",
       "    .dataframe tbody tr th {\n",
       "        vertical-align: top;\n",
       "    }\n",
       "\n",
       "    .dataframe thead th {\n",
       "        text-align: right;\n",
       "    }\n",
       "</style>\n",
       "<table border=\"1\" class=\"dataframe\">\n",
       "  <thead>\n",
       "    <tr style=\"text-align: right;\">\n",
       "      <th></th>\n",
       "      <th>and</th>\n",
       "      <th>black</th>\n",
       "      <th>blue</th>\n",
       "      <th>car</th>\n",
       "      <th>crow</th>\n",
       "      <th>in</th>\n",
       "      <th>my</th>\n",
       "      <th>reflection</th>\n",
       "      <th>see</th>\n",
       "      <th>the</th>\n",
       "      <th>window</th>\n",
       "    </tr>\n",
       "  </thead>\n",
       "  <tbody>\n",
       "    <tr>\n",
       "      <th>0</th>\n",
       "      <td>0.396875</td>\n",
       "      <td>0.000000</td>\n",
       "      <td>0.793749</td>\n",
       "      <td>0.396875</td>\n",
       "      <td>0.000000</td>\n",
       "      <td>0.000000</td>\n",
       "      <td>0.00000</td>\n",
       "      <td>0.00000</td>\n",
       "      <td>0.00000</td>\n",
       "      <td>0.000000</td>\n",
       "      <td>0.234400</td>\n",
       "    </tr>\n",
       "    <tr>\n",
       "      <th>1</th>\n",
       "      <td>0.000000</td>\n",
       "      <td>0.534093</td>\n",
       "      <td>0.000000</td>\n",
       "      <td>0.000000</td>\n",
       "      <td>0.534093</td>\n",
       "      <td>0.406192</td>\n",
       "      <td>0.00000</td>\n",
       "      <td>0.00000</td>\n",
       "      <td>0.00000</td>\n",
       "      <td>0.406192</td>\n",
       "      <td>0.315444</td>\n",
       "    </tr>\n",
       "    <tr>\n",
       "      <th>2</th>\n",
       "      <td>0.000000</td>\n",
       "      <td>0.000000</td>\n",
       "      <td>0.000000</td>\n",
       "      <td>0.000000</td>\n",
       "      <td>0.000000</td>\n",
       "      <td>0.358291</td>\n",
       "      <td>0.47111</td>\n",
       "      <td>0.47111</td>\n",
       "      <td>0.47111</td>\n",
       "      <td>0.358291</td>\n",
       "      <td>0.278245</td>\n",
       "    </tr>\n",
       "  </tbody>\n",
       "</table>\n",
       "</div>"
      ],
      "text/plain": [
       "        and     black      blue       car      crow        in       my  \\\n",
       "0  0.396875  0.000000  0.793749  0.396875  0.000000  0.000000  0.00000   \n",
       "1  0.000000  0.534093  0.000000  0.000000  0.534093  0.406192  0.00000   \n",
       "2  0.000000  0.000000  0.000000  0.000000  0.000000  0.358291  0.47111   \n",
       "\n",
       "   reflection      see       the    window  \n",
       "0     0.00000  0.00000  0.000000  0.234400  \n",
       "1     0.00000  0.00000  0.406192  0.315444  \n",
       "2     0.47111  0.47111  0.358291  0.278245  "
      ]
     },
     "execution_count": 14,
     "metadata": {},
     "output_type": "execute_result"
    }
   ],
   "source": [
    "from sklearn.feature_extraction.text import TfidfVectorizer\n",
    "vec = TfidfVectorizer()\n",
    "vec.fit(texts)\n",
    "\n",
    "import pandas as pd\n",
    "pd.DataFrame(vec.transform(texts).toarray(), columns=sorted(vec.vocabulary_.keys()))"
   ]
  },
  {
   "cell_type": "code",
   "execution_count": null,
   "id": "af74f217",
   "metadata": {},
   "outputs": [],
   "source": []
  }
 ],
 "metadata": {
  "kernelspec": {
   "display_name": "Python 3",
   "language": "python",
   "name": "python3"
  },
  "language_info": {
   "codemirror_mode": {
    "name": "ipython",
    "version": 3
   },
   "file_extension": ".py",
   "mimetype": "text/x-python",
   "name": "python",
   "nbconvert_exporter": "python",
   "pygments_lexer": "ipython3",
   "version": "3.8.2"
  }
 },
 "nbformat": 4,
 "nbformat_minor": 5
}
